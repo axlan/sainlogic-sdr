{
 "cells": [
  {
   "cell_type": "code",
   "execution_count": 1,
   "metadata": {},
   "outputs": [
    {
     "output_type": "stream",
     "name": "stdout",
     "text": [
      "0\n(nan,)\n(-1.1404239276799636e+20,)\n1\n(-6798933229568.0,)\n(2.0642118498817297e-38,)\n2\n(-7168.0,)\n(8.06321149357143e-41,)\n3\n(-3.689416544658181e+19,)\n(-2.6470486421067964e-23,)\n4\n(5.524479065754159e-41,)\n(1.4142666408330647e-38,)\n5\n(1.4142691631703004e-38,)\n(4.057949800263461e-28,)\n6\n(-2.6484736404459876e-23,)\n(-1.7162493745958685e-36,)\n"
     ]
    }
   ],
   "source": [
    "import struct\n",
    "\n",
    "filename = 'gqrx_20210508_054747_433900000_3200000_fc.raw'\n",
    "# filename = 'gqrx_20210508_054923_433900000_3200000_fc.raw'\n",
    "# filename = 'gqrx_20210508_230809_433900000_3200000_fc.raw'\n",
    "# filename = 'gqrx_20210508_230857_433900000_3200000_fc.raw'\n",
    "# filename = 'gqrx_20210508_230930_433900000_3200000_fc.raw'\n",
    "# filename = 'gqrx_20210508_231001_433900000_3200000_fc.raw'\n",
    "\n",
    "\n",
    "with open(f'../out/{filename}.bin' ,'rb') as fd:\n",
    "    buffer = fd.read()\n",
    "\n",
    "for i in range(0,7):\n",
    "    print(i)\n",
    "    print(struct.unpack_from('>f',buffer[i:] ))\n",
    "    print(struct.unpack_from('<f',buffer[i:] ))"
   ]
  },
  {
   "cell_type": "code",
   "execution_count": 2,
   "metadata": {},
   "outputs": [
    {
     "output_type": "stream",
     "name": "stdout",
     "text": [
      "01100111\n(103,)\n(103,)\n00101110\n(46,)\n(46,)\n01010010\n(82,)\n(82,)\n10001001\n(-119,)\n(137,)\n10101101\n(-83,)\n(173,)\n11101110\n(-18,)\n(238,)\n00001100\n(12,)\n(12,)\n01000011\n(67,)\n(67,)\n01100011\n(99,)\n(99,)\n"
     ]
    }
   ],
   "source": [
    "import struct\n",
    "\n",
    "filenames = ['n1.raw'\n",
    ",'ne.raw'\n",
    ",'e.raw'\n",
    ",'se.raw'\n",
    ",'s.raw'\n",
    ",'sw.raw'\n",
    ",'w.raw'\n",
    ",'nw.raw'\n",
    ",'n2.raw']\n",
    "\n",
    "for name in filenames:\n",
    "\n",
    "    with open(f'../out/{name}.bin' ,'rb') as fd:\n",
    "        buffer = fd.read()\n",
    "\n",
    "    print(f'{buffer[6]:08b}')\n",
    "    print(struct.unpack('b', buffer[6:7]))\n",
    "    print(struct.unpack('B', buffer[6:7]))"
   ]
  },
  {
   "cell_type": "code",
   "execution_count": 3,
   "metadata": {},
   "outputs": [
    {
     "output_type": "stream",
     "name": "stdout",
     "text": [
      "255,212,205,196,000,000,103,000,000,132,087,047,255,251,251,082 n1.raw\n255,212,205,192,000,000,046,000,000,132,086,047,255,251,251,078 ne.raw\n255,212,205,192,000,000,082,000,000,132,086,047,255,251,251,208 e.raw\n255,212,205,192,000,000,137,000,000,132,086,047,255,251,251,118 se.raw\n255,212,205,192,000,000,173,000,000,132,087,047,255,251,251,086 s.raw\n255,212,205,192,000,000,238,000,000,132,086,047,255,251,251,225 sw.raw\n255,212,205,196,000,000,012,000,000,132,086,047,255,251,251,253 w.raw\n255,212,205,196,000,000,067,000,000,132,086,047,255,251,251,114 nw.raw\n255,212,205,196,000,000,099,000,000,132,086,047,255,251,251,055 n2.raw\n255,212,197,224,000,000,154,000,018,132,110,050,255,251,251,137 gqrx_20210508_054747_433900000_3200000_fc.raw\n255,212,197,224,000,000,155,000,018,132,110,050,255,251,251,060 gqrx_20210508_054923_433900000_3200000_fc.raw\n255,212,207,036,000,000,066,000,000,132,098,051,255,251,251,174 gqrx_20210508_230809_433900000_3200000_fc.raw\n255,212,207,032,000,000,034,000,000,132,098,051,255,251,251,204 gqrx_20210508_230857_433900000_3200000_fc.raw\n255,212,207,036,000,000,100,000,000,132,099,051,255,251,251,213 gqrx_20210508_230930_433900000_3200000_fc.raw\n255,212,207,036,016,043,066,000,000,132,099,052,255,251,251,180 gqrx_20210508_231001_433900000_3200000_fc.raw\n"
     ]
    }
   ],
   "source": [
    "import struct\n",
    "\n",
    "filenames = ['n1.raw'\n",
    ",'ne.raw'\n",
    ",'e.raw'\n",
    ",'se.raw'\n",
    ",'s.raw'\n",
    ",'sw.raw'\n",
    ",'w.raw'\n",
    ",'nw.raw'\n",
    ",'n2.raw',\n",
    "'gqrx_20210508_054747_433900000_3200000_fc.raw',\n",
    "'gqrx_20210508_054923_433900000_3200000_fc.raw',\n",
    "'gqrx_20210508_230809_433900000_3200000_fc.raw',\n",
    "'gqrx_20210508_230857_433900000_3200000_fc.raw',\n",
    "'gqrx_20210508_230930_433900000_3200000_fc.raw',\n",
    "'gqrx_20210508_231001_433900000_3200000_fc.raw']\n",
    "\n",
    "for name in filenames:\n",
    "\n",
    "    with open(f'../out/{name}.bin' ,'rb') as fd:\n",
    "        buffer = fd.read()\n",
    "    print(','.join([f'{val:03}' for val in buffer]), name)"
   ]
  },
  {
   "cell_type": "code",
   "execution_count": 4,
   "metadata": {},
   "outputs": [
    {
     "output_type": "stream",
     "name": "stdout",
     "text": [
      "[ 1  2  4 10]\n"
     ]
    }
   ],
   "source": [
    "import numpy as np\n",
    "\n",
    "a = np.array([1,2,4])\n",
    "\n",
    "print(np.append(a,10))"
   ]
  },
  {
   "cell_type": "code",
   "execution_count": null,
   "metadata": {},
   "outputs": [],
   "source": []
  }
 ],
 "metadata": {
  "kernelspec": {
   "name": "python385jvsc74a57bd031f2aee4e71d21fbe5cf8b01ff0e069b9275f58929596ceb00d14d90e3e16cd6",
   "display_name": "Python 3.8.5 64-bit"
  },
  "language_info": {
   "codemirror_mode": {
    "name": "ipython",
    "version": 3
   },
   "file_extension": ".py",
   "mimetype": "text/x-python",
   "name": "python",
   "nbconvert_exporter": "python",
   "pygments_lexer": "ipython3",
   "version": "3.8.5"
  },
  "metadata": {
   "interpreter": {
    "hash": "31f2aee4e71d21fbe5cf8b01ff0e069b9275f58929596ceb00d14d90e3e16cd6"
   }
  }
 },
 "nbformat": 4,
 "nbformat_minor": 2
}