{
 "metadata": {
  "language_info": {
   "codemirror_mode": {
    "name": "ipython",
    "version": 3
   },
   "file_extension": ".py",
   "mimetype": "text/x-python",
   "name": "python",
   "nbconvert_exporter": "python",
   "pygments_lexer": "ipython3",
   "version": "3.8.5"
  },
  "orig_nbformat": 2,
  "kernelspec": {
   "name": "python385jvsc74a57bd031f2aee4e71d21fbe5cf8b01ff0e069b9275f58929596ceb00d14d90e3e16cd6",
   "display_name": "Python 3.8.5 64-bit"
  },
  "metadata": {
   "interpreter": {
    "hash": "31f2aee4e71d21fbe5cf8b01ff0e069b9275f58929596ceb00d14d90e3e16cd6"
   }
  }
 },
 "nbformat": 4,
 "nbformat_minor": 2,
 "cells": [
  {
   "cell_type": "code",
   "execution_count": 54,
   "metadata": {},
   "outputs": [
    {
     "output_type": "stream",
     "name": "stdout",
     "text": [
      "                     temp  humidity  wind_dir  avr_wind  gust_wind\ntime                                                              \n2021-05-20 21:33:23  65.2      35.0      78.0       2.5        5.6\n2021-05-20 21:33:39  64.7      35.0     150.0       3.8        6.6\n2021-05-20 21:33:55  64.1      36.0     139.0       2.4        3.0\n2021-05-20 21:34:11  64.3      37.0     152.0       1.9        2.6\n2021-05-20 21:34:27  65.2      36.0      63.0       2.1        2.6\n...                   ...       ...       ...       ...        ...\n2021-05-20 23:31:14  63.7      43.0     153.0       3.4        4.3\n2021-05-20 23:31:30  63.9      43.0     128.0       2.5        4.0\n2021-05-20 23:31:46  63.8      43.0      97.0       3.3        4.6\n2021-05-20 23:32:02  62.6      44.0      59.0       4.6        6.3\n2021-05-20 23:32:18  63.2      44.0      48.0       2.7        4.0\n\n[425 rows x 5 columns]\n3 CRC Failures\n"
     ]
    }
   ],
   "source": [
    "import struct\n",
    "from datetime import datetime\n",
    "from collections import defaultdict\n",
    "\n",
    "import pandas as pd\n",
    "\n",
    "import sys  \n",
    "sys.path.insert(0, '/home/axlan/src/sainlogic-sdr/gr-sainlogic/python')\n",
    "from sainlogic_parser import get_measurements\n",
    "\n",
    "filename = '../out/sainlog_log_20210520_213311.bin'\n",
    "\n",
    "with open(filename, 'rb') as fd:\n",
    "    packed_data = fd.read()\n",
    "\n",
    "data = []\n",
    "\n",
    "iter = struct.iter_unpack('I16B', packed_data)\n",
    "\n",
    "for unpacked in iter:\n",
    "    msg_data = unpacked[1:]\n",
    "    values = get_measurements(msg_data)\n",
    "    if values is None:\n",
    "        values = {}\n",
    "    values['time'] = datetime.utcfromtimestamp(unpacked[0])\n",
    "    data.append(values)\n",
    "\n",
    "df = pd.DataFrame(data)\n",
    "df.set_index('time', inplace=True)\n",
    "\n",
    "print(df)\n",
    "\n",
    "print(f'{sum(df[\"temp\"].isna())} CRC Failures')\n",
    "\n"
   ]
  },
  {
   "cell_type": "code",
   "execution_count": 55,
   "metadata": {},
   "outputs": [
    {
     "output_type": "display_data",
     "data": {
      "application/vnd.plotly.v1+json": {
       "config": {
        "plotlyServerURL": "https://plot.ly"
       },
       "data": [
        {
         "alignmentgroup": "True",
         "bingroup": "x",
         "histnorm": "percent",
         "hovertemplate": "variable=0<br>value=%{x}<br>count=%{y}<extra></extra>",
         "legendgroup": "0",
         "marker": {
          "color": "#636efa"
         },
         "name": "0",
         "nbinsx": 20,
         "offsetgroup": "0",
         "orientation": "v",
         "showlegend": true,
         "type": "histogram",
         "x": [
          16,
          16,
          16,
          16,
          16,
          0,
          16,
          16,
          16,
          16,
          16,
          16,
          16,
          16,
          16,
          16,
          16,
          16,
          16,
          16,
          16,
          16,
          16,
          16,
          16,
          16,
          16,
          16,
          16,
          16,
          16,
          16,
          0,
          16,
          16,
          16,
          16,
          16,
          16,
          16,
          16,
          16,
          32,
          16,
          16,
          16,
          16,
          16,
          16,
          16,
          16,
          16,
          16,
          16,
          16,
          16,
          16,
          16,
          0,
          32,
          32,
          32,
          32,
          32,
          32,
          32,
          16,
          16,
          16,
          16,
          16,
          16,
          16,
          16,
          16,
          16,
          16,
          16,
          16,
          16,
          16,
          16,
          16,
          16,
          16,
          16,
          16,
          16,
          16,
          16,
          16,
          16,
          0,
          16,
          16,
          16,
          16,
          0,
          16,
          16,
          16,
          16,
          0,
          16,
          16,
          16,
          16,
          16,
          16,
          16,
          16,
          16,
          16,
          16,
          16,
          16,
          16,
          0,
          32,
          32,
          32,
          32,
          32,
          32,
          32,
          32,
          32,
          32,
          32,
          16,
          16,
          16,
          16,
          16,
          16,
          16,
          16,
          16,
          16,
          16,
          16,
          16,
          16,
          16,
          16,
          16,
          16,
          16,
          16,
          16,
          16,
          16,
          16,
          16,
          16,
          16,
          16,
          16,
          16,
          0,
          16,
          16,
          16,
          16,
          16,
          16,
          16,
          16,
          16,
          16,
          16,
          16,
          16,
          16,
          16,
          16,
          16,
          16,
          16,
          16,
          16,
          16,
          16,
          16,
          16,
          16,
          16,
          16,
          16,
          16,
          16,
          16,
          16,
          16,
          16,
          16,
          16,
          16,
          16,
          16,
          32,
          16,
          16,
          0,
          16,
          16,
          16,
          16,
          16,
          16,
          16,
          16,
          16,
          16,
          16,
          16,
          16,
          16,
          16,
          16,
          16,
          16,
          16,
          16,
          16,
          16,
          16,
          16,
          16,
          16,
          16,
          16,
          16,
          16,
          16,
          16,
          16,
          16,
          16,
          16,
          16,
          16,
          16,
          16,
          16,
          16,
          16,
          16,
          16,
          16,
          16,
          16,
          16,
          16,
          16,
          16,
          16,
          16,
          16,
          16,
          16,
          16,
          16,
          16,
          16,
          16,
          16,
          16,
          16,
          16,
          16,
          16,
          16,
          16,
          16,
          16,
          16,
          16,
          16,
          16,
          16,
          16,
          16,
          16,
          16,
          16,
          16,
          16,
          16,
          16,
          16,
          16,
          16,
          16,
          16,
          16,
          16,
          16,
          16,
          16,
          16,
          16,
          16,
          16,
          16,
          16,
          16,
          16,
          16,
          16,
          16,
          16,
          16,
          16,
          16,
          16,
          16,
          16,
          16,
          16,
          16,
          16,
          16,
          16,
          16,
          16,
          16,
          16,
          16,
          17,
          15,
          16,
          16,
          16,
          16,
          16,
          16,
          16,
          16,
          16,
          16,
          16,
          16,
          16,
          16,
          16,
          16,
          16,
          16,
          16,
          16,
          16,
          32,
          16,
          16,
          16,
          16,
          16,
          16,
          0,
          16,
          16,
          16,
          16,
          16,
          18,
          14,
          16,
          16,
          16,
          16,
          16,
          15,
          16,
          17,
          15,
          17,
          15,
          1,
          15,
          16,
          16,
          16,
          16,
          17,
          15,
          16,
          1,
          32,
          32,
          32,
          32,
          32,
          32,
          32,
          32,
          32,
          32,
          32,
          32,
          15,
          16,
          16,
          16,
          16,
          16,
          16,
          16,
          16,
          16,
          16,
          16,
          16,
          16,
          32,
          16,
          16,
          16,
          16,
          16,
          16,
          16,
          16,
          16
         ],
         "xaxis": "x",
         "yaxis": "y"
        }
       ],
       "layout": {
        "barmode": "relative",
        "legend": {
         "title": {
          "text": "variable"
         },
         "tracegroupgap": 0
        },
        "margin": {
         "t": 60
        },
        "template": {
         "data": {
          "bar": [
           {
            "error_x": {
             "color": "#2a3f5f"
            },
            "error_y": {
             "color": "#2a3f5f"
            },
            "marker": {
             "line": {
              "color": "#E5ECF6",
              "width": 0.5
             }
            },
            "type": "bar"
           }
          ],
          "barpolar": [
           {
            "marker": {
             "line": {
              "color": "#E5ECF6",
              "width": 0.5
             }
            },
            "type": "barpolar"
           }
          ],
          "carpet": [
           {
            "aaxis": {
             "endlinecolor": "#2a3f5f",
             "gridcolor": "white",
             "linecolor": "white",
             "minorgridcolor": "white",
             "startlinecolor": "#2a3f5f"
            },
            "baxis": {
             "endlinecolor": "#2a3f5f",
             "gridcolor": "white",
             "linecolor": "white",
             "minorgridcolor": "white",
             "startlinecolor": "#2a3f5f"
            },
            "type": "carpet"
           }
          ],
          "choropleth": [
           {
            "colorbar": {
             "outlinewidth": 0,
             "ticks": ""
            },
            "type": "choropleth"
           }
          ],
          "contour": [
           {
            "colorbar": {
             "outlinewidth": 0,
             "ticks": ""
            },
            "colorscale": [
             [
              0,
              "#0d0887"
             ],
             [
              0.1111111111111111,
              "#46039f"
             ],
             [
              0.2222222222222222,
              "#7201a8"
             ],
             [
              0.3333333333333333,
              "#9c179e"
             ],
             [
              0.4444444444444444,
              "#bd3786"
             ],
             [
              0.5555555555555556,
              "#d8576b"
             ],
             [
              0.6666666666666666,
              "#ed7953"
             ],
             [
              0.7777777777777778,
              "#fb9f3a"
             ],
             [
              0.8888888888888888,
              "#fdca26"
             ],
             [
              1,
              "#f0f921"
             ]
            ],
            "type": "contour"
           }
          ],
          "contourcarpet": [
           {
            "colorbar": {
             "outlinewidth": 0,
             "ticks": ""
            },
            "type": "contourcarpet"
           }
          ],
          "heatmap": [
           {
            "colorbar": {
             "outlinewidth": 0,
             "ticks": ""
            },
            "colorscale": [
             [
              0,
              "#0d0887"
             ],
             [
              0.1111111111111111,
              "#46039f"
             ],
             [
              0.2222222222222222,
              "#7201a8"
             ],
             [
              0.3333333333333333,
              "#9c179e"
             ],
             [
              0.4444444444444444,
              "#bd3786"
             ],
             [
              0.5555555555555556,
              "#d8576b"
             ],
             [
              0.6666666666666666,
              "#ed7953"
             ],
             [
              0.7777777777777778,
              "#fb9f3a"
             ],
             [
              0.8888888888888888,
              "#fdca26"
             ],
             [
              1,
              "#f0f921"
             ]
            ],
            "type": "heatmap"
           }
          ],
          "heatmapgl": [
           {
            "colorbar": {
             "outlinewidth": 0,
             "ticks": ""
            },
            "colorscale": [
             [
              0,
              "#0d0887"
             ],
             [
              0.1111111111111111,
              "#46039f"
             ],
             [
              0.2222222222222222,
              "#7201a8"
             ],
             [
              0.3333333333333333,
              "#9c179e"
             ],
             [
              0.4444444444444444,
              "#bd3786"
             ],
             [
              0.5555555555555556,
              "#d8576b"
             ],
             [
              0.6666666666666666,
              "#ed7953"
             ],
             [
              0.7777777777777778,
              "#fb9f3a"
             ],
             [
              0.8888888888888888,
              "#fdca26"
             ],
             [
              1,
              "#f0f921"
             ]
            ],
            "type": "heatmapgl"
           }
          ],
          "histogram": [
           {
            "marker": {
             "colorbar": {
              "outlinewidth": 0,
              "ticks": ""
             }
            },
            "type": "histogram"
           }
          ],
          "histogram2d": [
           {
            "colorbar": {
             "outlinewidth": 0,
             "ticks": ""
            },
            "colorscale": [
             [
              0,
              "#0d0887"
             ],
             [
              0.1111111111111111,
              "#46039f"
             ],
             [
              0.2222222222222222,
              "#7201a8"
             ],
             [
              0.3333333333333333,
              "#9c179e"
             ],
             [
              0.4444444444444444,
              "#bd3786"
             ],
             [
              0.5555555555555556,
              "#d8576b"
             ],
             [
              0.6666666666666666,
              "#ed7953"
             ],
             [
              0.7777777777777778,
              "#fb9f3a"
             ],
             [
              0.8888888888888888,
              "#fdca26"
             ],
             [
              1,
              "#f0f921"
             ]
            ],
            "type": "histogram2d"
           }
          ],
          "histogram2dcontour": [
           {
            "colorbar": {
             "outlinewidth": 0,
             "ticks": ""
            },
            "colorscale": [
             [
              0,
              "#0d0887"
             ],
             [
              0.1111111111111111,
              "#46039f"
             ],
             [
              0.2222222222222222,
              "#7201a8"
             ],
             [
              0.3333333333333333,
              "#9c179e"
             ],
             [
              0.4444444444444444,
              "#bd3786"
             ],
             [
              0.5555555555555556,
              "#d8576b"
             ],
             [
              0.6666666666666666,
              "#ed7953"
             ],
             [
              0.7777777777777778,
              "#fb9f3a"
             ],
             [
              0.8888888888888888,
              "#fdca26"
             ],
             [
              1,
              "#f0f921"
             ]
            ],
            "type": "histogram2dcontour"
           }
          ],
          "mesh3d": [
           {
            "colorbar": {
             "outlinewidth": 0,
             "ticks": ""
            },
            "type": "mesh3d"
           }
          ],
          "parcoords": [
           {
            "line": {
             "colorbar": {
              "outlinewidth": 0,
              "ticks": ""
             }
            },
            "type": "parcoords"
           }
          ],
          "pie": [
           {
            "automargin": true,
            "type": "pie"
           }
          ],
          "scatter": [
           {
            "marker": {
             "colorbar": {
              "outlinewidth": 0,
              "ticks": ""
             }
            },
            "type": "scatter"
           }
          ],
          "scatter3d": [
           {
            "line": {
             "colorbar": {
              "outlinewidth": 0,
              "ticks": ""
             }
            },
            "marker": {
             "colorbar": {
              "outlinewidth": 0,
              "ticks": ""
             }
            },
            "type": "scatter3d"
           }
          ],
          "scattercarpet": [
           {
            "marker": {
             "colorbar": {
              "outlinewidth": 0,
              "ticks": ""
             }
            },
            "type": "scattercarpet"
           }
          ],
          "scattergeo": [
           {
            "marker": {
             "colorbar": {
              "outlinewidth": 0,
              "ticks": ""
             }
            },
            "type": "scattergeo"
           }
          ],
          "scattergl": [
           {
            "marker": {
             "colorbar": {
              "outlinewidth": 0,
              "ticks": ""
             }
            },
            "type": "scattergl"
           }
          ],
          "scattermapbox": [
           {
            "marker": {
             "colorbar": {
              "outlinewidth": 0,
              "ticks": ""
             }
            },
            "type": "scattermapbox"
           }
          ],
          "scatterpolar": [
           {
            "marker": {
             "colorbar": {
              "outlinewidth": 0,
              "ticks": ""
             }
            },
            "type": "scatterpolar"
           }
          ],
          "scatterpolargl": [
           {
            "marker": {
             "colorbar": {
              "outlinewidth": 0,
              "ticks": ""
             }
            },
            "type": "scatterpolargl"
           }
          ],
          "scatterternary": [
           {
            "marker": {
             "colorbar": {
              "outlinewidth": 0,
              "ticks": ""
             }
            },
            "type": "scatterternary"
           }
          ],
          "surface": [
           {
            "colorbar": {
             "outlinewidth": 0,
             "ticks": ""
            },
            "colorscale": [
             [
              0,
              "#0d0887"
             ],
             [
              0.1111111111111111,
              "#46039f"
             ],
             [
              0.2222222222222222,
              "#7201a8"
             ],
             [
              0.3333333333333333,
              "#9c179e"
             ],
             [
              0.4444444444444444,
              "#bd3786"
             ],
             [
              0.5555555555555556,
              "#d8576b"
             ],
             [
              0.6666666666666666,
              "#ed7953"
             ],
             [
              0.7777777777777778,
              "#fb9f3a"
             ],
             [
              0.8888888888888888,
              "#fdca26"
             ],
             [
              1,
              "#f0f921"
             ]
            ],
            "type": "surface"
           }
          ],
          "table": [
           {
            "cells": {
             "fill": {
              "color": "#EBF0F8"
             },
             "line": {
              "color": "white"
             }
            },
            "header": {
             "fill": {
              "color": "#C8D4E3"
             },
             "line": {
              "color": "white"
             }
            },
            "type": "table"
           }
          ]
         },
         "layout": {
          "annotationdefaults": {
           "arrowcolor": "#2a3f5f",
           "arrowhead": 0,
           "arrowwidth": 1
          },
          "coloraxis": {
           "colorbar": {
            "outlinewidth": 0,
            "ticks": ""
           }
          },
          "colorscale": {
           "diverging": [
            [
             0,
             "#8e0152"
            ],
            [
             0.1,
             "#c51b7d"
            ],
            [
             0.2,
             "#de77ae"
            ],
            [
             0.3,
             "#f1b6da"
            ],
            [
             0.4,
             "#fde0ef"
            ],
            [
             0.5,
             "#f7f7f7"
            ],
            [
             0.6,
             "#e6f5d0"
            ],
            [
             0.7,
             "#b8e186"
            ],
            [
             0.8,
             "#7fbc41"
            ],
            [
             0.9,
             "#4d9221"
            ],
            [
             1,
             "#276419"
            ]
           ],
           "sequential": [
            [
             0,
             "#0d0887"
            ],
            [
             0.1111111111111111,
             "#46039f"
            ],
            [
             0.2222222222222222,
             "#7201a8"
            ],
            [
             0.3333333333333333,
             "#9c179e"
            ],
            [
             0.4444444444444444,
             "#bd3786"
            ],
            [
             0.5555555555555556,
             "#d8576b"
            ],
            [
             0.6666666666666666,
             "#ed7953"
            ],
            [
             0.7777777777777778,
             "#fb9f3a"
            ],
            [
             0.8888888888888888,
             "#fdca26"
            ],
            [
             1,
             "#f0f921"
            ]
           ],
           "sequentialminus": [
            [
             0,
             "#0d0887"
            ],
            [
             0.1111111111111111,
             "#46039f"
            ],
            [
             0.2222222222222222,
             "#7201a8"
            ],
            [
             0.3333333333333333,
             "#9c179e"
            ],
            [
             0.4444444444444444,
             "#bd3786"
            ],
            [
             0.5555555555555556,
             "#d8576b"
            ],
            [
             0.6666666666666666,
             "#ed7953"
            ],
            [
             0.7777777777777778,
             "#fb9f3a"
            ],
            [
             0.8888888888888888,
             "#fdca26"
            ],
            [
             1,
             "#f0f921"
            ]
           ]
          },
          "colorway": [
           "#636efa",
           "#EF553B",
           "#00cc96",
           "#ab63fa",
           "#FFA15A",
           "#19d3f3",
           "#FF6692",
           "#B6E880",
           "#FF97FF",
           "#FECB52"
          ],
          "font": {
           "color": "#2a3f5f"
          },
          "geo": {
           "bgcolor": "white",
           "lakecolor": "white",
           "landcolor": "#E5ECF6",
           "showlakes": true,
           "showland": true,
           "subunitcolor": "white"
          },
          "hoverlabel": {
           "align": "left"
          },
          "hovermode": "closest",
          "mapbox": {
           "style": "light"
          },
          "paper_bgcolor": "white",
          "plot_bgcolor": "#E5ECF6",
          "polar": {
           "angularaxis": {
            "gridcolor": "white",
            "linecolor": "white",
            "ticks": ""
           },
           "bgcolor": "#E5ECF6",
           "radialaxis": {
            "gridcolor": "white",
            "linecolor": "white",
            "ticks": ""
           }
          },
          "scene": {
           "xaxis": {
            "backgroundcolor": "#E5ECF6",
            "gridcolor": "white",
            "gridwidth": 2,
            "linecolor": "white",
            "showbackground": true,
            "ticks": "",
            "zerolinecolor": "white"
           },
           "yaxis": {
            "backgroundcolor": "#E5ECF6",
            "gridcolor": "white",
            "gridwidth": 2,
            "linecolor": "white",
            "showbackground": true,
            "ticks": "",
            "zerolinecolor": "white"
           },
           "zaxis": {
            "backgroundcolor": "#E5ECF6",
            "gridcolor": "white",
            "gridwidth": 2,
            "linecolor": "white",
            "showbackground": true,
            "ticks": "",
            "zerolinecolor": "white"
           }
          },
          "shapedefaults": {
           "line": {
            "color": "#2a3f5f"
           }
          },
          "ternary": {
           "aaxis": {
            "gridcolor": "white",
            "linecolor": "white",
            "ticks": ""
           },
           "baxis": {
            "gridcolor": "white",
            "linecolor": "white",
            "ticks": ""
           },
           "bgcolor": "#E5ECF6",
           "caxis": {
            "gridcolor": "white",
            "linecolor": "white",
            "ticks": ""
           }
          },
          "title": {
           "x": 0.05
          },
          "xaxis": {
           "automargin": true,
           "gridcolor": "white",
           "linecolor": "white",
           "ticks": "",
           "title": {
            "standoff": 15
           },
           "zerolinecolor": "white",
           "zerolinewidth": 2
          },
          "yaxis": {
           "automargin": true,
           "gridcolor": "white",
           "linecolor": "white",
           "ticks": "",
           "title": {
            "standoff": 15
           },
           "zerolinecolor": "white",
           "zerolinewidth": 2
          }
         }
        },
        "xaxis": {
         "anchor": "y",
         "domain": [
          0,
          1
         ],
         "title": {
          "text": "value"
         }
        },
        "yaxis": {
         "anchor": "x",
         "domain": [
          0,
          1
         ],
         "title": {
          "text": "count"
         }
        }
       }
      },
      "text/html": "<div>\n        \n        \n            <div id=\"91c019ad-3006-4bf2-b767-fddea093bde5\" class=\"plotly-graph-div\" style=\"height:525px; width:100%;\"></div>\n            <script type=\"text/javascript\">\n                require([\"plotly\"], function(Plotly) {\n                    window.PLOTLYENV=window.PLOTLYENV || {};\n                    \n                if (document.getElementById(\"91c019ad-3006-4bf2-b767-fddea093bde5\")) {\n                    Plotly.newPlot(\n                        '91c019ad-3006-4bf2-b767-fddea093bde5',\n                        [{\"alignmentgroup\": \"True\", \"bingroup\": \"x\", \"histnorm\": \"percent\", \"hovertemplate\": \"variable=0<br>value=%{x}<br>count=%{y}<extra></extra>\", \"legendgroup\": \"0\", \"marker\": {\"color\": \"#636efa\"}, \"name\": \"0\", \"nbinsx\": 20, \"offsetgroup\": \"0\", \"orientation\": \"v\", \"showlegend\": true, \"type\": \"histogram\", \"x\": [16, 16, 16, 16, 16, 0, 16, 16, 16, 16, 16, 16, 16, 16, 16, 16, 16, 16, 16, 16, 16, 16, 16, 16, 16, 16, 16, 16, 16, 16, 16, 16, 0, 16, 16, 16, 16, 16, 16, 16, 16, 16, 32, 16, 16, 16, 16, 16, 16, 16, 16, 16, 16, 16, 16, 16, 16, 16, 0, 32, 32, 32, 32, 32, 32, 32, 16, 16, 16, 16, 16, 16, 16, 16, 16, 16, 16, 16, 16, 16, 16, 16, 16, 16, 16, 16, 16, 16, 16, 16, 16, 16, 0, 16, 16, 16, 16, 0, 16, 16, 16, 16, 0, 16, 16, 16, 16, 16, 16, 16, 16, 16, 16, 16, 16, 16, 16, 0, 32, 32, 32, 32, 32, 32, 32, 32, 32, 32, 32, 16, 16, 16, 16, 16, 16, 16, 16, 16, 16, 16, 16, 16, 16, 16, 16, 16, 16, 16, 16, 16, 16, 16, 16, 16, 16, 16, 16, 16, 16, 0, 16, 16, 16, 16, 16, 16, 16, 16, 16, 16, 16, 16, 16, 16, 16, 16, 16, 16, 16, 16, 16, 16, 16, 16, 16, 16, 16, 16, 16, 16, 16, 16, 16, 16, 16, 16, 16, 16, 16, 16, 32, 16, 16, 0, 16, 16, 16, 16, 16, 16, 16, 16, 16, 16, 16, 16, 16, 16, 16, 16, 16, 16, 16, 16, 16, 16, 16, 16, 16, 16, 16, 16, 16, 16, 16, 16, 16, 16, 16, 16, 16, 16, 16, 16, 16, 16, 16, 16, 16, 16, 16, 16, 16, 16, 16, 16, 16, 16, 16, 16, 16, 16, 16, 16, 16, 16, 16, 16, 16, 16, 16, 16, 16, 16, 16, 16, 16, 16, 16, 16, 16, 16, 16, 16, 16, 16, 16, 16, 16, 16, 16, 16, 16, 16, 16, 16, 16, 16, 16, 16, 16, 16, 16, 16, 16, 16, 16, 16, 16, 16, 16, 16, 16, 16, 16, 16, 16, 16, 16, 16, 16, 16, 16, 16, 16, 16, 16, 16, 16, 17, 15, 16, 16, 16, 16, 16, 16, 16, 16, 16, 16, 16, 16, 16, 16, 16, 16, 16, 16, 16, 16, 16, 32, 16, 16, 16, 16, 16, 16, 0, 16, 16, 16, 16, 16, 18, 14, 16, 16, 16, 16, 16, 15, 16, 17, 15, 17, 15, 1, 15, 16, 16, 16, 16, 17, 15, 16, 1, 32, 32, 32, 32, 32, 32, 32, 32, 32, 32, 32, 32, 15, 16, 16, 16, 16, 16, 16, 16, 16, 16, 16, 16, 16, 16, 32, 16, 16, 16, 16, 16, 16, 16, 16, 16], \"xaxis\": \"x\", \"yaxis\": \"y\"}],\n                        {\"barmode\": \"relative\", \"legend\": {\"title\": {\"text\": \"variable\"}, \"tracegroupgap\": 0}, \"margin\": {\"t\": 60}, \"template\": {\"data\": {\"bar\": [{\"error_x\": {\"color\": \"#2a3f5f\"}, \"error_y\": {\"color\": \"#2a3f5f\"}, \"marker\": {\"line\": {\"color\": \"#E5ECF6\", \"width\": 0.5}}, \"type\": \"bar\"}], \"barpolar\": [{\"marker\": {\"line\": {\"color\": \"#E5ECF6\", \"width\": 0.5}}, \"type\": \"barpolar\"}], \"carpet\": [{\"aaxis\": {\"endlinecolor\": \"#2a3f5f\", \"gridcolor\": \"white\", \"linecolor\": \"white\", \"minorgridcolor\": \"white\", \"startlinecolor\": \"#2a3f5f\"}, \"baxis\": {\"endlinecolor\": \"#2a3f5f\", \"gridcolor\": \"white\", \"linecolor\": \"white\", \"minorgridcolor\": \"white\", \"startlinecolor\": \"#2a3f5f\"}, \"type\": \"carpet\"}], \"choropleth\": [{\"colorbar\": {\"outlinewidth\": 0, \"ticks\": \"\"}, \"type\": \"choropleth\"}], \"contour\": [{\"colorbar\": {\"outlinewidth\": 0, \"ticks\": \"\"}, \"colorscale\": [[0.0, \"#0d0887\"], [0.1111111111111111, \"#46039f\"], [0.2222222222222222, \"#7201a8\"], [0.3333333333333333, \"#9c179e\"], [0.4444444444444444, \"#bd3786\"], [0.5555555555555556, \"#d8576b\"], [0.6666666666666666, \"#ed7953\"], [0.7777777777777778, \"#fb9f3a\"], [0.8888888888888888, \"#fdca26\"], [1.0, \"#f0f921\"]], \"type\": \"contour\"}], \"contourcarpet\": [{\"colorbar\": {\"outlinewidth\": 0, \"ticks\": \"\"}, \"type\": \"contourcarpet\"}], \"heatmap\": [{\"colorbar\": {\"outlinewidth\": 0, \"ticks\": \"\"}, \"colorscale\": [[0.0, \"#0d0887\"], [0.1111111111111111, \"#46039f\"], [0.2222222222222222, \"#7201a8\"], [0.3333333333333333, \"#9c179e\"], [0.4444444444444444, \"#bd3786\"], [0.5555555555555556, \"#d8576b\"], [0.6666666666666666, \"#ed7953\"], [0.7777777777777778, \"#fb9f3a\"], [0.8888888888888888, \"#fdca26\"], [1.0, \"#f0f921\"]], \"type\": \"heatmap\"}], \"heatmapgl\": [{\"colorbar\": {\"outlinewidth\": 0, \"ticks\": \"\"}, \"colorscale\": [[0.0, \"#0d0887\"], [0.1111111111111111, \"#46039f\"], [0.2222222222222222, \"#7201a8\"], [0.3333333333333333, \"#9c179e\"], [0.4444444444444444, \"#bd3786\"], [0.5555555555555556, \"#d8576b\"], [0.6666666666666666, \"#ed7953\"], [0.7777777777777778, \"#fb9f3a\"], [0.8888888888888888, \"#fdca26\"], [1.0, \"#f0f921\"]], \"type\": \"heatmapgl\"}], \"histogram\": [{\"marker\": {\"colorbar\": {\"outlinewidth\": 0, \"ticks\": \"\"}}, \"type\": \"histogram\"}], \"histogram2d\": [{\"colorbar\": {\"outlinewidth\": 0, \"ticks\": \"\"}, \"colorscale\": [[0.0, \"#0d0887\"], [0.1111111111111111, \"#46039f\"], [0.2222222222222222, \"#7201a8\"], [0.3333333333333333, \"#9c179e\"], [0.4444444444444444, \"#bd3786\"], [0.5555555555555556, \"#d8576b\"], [0.6666666666666666, \"#ed7953\"], [0.7777777777777778, \"#fb9f3a\"], [0.8888888888888888, \"#fdca26\"], [1.0, \"#f0f921\"]], \"type\": \"histogram2d\"}], \"histogram2dcontour\": [{\"colorbar\": {\"outlinewidth\": 0, \"ticks\": \"\"}, \"colorscale\": [[0.0, \"#0d0887\"], [0.1111111111111111, \"#46039f\"], [0.2222222222222222, \"#7201a8\"], [0.3333333333333333, \"#9c179e\"], [0.4444444444444444, \"#bd3786\"], [0.5555555555555556, \"#d8576b\"], [0.6666666666666666, \"#ed7953\"], [0.7777777777777778, \"#fb9f3a\"], [0.8888888888888888, \"#fdca26\"], [1.0, \"#f0f921\"]], \"type\": \"histogram2dcontour\"}], \"mesh3d\": [{\"colorbar\": {\"outlinewidth\": 0, \"ticks\": \"\"}, \"type\": \"mesh3d\"}], \"parcoords\": [{\"line\": {\"colorbar\": {\"outlinewidth\": 0, \"ticks\": \"\"}}, \"type\": \"parcoords\"}], \"pie\": [{\"automargin\": true, \"type\": \"pie\"}], \"scatter\": [{\"marker\": {\"colorbar\": {\"outlinewidth\": 0, \"ticks\": \"\"}}, \"type\": \"scatter\"}], \"scatter3d\": [{\"line\": {\"colorbar\": {\"outlinewidth\": 0, \"ticks\": \"\"}}, \"marker\": {\"colorbar\": {\"outlinewidth\": 0, \"ticks\": \"\"}}, \"type\": \"scatter3d\"}], \"scattercarpet\": [{\"marker\": {\"colorbar\": {\"outlinewidth\": 0, \"ticks\": \"\"}}, \"type\": \"scattercarpet\"}], \"scattergeo\": [{\"marker\": {\"colorbar\": {\"outlinewidth\": 0, \"ticks\": \"\"}}, \"type\": \"scattergeo\"}], \"scattergl\": [{\"marker\": {\"colorbar\": {\"outlinewidth\": 0, \"ticks\": \"\"}}, \"type\": \"scattergl\"}], \"scattermapbox\": [{\"marker\": {\"colorbar\": {\"outlinewidth\": 0, \"ticks\": \"\"}}, \"type\": \"scattermapbox\"}], \"scatterpolar\": [{\"marker\": {\"colorbar\": {\"outlinewidth\": 0, \"ticks\": \"\"}}, \"type\": \"scatterpolar\"}], \"scatterpolargl\": [{\"marker\": {\"colorbar\": {\"outlinewidth\": 0, \"ticks\": \"\"}}, \"type\": \"scatterpolargl\"}], \"scatterternary\": [{\"marker\": {\"colorbar\": {\"outlinewidth\": 0, \"ticks\": \"\"}}, \"type\": \"scatterternary\"}], \"surface\": [{\"colorbar\": {\"outlinewidth\": 0, \"ticks\": \"\"}, \"colorscale\": [[0.0, \"#0d0887\"], [0.1111111111111111, \"#46039f\"], [0.2222222222222222, \"#7201a8\"], [0.3333333333333333, \"#9c179e\"], [0.4444444444444444, \"#bd3786\"], [0.5555555555555556, \"#d8576b\"], [0.6666666666666666, \"#ed7953\"], [0.7777777777777778, \"#fb9f3a\"], [0.8888888888888888, \"#fdca26\"], [1.0, \"#f0f921\"]], \"type\": \"surface\"}], \"table\": [{\"cells\": {\"fill\": {\"color\": \"#EBF0F8\"}, \"line\": {\"color\": \"white\"}}, \"header\": {\"fill\": {\"color\": \"#C8D4E3\"}, \"line\": {\"color\": \"white\"}}, \"type\": \"table\"}]}, \"layout\": {\"annotationdefaults\": {\"arrowcolor\": \"#2a3f5f\", \"arrowhead\": 0, \"arrowwidth\": 1}, \"coloraxis\": {\"colorbar\": {\"outlinewidth\": 0, \"ticks\": \"\"}}, \"colorscale\": {\"diverging\": [[0, \"#8e0152\"], [0.1, \"#c51b7d\"], [0.2, \"#de77ae\"], [0.3, \"#f1b6da\"], [0.4, \"#fde0ef\"], [0.5, \"#f7f7f7\"], [0.6, \"#e6f5d0\"], [0.7, \"#b8e186\"], [0.8, \"#7fbc41\"], [0.9, \"#4d9221\"], [1, \"#276419\"]], \"sequential\": [[0.0, \"#0d0887\"], [0.1111111111111111, \"#46039f\"], [0.2222222222222222, \"#7201a8\"], [0.3333333333333333, \"#9c179e\"], [0.4444444444444444, \"#bd3786\"], [0.5555555555555556, \"#d8576b\"], [0.6666666666666666, \"#ed7953\"], [0.7777777777777778, \"#fb9f3a\"], [0.8888888888888888, \"#fdca26\"], [1.0, \"#f0f921\"]], \"sequentialminus\": [[0.0, \"#0d0887\"], [0.1111111111111111, \"#46039f\"], [0.2222222222222222, \"#7201a8\"], [0.3333333333333333, \"#9c179e\"], [0.4444444444444444, \"#bd3786\"], [0.5555555555555556, \"#d8576b\"], [0.6666666666666666, \"#ed7953\"], [0.7777777777777778, \"#fb9f3a\"], [0.8888888888888888, \"#fdca26\"], [1.0, \"#f0f921\"]]}, \"colorway\": [\"#636efa\", \"#EF553B\", \"#00cc96\", \"#ab63fa\", \"#FFA15A\", \"#19d3f3\", \"#FF6692\", \"#B6E880\", \"#FF97FF\", \"#FECB52\"], \"font\": {\"color\": \"#2a3f5f\"}, \"geo\": {\"bgcolor\": \"white\", \"lakecolor\": \"white\", \"landcolor\": \"#E5ECF6\", \"showlakes\": true, \"showland\": true, \"subunitcolor\": \"white\"}, \"hoverlabel\": {\"align\": \"left\"}, \"hovermode\": \"closest\", \"mapbox\": {\"style\": \"light\"}, \"paper_bgcolor\": \"white\", \"plot_bgcolor\": \"#E5ECF6\", \"polar\": {\"angularaxis\": {\"gridcolor\": \"white\", \"linecolor\": \"white\", \"ticks\": \"\"}, \"bgcolor\": \"#E5ECF6\", \"radialaxis\": {\"gridcolor\": \"white\", \"linecolor\": \"white\", \"ticks\": \"\"}}, \"scene\": {\"xaxis\": {\"backgroundcolor\": \"#E5ECF6\", \"gridcolor\": \"white\", \"gridwidth\": 2, \"linecolor\": \"white\", \"showbackground\": true, \"ticks\": \"\", \"zerolinecolor\": \"white\"}, \"yaxis\": {\"backgroundcolor\": \"#E5ECF6\", \"gridcolor\": \"white\", \"gridwidth\": 2, \"linecolor\": \"white\", \"showbackground\": true, \"ticks\": \"\", \"zerolinecolor\": \"white\"}, \"zaxis\": {\"backgroundcolor\": \"#E5ECF6\", \"gridcolor\": \"white\", \"gridwidth\": 2, \"linecolor\": \"white\", \"showbackground\": true, \"ticks\": \"\", \"zerolinecolor\": \"white\"}}, \"shapedefaults\": {\"line\": {\"color\": \"#2a3f5f\"}}, \"ternary\": {\"aaxis\": {\"gridcolor\": \"white\", \"linecolor\": \"white\", \"ticks\": \"\"}, \"baxis\": {\"gridcolor\": \"white\", \"linecolor\": \"white\", \"ticks\": \"\"}, \"bgcolor\": \"#E5ECF6\", \"caxis\": {\"gridcolor\": \"white\", \"linecolor\": \"white\", \"ticks\": \"\"}}, \"title\": {\"x\": 0.05}, \"xaxis\": {\"automargin\": true, \"gridcolor\": \"white\", \"linecolor\": \"white\", \"ticks\": \"\", \"title\": {\"standoff\": 15}, \"zerolinecolor\": \"white\", \"zerolinewidth\": 2}, \"yaxis\": {\"automargin\": true, \"gridcolor\": \"white\", \"linecolor\": \"white\", \"ticks\": \"\", \"title\": {\"standoff\": 15}, \"zerolinecolor\": \"white\", \"zerolinewidth\": 2}}}, \"xaxis\": {\"anchor\": \"y\", \"domain\": [0.0, 1.0], \"title\": {\"text\": \"value\"}}, \"yaxis\": {\"anchor\": \"x\", \"domain\": [0.0, 1.0], \"title\": {\"text\": \"count\"}}},\n                        {\"responsive\": true}\n                    ).then(function(){\n                            \nvar gd = document.getElementById('91c019ad-3006-4bf2-b767-fddea093bde5');\nvar x = new MutationObserver(function (mutations, observer) {{\n        var display = window.getComputedStyle(gd).display;\n        if (!display || display === 'none') {{\n            console.log([gd, 'removed!']);\n            Plotly.purge(gd);\n            observer.disconnect();\n        }}\n}});\n\n// Listen for the removal of the full notebook cells\nvar notebookContainer = gd.closest('#notebook-container');\nif (notebookContainer) {{\n    x.observe(notebookContainer, {childList: true});\n}}\n\n// Listen for the clearing of the current output cell\nvar outputEl = gd.closest('.output');\nif (outputEl) {{\n    x.observe(outputEl, {childList: true});\n}}\n\n                        })\n                };\n                });\n            </script>\n        </div>"
     },
     "metadata": {}
    }
   ],
   "source": [
    "import plotly.express as px\n",
    "import numpy as np\n",
    "\n",
    "time_delta_secs = np.diff(df.index.values).astype('timedelta64[s]').astype(np.int32)\n",
    "\n",
    "fig = px.histogram(time_delta_secs, histnorm='percent', nbins=20)\n",
    "fig.show()\n",
    "\n",
    "\n",
    "\n"
   ]
  },
  {
   "cell_type": "code",
   "execution_count": 56,
   "metadata": {},
   "outputs": [
    {
     "output_type": "display_data",
     "data": {
      "application/vnd.plotly.v1+json": {
       "config": {
        "plotlyServerURL": "https://plot.ly"
       },
       "data": [
        {
         "hovertemplate": "time=%{x}<br>temp=%{y}<extra></extra>",
         "legendgroup": "",
         "line": {
          "color": "#636efa",
          "dash": "solid"
         },
         "mode": "lines",
         "name": "",
         "orientation": "v",
         "showlegend": false,
         "type": "scatter",
         "x": [
          "2021-05-20T21:33:23",
          "2021-05-20T21:33:39",
          "2021-05-20T21:33:55",
          "2021-05-20T21:34:11",
          "2021-05-20T21:34:27",
          "2021-05-20T21:34:43",
          "2021-05-20T21:34:43",
          "2021-05-20T21:34:59",
          "2021-05-20T21:35:15",
          "2021-05-20T21:35:31",
          "2021-05-20T21:35:47",
          "2021-05-20T21:36:03",
          "2021-05-20T21:36:19",
          "2021-05-20T21:36:35",
          "2021-05-20T21:36:51",
          "2021-05-20T21:37:07",
          "2021-05-20T21:37:23",
          "2021-05-20T21:37:39",
          "2021-05-20T21:37:55",
          "2021-05-20T21:38:11",
          "2021-05-20T21:38:27",
          "2021-05-20T21:38:43",
          "2021-05-20T21:38:59",
          "2021-05-20T21:39:15",
          "2021-05-20T21:39:31",
          "2021-05-20T21:39:47",
          "2021-05-20T21:40:03",
          "2021-05-20T21:40:19",
          "2021-05-20T21:40:35",
          "2021-05-20T21:40:51",
          "2021-05-20T21:41:07",
          "2021-05-20T21:41:23",
          "2021-05-20T21:41:39",
          "2021-05-20T21:41:39",
          "2021-05-20T21:41:55",
          "2021-05-20T21:42:11",
          "2021-05-20T21:42:27",
          "2021-05-20T21:42:43",
          "2021-05-20T21:42:59",
          "2021-05-20T21:43:15",
          "2021-05-20T21:43:31",
          "2021-05-20T21:43:47",
          "2021-05-20T21:44:03",
          "2021-05-20T21:44:35",
          "2021-05-20T21:44:51",
          "2021-05-20T21:45:07",
          "2021-05-20T21:45:23",
          "2021-05-20T21:45:39",
          "2021-05-20T21:45:55",
          "2021-05-20T21:46:11",
          "2021-05-20T21:46:27",
          "2021-05-20T21:46:43",
          "2021-05-20T21:46:59",
          "2021-05-20T21:47:15",
          "2021-05-20T21:47:31",
          "2021-05-20T21:47:47",
          "2021-05-20T21:48:03",
          "2021-05-20T21:48:19",
          "2021-05-20T21:48:35",
          "2021-05-20T21:48:35",
          "2021-05-20T21:49:07",
          "2021-05-20T21:49:39",
          "2021-05-20T21:50:11",
          "2021-05-20T21:50:43",
          "2021-05-20T21:51:15",
          "2021-05-20T21:51:47",
          "2021-05-20T21:52:19",
          "2021-05-20T21:52:35",
          "2021-05-20T21:52:51",
          "2021-05-20T21:53:07",
          "2021-05-20T21:53:23",
          "2021-05-20T21:53:39",
          "2021-05-20T21:53:55",
          "2021-05-20T21:54:11",
          "2021-05-20T21:54:27",
          "2021-05-20T21:54:43",
          "2021-05-20T21:54:59",
          "2021-05-20T21:55:15",
          "2021-05-20T21:55:31",
          "2021-05-20T21:55:47",
          "2021-05-20T21:56:03",
          "2021-05-20T21:56:19",
          "2021-05-20T21:56:35",
          "2021-05-20T21:56:51",
          "2021-05-20T21:57:07",
          "2021-05-20T21:57:23",
          "2021-05-20T21:57:39",
          "2021-05-20T21:57:55",
          "2021-05-20T21:58:11",
          "2021-05-20T21:58:27",
          "2021-05-20T21:58:43",
          "2021-05-20T21:58:59",
          "2021-05-20T21:59:15",
          "2021-05-20T21:59:15",
          "2021-05-20T21:59:31",
          "2021-05-20T21:59:47",
          "2021-05-20T22:00:03",
          "2021-05-20T22:00:19",
          "2021-05-20T22:00:19",
          "2021-05-20T22:00:35",
          "2021-05-20T22:00:51",
          "2021-05-20T22:01:07",
          "2021-05-20T22:01:23",
          "2021-05-20T22:01:23",
          "2021-05-20T22:01:39",
          "2021-05-20T22:01:55",
          "2021-05-20T22:02:11",
          "2021-05-20T22:02:27",
          "2021-05-20T22:02:43",
          "2021-05-20T22:02:59",
          "2021-05-20T22:03:15",
          "2021-05-20T22:03:31",
          "2021-05-20T22:03:47",
          "2021-05-20T22:04:03",
          "2021-05-20T22:04:19",
          "2021-05-20T22:04:35",
          "2021-05-20T22:04:51",
          "2021-05-20T22:05:07",
          "2021-05-20T22:05:07",
          "2021-05-20T22:05:39",
          "2021-05-20T22:06:11",
          "2021-05-20T22:06:43",
          "2021-05-20T22:07:15",
          "2021-05-20T22:07:47",
          "2021-05-20T22:08:19",
          "2021-05-20T22:08:51",
          "2021-05-20T22:09:23",
          "2021-05-20T22:09:55",
          "2021-05-20T22:10:27",
          "2021-05-20T22:10:59",
          "2021-05-20T22:11:15",
          "2021-05-20T22:11:31",
          "2021-05-20T22:11:47",
          "2021-05-20T22:12:03",
          "2021-05-20T22:12:19",
          "2021-05-20T22:12:35",
          "2021-05-20T22:12:51",
          "2021-05-20T22:13:07",
          "2021-05-20T22:13:23",
          "2021-05-20T22:13:39",
          "2021-05-20T22:13:55",
          "2021-05-20T22:14:11",
          "2021-05-20T22:14:27",
          "2021-05-20T22:14:43",
          "2021-05-20T22:14:59",
          "2021-05-20T22:15:15",
          "2021-05-20T22:15:31",
          "2021-05-20T22:15:47",
          "2021-05-20T22:16:03",
          "2021-05-20T22:16:19",
          "2021-05-20T22:16:35",
          "2021-05-20T22:16:51",
          "2021-05-20T22:17:07",
          "2021-05-20T22:17:23",
          "2021-05-20T22:17:39",
          "2021-05-20T22:17:55",
          "2021-05-20T22:18:11",
          "2021-05-20T22:18:27",
          "2021-05-20T22:18:43",
          "2021-05-20T22:18:59",
          "2021-05-20T22:18:59",
          "2021-05-20T22:19:15",
          "2021-05-20T22:19:31",
          "2021-05-20T22:19:47",
          "2021-05-20T22:20:03",
          "2021-05-20T22:20:19",
          "2021-05-20T22:20:35",
          "2021-05-20T22:20:51",
          "2021-05-20T22:21:07",
          "2021-05-20T22:21:23",
          "2021-05-20T22:21:39",
          "2021-05-20T22:21:55",
          "2021-05-20T22:22:11",
          "2021-05-20T22:22:27",
          "2021-05-20T22:22:43",
          "2021-05-20T22:22:59",
          "2021-05-20T22:23:15",
          "2021-05-20T22:23:31",
          "2021-05-20T22:23:47",
          "2021-05-20T22:24:03",
          "2021-05-20T22:24:19",
          "2021-05-20T22:24:35",
          "2021-05-20T22:24:51",
          "2021-05-20T22:25:07",
          "2021-05-20T22:25:23",
          "2021-05-20T22:25:39",
          "2021-05-20T22:25:55",
          "2021-05-20T22:26:11",
          "2021-05-20T22:26:27",
          "2021-05-20T22:26:43",
          "2021-05-20T22:26:59",
          "2021-05-20T22:27:15",
          "2021-05-20T22:27:31",
          "2021-05-20T22:27:47",
          "2021-05-20T22:28:03",
          "2021-05-20T22:28:19",
          "2021-05-20T22:28:35",
          "2021-05-20T22:28:51",
          "2021-05-20T22:29:07",
          "2021-05-20T22:29:23",
          "2021-05-20T22:29:39",
          "2021-05-20T22:30:11",
          "2021-05-20T22:30:27",
          "2021-05-20T22:30:43",
          "2021-05-20T22:30:43",
          "2021-05-20T22:30:59",
          "2021-05-20T22:31:15",
          "2021-05-20T22:31:31",
          "2021-05-20T22:31:47",
          "2021-05-20T22:32:03",
          "2021-05-20T22:32:19",
          "2021-05-20T22:32:35",
          "2021-05-20T22:32:51",
          "2021-05-20T22:33:07",
          "2021-05-20T22:33:23",
          "2021-05-20T22:33:39",
          "2021-05-20T22:33:55",
          "2021-05-20T22:34:11",
          "2021-05-20T22:34:27",
          "2021-05-20T22:34:43",
          "2021-05-20T22:34:59",
          "2021-05-20T22:35:15",
          "2021-05-20T22:35:31",
          "2021-05-20T22:35:47",
          "2021-05-20T22:36:03",
          "2021-05-20T22:36:19",
          "2021-05-20T22:36:35",
          "2021-05-20T22:36:51",
          "2021-05-20T22:37:07",
          "2021-05-20T22:37:23",
          "2021-05-20T22:37:39",
          "2021-05-20T22:37:55",
          "2021-05-20T22:38:11",
          "2021-05-20T22:38:27",
          "2021-05-20T22:38:43",
          "2021-05-20T22:38:59",
          "2021-05-20T22:39:15",
          "2021-05-20T22:39:31",
          "2021-05-20T22:39:47",
          "2021-05-20T22:40:03",
          "2021-05-20T22:40:19",
          "2021-05-20T22:40:35",
          "2021-05-20T22:40:51",
          "2021-05-20T22:41:07",
          "2021-05-20T22:41:23",
          "2021-05-20T22:41:39",
          "2021-05-20T22:41:55",
          "2021-05-20T22:42:11",
          "2021-05-20T22:42:27",
          "2021-05-20T22:42:43",
          "2021-05-20T22:42:59",
          "2021-05-20T22:43:15",
          "2021-05-20T22:43:31",
          "2021-05-20T22:43:47",
          "2021-05-20T22:44:03",
          "2021-05-20T22:44:19",
          "2021-05-20T22:44:35",
          "2021-05-20T22:44:51",
          "2021-05-20T22:45:07",
          "2021-05-20T22:45:23",
          "2021-05-20T22:45:39",
          "2021-05-20T22:45:55",
          "2021-05-20T22:46:11",
          "2021-05-20T22:46:27",
          "2021-05-20T22:46:43",
          "2021-05-20T22:46:59",
          "2021-05-20T22:47:15",
          "2021-05-20T22:47:31",
          "2021-05-20T22:47:47",
          "2021-05-20T22:48:03",
          "2021-05-20T22:48:19",
          "2021-05-20T22:48:35",
          "2021-05-20T22:48:51",
          "2021-05-20T22:49:07",
          "2021-05-20T22:49:23",
          "2021-05-20T22:49:39",
          "2021-05-20T22:49:55",
          "2021-05-20T22:50:11",
          "2021-05-20T22:50:27",
          "2021-05-20T22:50:43",
          "2021-05-20T22:50:59",
          "2021-05-20T22:51:15",
          "2021-05-20T22:51:31",
          "2021-05-20T22:51:47",
          "2021-05-20T22:52:03",
          "2021-05-20T22:52:19",
          "2021-05-20T22:52:35",
          "2021-05-20T22:52:51",
          "2021-05-20T22:53:07",
          "2021-05-20T22:53:23",
          "2021-05-20T22:53:39",
          "2021-05-20T22:53:55",
          "2021-05-20T22:54:11",
          "2021-05-20T22:54:27",
          "2021-05-20T22:54:43",
          "2021-05-20T22:54:59",
          "2021-05-20T22:55:15",
          "2021-05-20T22:55:31",
          "2021-05-20T22:55:47",
          "2021-05-20T22:56:03",
          "2021-05-20T22:56:19",
          "2021-05-20T22:56:35",
          "2021-05-20T22:56:51",
          "2021-05-20T22:57:07",
          "2021-05-20T22:57:23",
          "2021-05-20T22:57:39",
          "2021-05-20T22:57:55",
          "2021-05-20T22:58:11",
          "2021-05-20T22:58:27",
          "2021-05-20T22:58:43",
          "2021-05-20T22:58:59",
          "2021-05-20T22:59:15",
          "2021-05-20T22:59:31",
          "2021-05-20T22:59:47",
          "2021-05-20T23:00:03",
          "2021-05-20T23:00:19",
          "2021-05-20T23:00:35",
          "2021-05-20T23:00:51",
          "2021-05-20T23:01:07",
          "2021-05-20T23:01:23",
          "2021-05-20T23:01:39",
          "2021-05-20T23:01:55",
          "2021-05-20T23:02:11",
          "2021-05-20T23:02:27",
          "2021-05-20T23:02:43",
          "2021-05-20T23:02:59",
          "2021-05-20T23:03:15",
          "2021-05-20T23:03:31",
          "2021-05-20T23:03:47",
          "2021-05-20T23:04:03",
          "2021-05-20T23:04:20",
          "2021-05-20T23:04:35",
          "2021-05-20T23:04:51",
          "2021-05-20T23:05:07",
          "2021-05-20T23:05:23",
          "2021-05-20T23:05:39",
          "2021-05-20T23:05:55",
          "2021-05-20T23:06:11",
          "2021-05-20T23:06:27",
          "2021-05-20T23:06:43",
          "2021-05-20T23:06:59",
          "2021-05-20T23:07:15",
          "2021-05-20T23:07:31",
          "2021-05-20T23:07:47",
          "2021-05-20T23:08:03",
          "2021-05-20T23:08:19",
          "2021-05-20T23:08:35",
          "2021-05-20T23:08:51",
          "2021-05-20T23:09:07",
          "2021-05-20T23:09:23",
          "2021-05-20T23:09:39",
          "2021-05-20T23:09:55",
          "2021-05-20T23:10:11",
          "2021-05-20T23:10:43",
          "2021-05-20T23:10:59",
          "2021-05-20T23:11:15",
          "2021-05-20T23:11:31",
          "2021-05-20T23:11:47",
          "2021-05-20T23:12:03",
          "2021-05-20T23:12:19",
          "2021-05-20T23:12:19",
          "2021-05-20T23:12:35",
          "2021-05-20T23:12:51",
          "2021-05-20T23:13:07",
          "2021-05-20T23:13:23",
          "2021-05-20T23:13:39",
          "2021-05-20T23:13:57",
          "2021-05-20T23:14:11",
          "2021-05-20T23:14:27",
          "2021-05-20T23:14:43",
          "2021-05-20T23:14:59",
          "2021-05-20T23:15:15",
          "2021-05-20T23:15:31",
          "2021-05-20T23:15:46",
          "2021-05-20T23:16:02",
          "2021-05-20T23:16:19",
          "2021-05-20T23:16:34",
          "2021-05-20T23:16:51",
          "2021-05-20T23:17:06",
          "2021-05-20T23:17:07",
          "2021-05-20T23:17:22",
          "2021-05-20T23:17:38",
          "2021-05-20T23:17:54",
          "2021-05-20T23:18:10",
          "2021-05-20T23:18:26",
          "2021-05-20T23:18:43",
          "2021-05-20T23:18:58",
          "2021-05-20T23:19:14",
          "2021-05-20T23:19:15",
          "2021-05-20T23:19:47",
          "2021-05-20T23:20:19",
          "2021-05-20T23:20:51",
          "2021-05-20T23:21:23",
          "2021-05-20T23:21:55",
          "2021-05-20T23:22:27",
          "2021-05-20T23:22:59",
          "2021-05-20T23:23:31",
          "2021-05-20T23:24:03",
          "2021-05-20T23:24:35",
          "2021-05-20T23:25:07",
          "2021-05-20T23:25:39",
          "2021-05-20T23:25:54",
          "2021-05-20T23:26:10",
          "2021-05-20T23:26:26",
          "2021-05-20T23:26:42",
          "2021-05-20T23:26:58",
          "2021-05-20T23:27:14",
          "2021-05-20T23:27:30",
          "2021-05-20T23:27:46",
          "2021-05-20T23:28:02",
          "2021-05-20T23:28:18",
          "2021-05-20T23:28:34",
          "2021-05-20T23:28:50",
          "2021-05-20T23:29:06",
          "2021-05-20T23:29:22",
          "2021-05-20T23:29:54",
          "2021-05-20T23:30:10",
          "2021-05-20T23:30:26",
          "2021-05-20T23:30:42",
          "2021-05-20T23:30:58",
          "2021-05-20T23:31:14",
          "2021-05-20T23:31:30",
          "2021-05-20T23:31:46",
          "2021-05-20T23:32:02",
          "2021-05-20T23:32:18"
         ],
         "xaxis": "x",
         "y": [
          65.2,
          64.7,
          64.1,
          64.3,
          65.2,
          64.7,
          64.7,
          65.5,
          65.5,
          65,
          65,
          65.8,
          65.7,
          65.5,
          65.4,
          64.6,
          64.2,
          64.5,
          64.2,
          64.5,
          65.1,
          65.3,
          65.3,
          65.5,
          64.9,
          64.2,
          64,
          64.1,
          64.1,
          64.6,
          65.2,
          64.9,
          64.6,
          64.6,
          64,
          63.900000000000006,
          64,
          63.900000000000006,
          63.5,
          63.8,
          63.8,
          63.400000000000006,
          63.2,
          63.099999999999994,
          62.8,
          null,
          62.8,
          63.400000000000006,
          63.599999999999994,
          63.599999999999994,
          63.900000000000006,
          64.1,
          64.6,
          64.5,
          64.7,
          65.4,
          65.5,
          65.8,
          65.8,
          65.8,
          65.6,
          65.1,
          64.6,
          64.8,
          65.3,
          64.6,
          64.7,
          63.7,
          63.7,
          63.7,
          63.5,
          64.2,
          64.5,
          64.2,
          64.6,
          65,
          65.6,
          65.8,
          66,
          null,
          66.6,
          65.7,
          65.2,
          64.5,
          64.9,
          65.1,
          65.4,
          65.4,
          64.9,
          65.3,
          65.2,
          64.6,
          63.400000000000006,
          63.400000000000006,
          63.599999999999994,
          63.400000000000006,
          63,
          63,
          63,
          63.7,
          64.3,
          64.5,
          64.7,
          64.7,
          64.7,
          64.9,
          64.9,
          64.5,
          64.7,
          64.7,
          64.6,
          64.1,
          63.7,
          64.3,
          63.2,
          63.900000000000006,
          64.5,
          64.9,
          64.9,
          65.1,
          64,
          64,
          65.4,
          65.4,
          63.8,
          63.7,
          64.1,
          64.1,
          63.3,
          63.5,
          64,
          63.900000000000006,
          64,
          64,
          64.1,
          65,
          64.7,
          64.7,
          64.8,
          65.1,
          65.3,
          65.8,
          65.8,
          65.7,
          65.5,
          65.5,
          65.8,
          66,
          66.3,
          65.9,
          64.3,
          64.6,
          63.8,
          63.3,
          63.599999999999994,
          63.8,
          64.9,
          64.7,
          64.1,
          64.6,
          64.6,
          64.6,
          65.2,
          63.599999999999994,
          63.7,
          63.400000000000006,
          63.8,
          63.400000000000006,
          62.900000000000006,
          63.2,
          63.900000000000006,
          63.400000000000006,
          null,
          62.8,
          62.8,
          62.7,
          62.900000000000006,
          63.3,
          63.7,
          63.400000000000006,
          63.2,
          62.400000000000006,
          63.400000000000006,
          64.1,
          63.8,
          64.6,
          65.5,
          65,
          64.4,
          64.5,
          64.1,
          64.7,
          64.4,
          63.900000000000006,
          64.5,
          64.9,
          65.1,
          65.5,
          65,
          65.5,
          65,
          64.5,
          65.1,
          65.5,
          65.5,
          65.7,
          65.4,
          65.8,
          65.6,
          64.7,
          64.1,
          63.400000000000006,
          63.3,
          62.5,
          62.7,
          63.099999999999994,
          63.400000000000006,
          63.2,
          63.3,
          63.8,
          64.4,
          63.599999999999994,
          63.7,
          63.8,
          63.599999999999994,
          62.7,
          61.900000000000006,
          62.7,
          62.599999999999994,
          62.8,
          63.099999999999994,
          64,
          64.2,
          63,
          63.2,
          62.900000000000006,
          62.8,
          62.400000000000006,
          62.7,
          63.3,
          63.7,
          64.3,
          64.3,
          64.1,
          64.5,
          64,
          64.3,
          64.5,
          64.4,
          64.3,
          64.1,
          64.3,
          64.5,
          64.7,
          64.4,
          63.900000000000006,
          63,
          63.099999999999994,
          63.2,
          64.3,
          64.5,
          64.6,
          63.7,
          64.5,
          64.8,
          64.3,
          63.8,
          63.2,
          63.2,
          64.5,
          63.900000000000006,
          64.6,
          65.4,
          64.2,
          64.4,
          63.8,
          63.8,
          63.400000000000006,
          63.3,
          63.7,
          63.3,
          62.900000000000006,
          62.3,
          62.900000000000006,
          63.5,
          64.5,
          63.5,
          63.5,
          63.599999999999994,
          63.7,
          63.099999999999994,
          62.599999999999994,
          63,
          63.7,
          64,
          64,
          64.5,
          65.2,
          65.1,
          64.2,
          64.8,
          65,
          64.5,
          64.7,
          65.3,
          65.8,
          65.9,
          65.7,
          65.1,
          64.6,
          64.8,
          63.900000000000006,
          63.5,
          63.2,
          63.599999999999994,
          63.900000000000006,
          63.8,
          64.3,
          64,
          64.1,
          64.2,
          63.8,
          63.599999999999994,
          63.8,
          63.5,
          63.599999999999994,
          64.2,
          64.9,
          65.4,
          66,
          65.8,
          65.3,
          65,
          64.8,
          65.1,
          65.9,
          66,
          65.8,
          64.4,
          64.3,
          63.8,
          62.900000000000006,
          63.5,
          63.7,
          63.5,
          63.8,
          63.3,
          63.5,
          63.5,
          63.599999999999994,
          63.900000000000006,
          63.8,
          63.7,
          63.2,
          63.3,
          62.400000000000006,
          62.400000000000006,
          63,
          62.900000000000006,
          63.400000000000006,
          63.400000000000006,
          63.7,
          63.599999999999994,
          64,
          63.7,
          64.3,
          64.5,
          64.9,
          65.5,
          65.5,
          65.9,
          66.2,
          66.1,
          65.4,
          64.9,
          64.6,
          64,
          63.8,
          63.599999999999994,
          63.599999999999994,
          62.8,
          62.900000000000006,
          63,
          63.099999999999994,
          64.1,
          64.1,
          63.7,
          63.099999999999994,
          63.099999999999994,
          64.1,
          64.6,
          65.3,
          65.9,
          64.5,
          64.5,
          64.5,
          64.5,
          65.1,
          64.5,
          63.900000000000006,
          64.5,
          64.5,
          64,
          63.099999999999994,
          63,
          63.2,
          63.400000000000006,
          63.400000000000006,
          64.3,
          65,
          65.5,
          64,
          63.2,
          63.7,
          62.8,
          62.400000000000006,
          63,
          63.5,
          63.5,
          63,
          63.7,
          63.900000000000006,
          63.8,
          62.599999999999994,
          63.2
         ],
         "yaxis": "y"
        }
       ],
       "layout": {
        "legend": {
         "tracegroupgap": 0
        },
        "margin": {
         "t": 60
        },
        "template": {
         "data": {
          "bar": [
           {
            "error_x": {
             "color": "#2a3f5f"
            },
            "error_y": {
             "color": "#2a3f5f"
            },
            "marker": {
             "line": {
              "color": "#E5ECF6",
              "width": 0.5
             }
            },
            "type": "bar"
           }
          ],
          "barpolar": [
           {
            "marker": {
             "line": {
              "color": "#E5ECF6",
              "width": 0.5
             }
            },
            "type": "barpolar"
           }
          ],
          "carpet": [
           {
            "aaxis": {
             "endlinecolor": "#2a3f5f",
             "gridcolor": "white",
             "linecolor": "white",
             "minorgridcolor": "white",
             "startlinecolor": "#2a3f5f"
            },
            "baxis": {
             "endlinecolor": "#2a3f5f",
             "gridcolor": "white",
             "linecolor": "white",
             "minorgridcolor": "white",
             "startlinecolor": "#2a3f5f"
            },
            "type": "carpet"
           }
          ],
          "choropleth": [
           {
            "colorbar": {
             "outlinewidth": 0,
             "ticks": ""
            },
            "type": "choropleth"
           }
          ],
          "contour": [
           {
            "colorbar": {
             "outlinewidth": 0,
             "ticks": ""
            },
            "colorscale": [
             [
              0,
              "#0d0887"
             ],
             [
              0.1111111111111111,
              "#46039f"
             ],
             [
              0.2222222222222222,
              "#7201a8"
             ],
             [
              0.3333333333333333,
              "#9c179e"
             ],
             [
              0.4444444444444444,
              "#bd3786"
             ],
             [
              0.5555555555555556,
              "#d8576b"
             ],
             [
              0.6666666666666666,
              "#ed7953"
             ],
             [
              0.7777777777777778,
              "#fb9f3a"
             ],
             [
              0.8888888888888888,
              "#fdca26"
             ],
             [
              1,
              "#f0f921"
             ]
            ],
            "type": "contour"
           }
          ],
          "contourcarpet": [
           {
            "colorbar": {
             "outlinewidth": 0,
             "ticks": ""
            },
            "type": "contourcarpet"
           }
          ],
          "heatmap": [
           {
            "colorbar": {
             "outlinewidth": 0,
             "ticks": ""
            },
            "colorscale": [
             [
              0,
              "#0d0887"
             ],
             [
              0.1111111111111111,
              "#46039f"
             ],
             [
              0.2222222222222222,
              "#7201a8"
             ],
             [
              0.3333333333333333,
              "#9c179e"
             ],
             [
              0.4444444444444444,
              "#bd3786"
             ],
             [
              0.5555555555555556,
              "#d8576b"
             ],
             [
              0.6666666666666666,
              "#ed7953"
             ],
             [
              0.7777777777777778,
              "#fb9f3a"
             ],
             [
              0.8888888888888888,
              "#fdca26"
             ],
             [
              1,
              "#f0f921"
             ]
            ],
            "type": "heatmap"
           }
          ],
          "heatmapgl": [
           {
            "colorbar": {
             "outlinewidth": 0,
             "ticks": ""
            },
            "colorscale": [
             [
              0,
              "#0d0887"
             ],
             [
              0.1111111111111111,
              "#46039f"
             ],
             [
              0.2222222222222222,
              "#7201a8"
             ],
             [
              0.3333333333333333,
              "#9c179e"
             ],
             [
              0.4444444444444444,
              "#bd3786"
             ],
             [
              0.5555555555555556,
              "#d8576b"
             ],
             [
              0.6666666666666666,
              "#ed7953"
             ],
             [
              0.7777777777777778,
              "#fb9f3a"
             ],
             [
              0.8888888888888888,
              "#fdca26"
             ],
             [
              1,
              "#f0f921"
             ]
            ],
            "type": "heatmapgl"
           }
          ],
          "histogram": [
           {
            "marker": {
             "colorbar": {
              "outlinewidth": 0,
              "ticks": ""
             }
            },
            "type": "histogram"
           }
          ],
          "histogram2d": [
           {
            "colorbar": {
             "outlinewidth": 0,
             "ticks": ""
            },
            "colorscale": [
             [
              0,
              "#0d0887"
             ],
             [
              0.1111111111111111,
              "#46039f"
             ],
             [
              0.2222222222222222,
              "#7201a8"
             ],
             [
              0.3333333333333333,
              "#9c179e"
             ],
             [
              0.4444444444444444,
              "#bd3786"
             ],
             [
              0.5555555555555556,
              "#d8576b"
             ],
             [
              0.6666666666666666,
              "#ed7953"
             ],
             [
              0.7777777777777778,
              "#fb9f3a"
             ],
             [
              0.8888888888888888,
              "#fdca26"
             ],
             [
              1,
              "#f0f921"
             ]
            ],
            "type": "histogram2d"
           }
          ],
          "histogram2dcontour": [
           {
            "colorbar": {
             "outlinewidth": 0,
             "ticks": ""
            },
            "colorscale": [
             [
              0,
              "#0d0887"
             ],
             [
              0.1111111111111111,
              "#46039f"
             ],
             [
              0.2222222222222222,
              "#7201a8"
             ],
             [
              0.3333333333333333,
              "#9c179e"
             ],
             [
              0.4444444444444444,
              "#bd3786"
             ],
             [
              0.5555555555555556,
              "#d8576b"
             ],
             [
              0.6666666666666666,
              "#ed7953"
             ],
             [
              0.7777777777777778,
              "#fb9f3a"
             ],
             [
              0.8888888888888888,
              "#fdca26"
             ],
             [
              1,
              "#f0f921"
             ]
            ],
            "type": "histogram2dcontour"
           }
          ],
          "mesh3d": [
           {
            "colorbar": {
             "outlinewidth": 0,
             "ticks": ""
            },
            "type": "mesh3d"
           }
          ],
          "parcoords": [
           {
            "line": {
             "colorbar": {
              "outlinewidth": 0,
              "ticks": ""
             }
            },
            "type": "parcoords"
           }
          ],
          "pie": [
           {
            "automargin": true,
            "type": "pie"
           }
          ],
          "scatter": [
           {
            "marker": {
             "colorbar": {
              "outlinewidth": 0,
              "ticks": ""
             }
            },
            "type": "scatter"
           }
          ],
          "scatter3d": [
           {
            "line": {
             "colorbar": {
              "outlinewidth": 0,
              "ticks": ""
             }
            },
            "marker": {
             "colorbar": {
              "outlinewidth": 0,
              "ticks": ""
             }
            },
            "type": "scatter3d"
           }
          ],
          "scattercarpet": [
           {
            "marker": {
             "colorbar": {
              "outlinewidth": 0,
              "ticks": ""
             }
            },
            "type": "scattercarpet"
           }
          ],
          "scattergeo": [
           {
            "marker": {
             "colorbar": {
              "outlinewidth": 0,
              "ticks": ""
             }
            },
            "type": "scattergeo"
           }
          ],
          "scattergl": [
           {
            "marker": {
             "colorbar": {
              "outlinewidth": 0,
              "ticks": ""
             }
            },
            "type": "scattergl"
           }
          ],
          "scattermapbox": [
           {
            "marker": {
             "colorbar": {
              "outlinewidth": 0,
              "ticks": ""
             }
            },
            "type": "scattermapbox"
           }
          ],
          "scatterpolar": [
           {
            "marker": {
             "colorbar": {
              "outlinewidth": 0,
              "ticks": ""
             }
            },
            "type": "scatterpolar"
           }
          ],
          "scatterpolargl": [
           {
            "marker": {
             "colorbar": {
              "outlinewidth": 0,
              "ticks": ""
             }
            },
            "type": "scatterpolargl"
           }
          ],
          "scatterternary": [
           {
            "marker": {
             "colorbar": {
              "outlinewidth": 0,
              "ticks": ""
             }
            },
            "type": "scatterternary"
           }
          ],
          "surface": [
           {
            "colorbar": {
             "outlinewidth": 0,
             "ticks": ""
            },
            "colorscale": [
             [
              0,
              "#0d0887"
             ],
             [
              0.1111111111111111,
              "#46039f"
             ],
             [
              0.2222222222222222,
              "#7201a8"
             ],
             [
              0.3333333333333333,
              "#9c179e"
             ],
             [
              0.4444444444444444,
              "#bd3786"
             ],
             [
              0.5555555555555556,
              "#d8576b"
             ],
             [
              0.6666666666666666,
              "#ed7953"
             ],
             [
              0.7777777777777778,
              "#fb9f3a"
             ],
             [
              0.8888888888888888,
              "#fdca26"
             ],
             [
              1,
              "#f0f921"
             ]
            ],
            "type": "surface"
           }
          ],
          "table": [
           {
            "cells": {
             "fill": {
              "color": "#EBF0F8"
             },
             "line": {
              "color": "white"
             }
            },
            "header": {
             "fill": {
              "color": "#C8D4E3"
             },
             "line": {
              "color": "white"
             }
            },
            "type": "table"
           }
          ]
         },
         "layout": {
          "annotationdefaults": {
           "arrowcolor": "#2a3f5f",
           "arrowhead": 0,
           "arrowwidth": 1
          },
          "coloraxis": {
           "colorbar": {
            "outlinewidth": 0,
            "ticks": ""
           }
          },
          "colorscale": {
           "diverging": [
            [
             0,
             "#8e0152"
            ],
            [
             0.1,
             "#c51b7d"
            ],
            [
             0.2,
             "#de77ae"
            ],
            [
             0.3,
             "#f1b6da"
            ],
            [
             0.4,
             "#fde0ef"
            ],
            [
             0.5,
             "#f7f7f7"
            ],
            [
             0.6,
             "#e6f5d0"
            ],
            [
             0.7,
             "#b8e186"
            ],
            [
             0.8,
             "#7fbc41"
            ],
            [
             0.9,
             "#4d9221"
            ],
            [
             1,
             "#276419"
            ]
           ],
           "sequential": [
            [
             0,
             "#0d0887"
            ],
            [
             0.1111111111111111,
             "#46039f"
            ],
            [
             0.2222222222222222,
             "#7201a8"
            ],
            [
             0.3333333333333333,
             "#9c179e"
            ],
            [
             0.4444444444444444,
             "#bd3786"
            ],
            [
             0.5555555555555556,
             "#d8576b"
            ],
            [
             0.6666666666666666,
             "#ed7953"
            ],
            [
             0.7777777777777778,
             "#fb9f3a"
            ],
            [
             0.8888888888888888,
             "#fdca26"
            ],
            [
             1,
             "#f0f921"
            ]
           ],
           "sequentialminus": [
            [
             0,
             "#0d0887"
            ],
            [
             0.1111111111111111,
             "#46039f"
            ],
            [
             0.2222222222222222,
             "#7201a8"
            ],
            [
             0.3333333333333333,
             "#9c179e"
            ],
            [
             0.4444444444444444,
             "#bd3786"
            ],
            [
             0.5555555555555556,
             "#d8576b"
            ],
            [
             0.6666666666666666,
             "#ed7953"
            ],
            [
             0.7777777777777778,
             "#fb9f3a"
            ],
            [
             0.8888888888888888,
             "#fdca26"
            ],
            [
             1,
             "#f0f921"
            ]
           ]
          },
          "colorway": [
           "#636efa",
           "#EF553B",
           "#00cc96",
           "#ab63fa",
           "#FFA15A",
           "#19d3f3",
           "#FF6692",
           "#B6E880",
           "#FF97FF",
           "#FECB52"
          ],
          "font": {
           "color": "#2a3f5f"
          },
          "geo": {
           "bgcolor": "white",
           "lakecolor": "white",
           "landcolor": "#E5ECF6",
           "showlakes": true,
           "showland": true,
           "subunitcolor": "white"
          },
          "hoverlabel": {
           "align": "left"
          },
          "hovermode": "closest",
          "mapbox": {
           "style": "light"
          },
          "paper_bgcolor": "white",
          "plot_bgcolor": "#E5ECF6",
          "polar": {
           "angularaxis": {
            "gridcolor": "white",
            "linecolor": "white",
            "ticks": ""
           },
           "bgcolor": "#E5ECF6",
           "radialaxis": {
            "gridcolor": "white",
            "linecolor": "white",
            "ticks": ""
           }
          },
          "scene": {
           "xaxis": {
            "backgroundcolor": "#E5ECF6",
            "gridcolor": "white",
            "gridwidth": 2,
            "linecolor": "white",
            "showbackground": true,
            "ticks": "",
            "zerolinecolor": "white"
           },
           "yaxis": {
            "backgroundcolor": "#E5ECF6",
            "gridcolor": "white",
            "gridwidth": 2,
            "linecolor": "white",
            "showbackground": true,
            "ticks": "",
            "zerolinecolor": "white"
           },
           "zaxis": {
            "backgroundcolor": "#E5ECF6",
            "gridcolor": "white",
            "gridwidth": 2,
            "linecolor": "white",
            "showbackground": true,
            "ticks": "",
            "zerolinecolor": "white"
           }
          },
          "shapedefaults": {
           "line": {
            "color": "#2a3f5f"
           }
          },
          "ternary": {
           "aaxis": {
            "gridcolor": "white",
            "linecolor": "white",
            "ticks": ""
           },
           "baxis": {
            "gridcolor": "white",
            "linecolor": "white",
            "ticks": ""
           },
           "bgcolor": "#E5ECF6",
           "caxis": {
            "gridcolor": "white",
            "linecolor": "white",
            "ticks": ""
           }
          },
          "title": {
           "x": 0.05
          },
          "xaxis": {
           "automargin": true,
           "gridcolor": "white",
           "linecolor": "white",
           "ticks": "",
           "title": {
            "standoff": 15
           },
           "zerolinecolor": "white",
           "zerolinewidth": 2
          },
          "yaxis": {
           "automargin": true,
           "gridcolor": "white",
           "linecolor": "white",
           "ticks": "",
           "title": {
            "standoff": 15
           },
           "zerolinecolor": "white",
           "zerolinewidth": 2
          }
         }
        },
        "xaxis": {
         "anchor": "y",
         "domain": [
          0,
          1
         ],
         "title": {
          "text": "time"
         }
        },
        "yaxis": {
         "anchor": "x",
         "domain": [
          0,
          1
         ],
         "title": {
          "text": "temp"
         }
        }
       }
      },
      "text/html": "<div>\n        \n        \n            <div id=\"d5706965-20f3-4a1d-9337-f7444b7a7ece\" class=\"plotly-graph-div\" style=\"height:525px; width:100%;\"></div>\n            <script type=\"text/javascript\">\n                require([\"plotly\"], function(Plotly) {\n                    window.PLOTLYENV=window.PLOTLYENV || {};\n                    \n                if (document.getElementById(\"d5706965-20f3-4a1d-9337-f7444b7a7ece\")) {\n                    Plotly.newPlot(\n                        'd5706965-20f3-4a1d-9337-f7444b7a7ece',\n                        [{\"hovertemplate\": \"time=%{x}<br>temp=%{y}<extra></extra>\", \"legendgroup\": \"\", \"line\": {\"color\": \"#636efa\", \"dash\": \"solid\"}, \"mode\": \"lines\", \"name\": \"\", \"orientation\": \"v\", \"showlegend\": false, \"type\": \"scatter\", \"x\": [\"2021-05-20T21:33:23\", \"2021-05-20T21:33:39\", \"2021-05-20T21:33:55\", \"2021-05-20T21:34:11\", \"2021-05-20T21:34:27\", \"2021-05-20T21:34:43\", \"2021-05-20T21:34:43\", \"2021-05-20T21:34:59\", \"2021-05-20T21:35:15\", \"2021-05-20T21:35:31\", \"2021-05-20T21:35:47\", \"2021-05-20T21:36:03\", \"2021-05-20T21:36:19\", \"2021-05-20T21:36:35\", \"2021-05-20T21:36:51\", \"2021-05-20T21:37:07\", \"2021-05-20T21:37:23\", \"2021-05-20T21:37:39\", \"2021-05-20T21:37:55\", \"2021-05-20T21:38:11\", \"2021-05-20T21:38:27\", \"2021-05-20T21:38:43\", \"2021-05-20T21:38:59\", \"2021-05-20T21:39:15\", \"2021-05-20T21:39:31\", \"2021-05-20T21:39:47\", \"2021-05-20T21:40:03\", \"2021-05-20T21:40:19\", \"2021-05-20T21:40:35\", \"2021-05-20T21:40:51\", \"2021-05-20T21:41:07\", \"2021-05-20T21:41:23\", \"2021-05-20T21:41:39\", \"2021-05-20T21:41:39\", \"2021-05-20T21:41:55\", \"2021-05-20T21:42:11\", \"2021-05-20T21:42:27\", \"2021-05-20T21:42:43\", \"2021-05-20T21:42:59\", \"2021-05-20T21:43:15\", \"2021-05-20T21:43:31\", \"2021-05-20T21:43:47\", \"2021-05-20T21:44:03\", \"2021-05-20T21:44:35\", \"2021-05-20T21:44:51\", \"2021-05-20T21:45:07\", \"2021-05-20T21:45:23\", \"2021-05-20T21:45:39\", \"2021-05-20T21:45:55\", \"2021-05-20T21:46:11\", \"2021-05-20T21:46:27\", \"2021-05-20T21:46:43\", \"2021-05-20T21:46:59\", \"2021-05-20T21:47:15\", \"2021-05-20T21:47:31\", \"2021-05-20T21:47:47\", \"2021-05-20T21:48:03\", \"2021-05-20T21:48:19\", \"2021-05-20T21:48:35\", \"2021-05-20T21:48:35\", \"2021-05-20T21:49:07\", \"2021-05-20T21:49:39\", \"2021-05-20T21:50:11\", \"2021-05-20T21:50:43\", \"2021-05-20T21:51:15\", \"2021-05-20T21:51:47\", \"2021-05-20T21:52:19\", \"2021-05-20T21:52:35\", \"2021-05-20T21:52:51\", \"2021-05-20T21:53:07\", \"2021-05-20T21:53:23\", \"2021-05-20T21:53:39\", \"2021-05-20T21:53:55\", \"2021-05-20T21:54:11\", \"2021-05-20T21:54:27\", \"2021-05-20T21:54:43\", \"2021-05-20T21:54:59\", \"2021-05-20T21:55:15\", \"2021-05-20T21:55:31\", \"2021-05-20T21:55:47\", \"2021-05-20T21:56:03\", \"2021-05-20T21:56:19\", \"2021-05-20T21:56:35\", \"2021-05-20T21:56:51\", \"2021-05-20T21:57:07\", \"2021-05-20T21:57:23\", \"2021-05-20T21:57:39\", \"2021-05-20T21:57:55\", \"2021-05-20T21:58:11\", \"2021-05-20T21:58:27\", \"2021-05-20T21:58:43\", \"2021-05-20T21:58:59\", \"2021-05-20T21:59:15\", \"2021-05-20T21:59:15\", \"2021-05-20T21:59:31\", \"2021-05-20T21:59:47\", \"2021-05-20T22:00:03\", \"2021-05-20T22:00:19\", \"2021-05-20T22:00:19\", \"2021-05-20T22:00:35\", \"2021-05-20T22:00:51\", \"2021-05-20T22:01:07\", \"2021-05-20T22:01:23\", \"2021-05-20T22:01:23\", \"2021-05-20T22:01:39\", \"2021-05-20T22:01:55\", \"2021-05-20T22:02:11\", \"2021-05-20T22:02:27\", \"2021-05-20T22:02:43\", \"2021-05-20T22:02:59\", \"2021-05-20T22:03:15\", \"2021-05-20T22:03:31\", \"2021-05-20T22:03:47\", \"2021-05-20T22:04:03\", \"2021-05-20T22:04:19\", \"2021-05-20T22:04:35\", \"2021-05-20T22:04:51\", \"2021-05-20T22:05:07\", \"2021-05-20T22:05:07\", \"2021-05-20T22:05:39\", \"2021-05-20T22:06:11\", \"2021-05-20T22:06:43\", \"2021-05-20T22:07:15\", \"2021-05-20T22:07:47\", \"2021-05-20T22:08:19\", \"2021-05-20T22:08:51\", \"2021-05-20T22:09:23\", \"2021-05-20T22:09:55\", \"2021-05-20T22:10:27\", \"2021-05-20T22:10:59\", \"2021-05-20T22:11:15\", \"2021-05-20T22:11:31\", \"2021-05-20T22:11:47\", \"2021-05-20T22:12:03\", \"2021-05-20T22:12:19\", \"2021-05-20T22:12:35\", \"2021-05-20T22:12:51\", \"2021-05-20T22:13:07\", \"2021-05-20T22:13:23\", \"2021-05-20T22:13:39\", \"2021-05-20T22:13:55\", \"2021-05-20T22:14:11\", \"2021-05-20T22:14:27\", \"2021-05-20T22:14:43\", \"2021-05-20T22:14:59\", \"2021-05-20T22:15:15\", \"2021-05-20T22:15:31\", \"2021-05-20T22:15:47\", \"2021-05-20T22:16:03\", \"2021-05-20T22:16:19\", \"2021-05-20T22:16:35\", \"2021-05-20T22:16:51\", \"2021-05-20T22:17:07\", \"2021-05-20T22:17:23\", \"2021-05-20T22:17:39\", \"2021-05-20T22:17:55\", \"2021-05-20T22:18:11\", \"2021-05-20T22:18:27\", \"2021-05-20T22:18:43\", \"2021-05-20T22:18:59\", \"2021-05-20T22:18:59\", \"2021-05-20T22:19:15\", \"2021-05-20T22:19:31\", \"2021-05-20T22:19:47\", \"2021-05-20T22:20:03\", \"2021-05-20T22:20:19\", \"2021-05-20T22:20:35\", \"2021-05-20T22:20:51\", \"2021-05-20T22:21:07\", \"2021-05-20T22:21:23\", \"2021-05-20T22:21:39\", \"2021-05-20T22:21:55\", \"2021-05-20T22:22:11\", \"2021-05-20T22:22:27\", \"2021-05-20T22:22:43\", \"2021-05-20T22:22:59\", \"2021-05-20T22:23:15\", \"2021-05-20T22:23:31\", \"2021-05-20T22:23:47\", \"2021-05-20T22:24:03\", \"2021-05-20T22:24:19\", \"2021-05-20T22:24:35\", \"2021-05-20T22:24:51\", \"2021-05-20T22:25:07\", \"2021-05-20T22:25:23\", \"2021-05-20T22:25:39\", \"2021-05-20T22:25:55\", \"2021-05-20T22:26:11\", \"2021-05-20T22:26:27\", \"2021-05-20T22:26:43\", \"2021-05-20T22:26:59\", \"2021-05-20T22:27:15\", \"2021-05-20T22:27:31\", \"2021-05-20T22:27:47\", \"2021-05-20T22:28:03\", \"2021-05-20T22:28:19\", \"2021-05-20T22:28:35\", \"2021-05-20T22:28:51\", \"2021-05-20T22:29:07\", \"2021-05-20T22:29:23\", \"2021-05-20T22:29:39\", \"2021-05-20T22:30:11\", \"2021-05-20T22:30:27\", \"2021-05-20T22:30:43\", \"2021-05-20T22:30:43\", \"2021-05-20T22:30:59\", \"2021-05-20T22:31:15\", \"2021-05-20T22:31:31\", \"2021-05-20T22:31:47\", \"2021-05-20T22:32:03\", \"2021-05-20T22:32:19\", \"2021-05-20T22:32:35\", \"2021-05-20T22:32:51\", \"2021-05-20T22:33:07\", \"2021-05-20T22:33:23\", \"2021-05-20T22:33:39\", \"2021-05-20T22:33:55\", \"2021-05-20T22:34:11\", \"2021-05-20T22:34:27\", \"2021-05-20T22:34:43\", \"2021-05-20T22:34:59\", \"2021-05-20T22:35:15\", \"2021-05-20T22:35:31\", \"2021-05-20T22:35:47\", \"2021-05-20T22:36:03\", \"2021-05-20T22:36:19\", \"2021-05-20T22:36:35\", \"2021-05-20T22:36:51\", \"2021-05-20T22:37:07\", \"2021-05-20T22:37:23\", \"2021-05-20T22:37:39\", \"2021-05-20T22:37:55\", \"2021-05-20T22:38:11\", \"2021-05-20T22:38:27\", \"2021-05-20T22:38:43\", \"2021-05-20T22:38:59\", \"2021-05-20T22:39:15\", \"2021-05-20T22:39:31\", \"2021-05-20T22:39:47\", \"2021-05-20T22:40:03\", \"2021-05-20T22:40:19\", \"2021-05-20T22:40:35\", \"2021-05-20T22:40:51\", \"2021-05-20T22:41:07\", \"2021-05-20T22:41:23\", \"2021-05-20T22:41:39\", \"2021-05-20T22:41:55\", \"2021-05-20T22:42:11\", \"2021-05-20T22:42:27\", \"2021-05-20T22:42:43\", \"2021-05-20T22:42:59\", \"2021-05-20T22:43:15\", \"2021-05-20T22:43:31\", \"2021-05-20T22:43:47\", \"2021-05-20T22:44:03\", \"2021-05-20T22:44:19\", \"2021-05-20T22:44:35\", \"2021-05-20T22:44:51\", \"2021-05-20T22:45:07\", \"2021-05-20T22:45:23\", \"2021-05-20T22:45:39\", \"2021-05-20T22:45:55\", \"2021-05-20T22:46:11\", \"2021-05-20T22:46:27\", \"2021-05-20T22:46:43\", \"2021-05-20T22:46:59\", \"2021-05-20T22:47:15\", \"2021-05-20T22:47:31\", \"2021-05-20T22:47:47\", \"2021-05-20T22:48:03\", \"2021-05-20T22:48:19\", \"2021-05-20T22:48:35\", \"2021-05-20T22:48:51\", \"2021-05-20T22:49:07\", \"2021-05-20T22:49:23\", \"2021-05-20T22:49:39\", \"2021-05-20T22:49:55\", \"2021-05-20T22:50:11\", \"2021-05-20T22:50:27\", \"2021-05-20T22:50:43\", \"2021-05-20T22:50:59\", \"2021-05-20T22:51:15\", \"2021-05-20T22:51:31\", \"2021-05-20T22:51:47\", \"2021-05-20T22:52:03\", \"2021-05-20T22:52:19\", \"2021-05-20T22:52:35\", \"2021-05-20T22:52:51\", \"2021-05-20T22:53:07\", \"2021-05-20T22:53:23\", \"2021-05-20T22:53:39\", \"2021-05-20T22:53:55\", \"2021-05-20T22:54:11\", \"2021-05-20T22:54:27\", \"2021-05-20T22:54:43\", \"2021-05-20T22:54:59\", \"2021-05-20T22:55:15\", \"2021-05-20T22:55:31\", \"2021-05-20T22:55:47\", \"2021-05-20T22:56:03\", \"2021-05-20T22:56:19\", \"2021-05-20T22:56:35\", \"2021-05-20T22:56:51\", \"2021-05-20T22:57:07\", \"2021-05-20T22:57:23\", \"2021-05-20T22:57:39\", \"2021-05-20T22:57:55\", \"2021-05-20T22:58:11\", \"2021-05-20T22:58:27\", \"2021-05-20T22:58:43\", \"2021-05-20T22:58:59\", \"2021-05-20T22:59:15\", \"2021-05-20T22:59:31\", \"2021-05-20T22:59:47\", \"2021-05-20T23:00:03\", \"2021-05-20T23:00:19\", \"2021-05-20T23:00:35\", \"2021-05-20T23:00:51\", \"2021-05-20T23:01:07\", \"2021-05-20T23:01:23\", \"2021-05-20T23:01:39\", \"2021-05-20T23:01:55\", \"2021-05-20T23:02:11\", \"2021-05-20T23:02:27\", \"2021-05-20T23:02:43\", \"2021-05-20T23:02:59\", \"2021-05-20T23:03:15\", \"2021-05-20T23:03:31\", \"2021-05-20T23:03:47\", \"2021-05-20T23:04:03\", \"2021-05-20T23:04:20\", \"2021-05-20T23:04:35\", \"2021-05-20T23:04:51\", \"2021-05-20T23:05:07\", \"2021-05-20T23:05:23\", \"2021-05-20T23:05:39\", \"2021-05-20T23:05:55\", \"2021-05-20T23:06:11\", \"2021-05-20T23:06:27\", \"2021-05-20T23:06:43\", \"2021-05-20T23:06:59\", \"2021-05-20T23:07:15\", \"2021-05-20T23:07:31\", \"2021-05-20T23:07:47\", \"2021-05-20T23:08:03\", \"2021-05-20T23:08:19\", \"2021-05-20T23:08:35\", \"2021-05-20T23:08:51\", \"2021-05-20T23:09:07\", \"2021-05-20T23:09:23\", \"2021-05-20T23:09:39\", \"2021-05-20T23:09:55\", \"2021-05-20T23:10:11\", \"2021-05-20T23:10:43\", \"2021-05-20T23:10:59\", \"2021-05-20T23:11:15\", \"2021-05-20T23:11:31\", \"2021-05-20T23:11:47\", \"2021-05-20T23:12:03\", \"2021-05-20T23:12:19\", \"2021-05-20T23:12:19\", \"2021-05-20T23:12:35\", \"2021-05-20T23:12:51\", \"2021-05-20T23:13:07\", \"2021-05-20T23:13:23\", \"2021-05-20T23:13:39\", \"2021-05-20T23:13:57\", \"2021-05-20T23:14:11\", \"2021-05-20T23:14:27\", \"2021-05-20T23:14:43\", \"2021-05-20T23:14:59\", \"2021-05-20T23:15:15\", \"2021-05-20T23:15:31\", \"2021-05-20T23:15:46\", \"2021-05-20T23:16:02\", \"2021-05-20T23:16:19\", \"2021-05-20T23:16:34\", \"2021-05-20T23:16:51\", \"2021-05-20T23:17:06\", \"2021-05-20T23:17:07\", \"2021-05-20T23:17:22\", \"2021-05-20T23:17:38\", \"2021-05-20T23:17:54\", \"2021-05-20T23:18:10\", \"2021-05-20T23:18:26\", \"2021-05-20T23:18:43\", \"2021-05-20T23:18:58\", \"2021-05-20T23:19:14\", \"2021-05-20T23:19:15\", \"2021-05-20T23:19:47\", \"2021-05-20T23:20:19\", \"2021-05-20T23:20:51\", \"2021-05-20T23:21:23\", \"2021-05-20T23:21:55\", \"2021-05-20T23:22:27\", \"2021-05-20T23:22:59\", \"2021-05-20T23:23:31\", \"2021-05-20T23:24:03\", \"2021-05-20T23:24:35\", \"2021-05-20T23:25:07\", \"2021-05-20T23:25:39\", \"2021-05-20T23:25:54\", \"2021-05-20T23:26:10\", \"2021-05-20T23:26:26\", \"2021-05-20T23:26:42\", \"2021-05-20T23:26:58\", \"2021-05-20T23:27:14\", \"2021-05-20T23:27:30\", \"2021-05-20T23:27:46\", \"2021-05-20T23:28:02\", \"2021-05-20T23:28:18\", \"2021-05-20T23:28:34\", \"2021-05-20T23:28:50\", \"2021-05-20T23:29:06\", \"2021-05-20T23:29:22\", \"2021-05-20T23:29:54\", \"2021-05-20T23:30:10\", \"2021-05-20T23:30:26\", \"2021-05-20T23:30:42\", \"2021-05-20T23:30:58\", \"2021-05-20T23:31:14\", \"2021-05-20T23:31:30\", \"2021-05-20T23:31:46\", \"2021-05-20T23:32:02\", \"2021-05-20T23:32:18\"], \"xaxis\": \"x\", \"y\": [65.2, 64.7, 64.1, 64.3, 65.2, 64.7, 64.7, 65.5, 65.5, 65.0, 65.0, 65.8, 65.7, 65.5, 65.4, 64.6, 64.2, 64.5, 64.2, 64.5, 65.1, 65.3, 65.3, 65.5, 64.9, 64.2, 64.0, 64.1, 64.1, 64.6, 65.2, 64.9, 64.6, 64.6, 64.0, 63.900000000000006, 64.0, 63.900000000000006, 63.5, 63.8, 63.8, 63.400000000000006, 63.2, 63.099999999999994, 62.8, null, 62.8, 63.400000000000006, 63.599999999999994, 63.599999999999994, 63.900000000000006, 64.1, 64.6, 64.5, 64.7, 65.4, 65.5, 65.8, 65.8, 65.8, 65.6, 65.1, 64.6, 64.8, 65.3, 64.6, 64.7, 63.7, 63.7, 63.7, 63.5, 64.2, 64.5, 64.2, 64.6, 65.0, 65.6, 65.8, 66.0, null, 66.6, 65.7, 65.2, 64.5, 64.9, 65.1, 65.4, 65.4, 64.9, 65.3, 65.2, 64.6, 63.400000000000006, 63.400000000000006, 63.599999999999994, 63.400000000000006, 63.0, 63.0, 63.0, 63.7, 64.3, 64.5, 64.7, 64.7, 64.7, 64.9, 64.9, 64.5, 64.7, 64.7, 64.6, 64.1, 63.7, 64.3, 63.2, 63.900000000000006, 64.5, 64.9, 64.9, 65.1, 64.0, 64.0, 65.4, 65.4, 63.8, 63.7, 64.1, 64.1, 63.3, 63.5, 64.0, 63.900000000000006, 64.0, 64.0, 64.1, 65.0, 64.7, 64.7, 64.8, 65.1, 65.3, 65.8, 65.8, 65.7, 65.5, 65.5, 65.8, 66.0, 66.3, 65.9, 64.3, 64.6, 63.8, 63.3, 63.599999999999994, 63.8, 64.9, 64.7, 64.1, 64.6, 64.6, 64.6, 65.2, 63.599999999999994, 63.7, 63.400000000000006, 63.8, 63.400000000000006, 62.900000000000006, 63.2, 63.900000000000006, 63.400000000000006, null, 62.8, 62.8, 62.7, 62.900000000000006, 63.3, 63.7, 63.400000000000006, 63.2, 62.400000000000006, 63.400000000000006, 64.1, 63.8, 64.6, 65.5, 65.0, 64.4, 64.5, 64.1, 64.7, 64.4, 63.900000000000006, 64.5, 64.9, 65.1, 65.5, 65.0, 65.5, 65.0, 64.5, 65.1, 65.5, 65.5, 65.7, 65.4, 65.8, 65.6, 64.7, 64.1, 63.400000000000006, 63.3, 62.5, 62.7, 63.099999999999994, 63.400000000000006, 63.2, 63.3, 63.8, 64.4, 63.599999999999994, 63.7, 63.8, 63.599999999999994, 62.7, 61.900000000000006, 62.7, 62.599999999999994, 62.8, 63.099999999999994, 64.0, 64.2, 63.0, 63.2, 62.900000000000006, 62.8, 62.400000000000006, 62.7, 63.3, 63.7, 64.3, 64.3, 64.1, 64.5, 64.0, 64.3, 64.5, 64.4, 64.3, 64.1, 64.3, 64.5, 64.7, 64.4, 63.900000000000006, 63.0, 63.099999999999994, 63.2, 64.3, 64.5, 64.6, 63.7, 64.5, 64.8, 64.3, 63.8, 63.2, 63.2, 64.5, 63.900000000000006, 64.6, 65.4, 64.2, 64.4, 63.8, 63.8, 63.400000000000006, 63.3, 63.7, 63.3, 62.900000000000006, 62.3, 62.900000000000006, 63.5, 64.5, 63.5, 63.5, 63.599999999999994, 63.7, 63.099999999999994, 62.599999999999994, 63.0, 63.7, 64.0, 64.0, 64.5, 65.2, 65.1, 64.2, 64.8, 65.0, 64.5, 64.7, 65.3, 65.8, 65.9, 65.7, 65.1, 64.6, 64.8, 63.900000000000006, 63.5, 63.2, 63.599999999999994, 63.900000000000006, 63.8, 64.3, 64.0, 64.1, 64.2, 63.8, 63.599999999999994, 63.8, 63.5, 63.599999999999994, 64.2, 64.9, 65.4, 66.0, 65.8, 65.3, 65.0, 64.8, 65.1, 65.9, 66.0, 65.8, 64.4, 64.3, 63.8, 62.900000000000006, 63.5, 63.7, 63.5, 63.8, 63.3, 63.5, 63.5, 63.599999999999994, 63.900000000000006, 63.8, 63.7, 63.2, 63.3, 62.400000000000006, 62.400000000000006, 63.0, 62.900000000000006, 63.400000000000006, 63.400000000000006, 63.7, 63.599999999999994, 64.0, 63.7, 64.3, 64.5, 64.9, 65.5, 65.5, 65.9, 66.2, 66.1, 65.4, 64.9, 64.6, 64.0, 63.8, 63.599999999999994, 63.599999999999994, 62.8, 62.900000000000006, 63.0, 63.099999999999994, 64.1, 64.1, 63.7, 63.099999999999994, 63.099999999999994, 64.1, 64.6, 65.3, 65.9, 64.5, 64.5, 64.5, 64.5, 65.1, 64.5, 63.900000000000006, 64.5, 64.5, 64.0, 63.099999999999994, 63.0, 63.2, 63.400000000000006, 63.400000000000006, 64.3, 65.0, 65.5, 64.0, 63.2, 63.7, 62.8, 62.400000000000006, 63.0, 63.5, 63.5, 63.0, 63.7, 63.900000000000006, 63.8, 62.599999999999994, 63.2], \"yaxis\": \"y\"}],\n                        {\"legend\": {\"tracegroupgap\": 0}, \"margin\": {\"t\": 60}, \"template\": {\"data\": {\"bar\": [{\"error_x\": {\"color\": \"#2a3f5f\"}, \"error_y\": {\"color\": \"#2a3f5f\"}, \"marker\": {\"line\": {\"color\": \"#E5ECF6\", \"width\": 0.5}}, \"type\": \"bar\"}], \"barpolar\": [{\"marker\": {\"line\": {\"color\": \"#E5ECF6\", \"width\": 0.5}}, \"type\": \"barpolar\"}], \"carpet\": [{\"aaxis\": {\"endlinecolor\": \"#2a3f5f\", \"gridcolor\": \"white\", \"linecolor\": \"white\", \"minorgridcolor\": \"white\", \"startlinecolor\": \"#2a3f5f\"}, \"baxis\": {\"endlinecolor\": \"#2a3f5f\", \"gridcolor\": \"white\", \"linecolor\": \"white\", \"minorgridcolor\": \"white\", \"startlinecolor\": \"#2a3f5f\"}, \"type\": \"carpet\"}], \"choropleth\": [{\"colorbar\": {\"outlinewidth\": 0, \"ticks\": \"\"}, \"type\": \"choropleth\"}], \"contour\": [{\"colorbar\": {\"outlinewidth\": 0, \"ticks\": \"\"}, \"colorscale\": [[0.0, \"#0d0887\"], [0.1111111111111111, \"#46039f\"], [0.2222222222222222, \"#7201a8\"], [0.3333333333333333, \"#9c179e\"], [0.4444444444444444, \"#bd3786\"], [0.5555555555555556, \"#d8576b\"], [0.6666666666666666, \"#ed7953\"], [0.7777777777777778, \"#fb9f3a\"], [0.8888888888888888, \"#fdca26\"], [1.0, \"#f0f921\"]], \"type\": \"contour\"}], \"contourcarpet\": [{\"colorbar\": {\"outlinewidth\": 0, \"ticks\": \"\"}, \"type\": \"contourcarpet\"}], \"heatmap\": [{\"colorbar\": {\"outlinewidth\": 0, \"ticks\": \"\"}, \"colorscale\": [[0.0, \"#0d0887\"], [0.1111111111111111, \"#46039f\"], [0.2222222222222222, \"#7201a8\"], [0.3333333333333333, \"#9c179e\"], [0.4444444444444444, \"#bd3786\"], [0.5555555555555556, \"#d8576b\"], [0.6666666666666666, \"#ed7953\"], [0.7777777777777778, \"#fb9f3a\"], [0.8888888888888888, \"#fdca26\"], [1.0, \"#f0f921\"]], \"type\": \"heatmap\"}], \"heatmapgl\": [{\"colorbar\": {\"outlinewidth\": 0, \"ticks\": \"\"}, \"colorscale\": [[0.0, \"#0d0887\"], [0.1111111111111111, \"#46039f\"], [0.2222222222222222, \"#7201a8\"], [0.3333333333333333, \"#9c179e\"], [0.4444444444444444, \"#bd3786\"], [0.5555555555555556, \"#d8576b\"], [0.6666666666666666, \"#ed7953\"], [0.7777777777777778, \"#fb9f3a\"], [0.8888888888888888, \"#fdca26\"], [1.0, \"#f0f921\"]], \"type\": \"heatmapgl\"}], \"histogram\": [{\"marker\": {\"colorbar\": {\"outlinewidth\": 0, \"ticks\": \"\"}}, \"type\": \"histogram\"}], \"histogram2d\": [{\"colorbar\": {\"outlinewidth\": 0, \"ticks\": \"\"}, \"colorscale\": [[0.0, \"#0d0887\"], [0.1111111111111111, \"#46039f\"], [0.2222222222222222, \"#7201a8\"], [0.3333333333333333, \"#9c179e\"], [0.4444444444444444, \"#bd3786\"], [0.5555555555555556, \"#d8576b\"], [0.6666666666666666, \"#ed7953\"], [0.7777777777777778, \"#fb9f3a\"], [0.8888888888888888, \"#fdca26\"], [1.0, \"#f0f921\"]], \"type\": \"histogram2d\"}], \"histogram2dcontour\": [{\"colorbar\": {\"outlinewidth\": 0, \"ticks\": \"\"}, \"colorscale\": [[0.0, \"#0d0887\"], [0.1111111111111111, \"#46039f\"], [0.2222222222222222, \"#7201a8\"], [0.3333333333333333, \"#9c179e\"], [0.4444444444444444, \"#bd3786\"], [0.5555555555555556, \"#d8576b\"], [0.6666666666666666, \"#ed7953\"], [0.7777777777777778, \"#fb9f3a\"], [0.8888888888888888, \"#fdca26\"], [1.0, \"#f0f921\"]], \"type\": \"histogram2dcontour\"}], \"mesh3d\": [{\"colorbar\": {\"outlinewidth\": 0, \"ticks\": \"\"}, \"type\": \"mesh3d\"}], \"parcoords\": [{\"line\": {\"colorbar\": {\"outlinewidth\": 0, \"ticks\": \"\"}}, \"type\": \"parcoords\"}], \"pie\": [{\"automargin\": true, \"type\": \"pie\"}], \"scatter\": [{\"marker\": {\"colorbar\": {\"outlinewidth\": 0, \"ticks\": \"\"}}, \"type\": \"scatter\"}], \"scatter3d\": [{\"line\": {\"colorbar\": {\"outlinewidth\": 0, \"ticks\": \"\"}}, \"marker\": {\"colorbar\": {\"outlinewidth\": 0, \"ticks\": \"\"}}, \"type\": \"scatter3d\"}], \"scattercarpet\": [{\"marker\": {\"colorbar\": {\"outlinewidth\": 0, \"ticks\": \"\"}}, \"type\": \"scattercarpet\"}], \"scattergeo\": [{\"marker\": {\"colorbar\": {\"outlinewidth\": 0, \"ticks\": \"\"}}, \"type\": \"scattergeo\"}], \"scattergl\": [{\"marker\": {\"colorbar\": {\"outlinewidth\": 0, \"ticks\": \"\"}}, \"type\": \"scattergl\"}], \"scattermapbox\": [{\"marker\": {\"colorbar\": {\"outlinewidth\": 0, \"ticks\": \"\"}}, \"type\": \"scattermapbox\"}], \"scatterpolar\": [{\"marker\": {\"colorbar\": {\"outlinewidth\": 0, \"ticks\": \"\"}}, \"type\": \"scatterpolar\"}], \"scatterpolargl\": [{\"marker\": {\"colorbar\": {\"outlinewidth\": 0, \"ticks\": \"\"}}, \"type\": \"scatterpolargl\"}], \"scatterternary\": [{\"marker\": {\"colorbar\": {\"outlinewidth\": 0, \"ticks\": \"\"}}, \"type\": \"scatterternary\"}], \"surface\": [{\"colorbar\": {\"outlinewidth\": 0, \"ticks\": \"\"}, \"colorscale\": [[0.0, \"#0d0887\"], [0.1111111111111111, \"#46039f\"], [0.2222222222222222, \"#7201a8\"], [0.3333333333333333, \"#9c179e\"], [0.4444444444444444, \"#bd3786\"], [0.5555555555555556, \"#d8576b\"], [0.6666666666666666, \"#ed7953\"], [0.7777777777777778, \"#fb9f3a\"], [0.8888888888888888, \"#fdca26\"], [1.0, \"#f0f921\"]], \"type\": \"surface\"}], \"table\": [{\"cells\": {\"fill\": {\"color\": \"#EBF0F8\"}, \"line\": {\"color\": \"white\"}}, \"header\": {\"fill\": {\"color\": \"#C8D4E3\"}, \"line\": {\"color\": \"white\"}}, \"type\": \"table\"}]}, \"layout\": {\"annotationdefaults\": {\"arrowcolor\": \"#2a3f5f\", \"arrowhead\": 0, \"arrowwidth\": 1}, \"coloraxis\": {\"colorbar\": {\"outlinewidth\": 0, \"ticks\": \"\"}}, \"colorscale\": {\"diverging\": [[0, \"#8e0152\"], [0.1, \"#c51b7d\"], [0.2, \"#de77ae\"], [0.3, \"#f1b6da\"], [0.4, \"#fde0ef\"], [0.5, \"#f7f7f7\"], [0.6, \"#e6f5d0\"], [0.7, \"#b8e186\"], [0.8, \"#7fbc41\"], [0.9, \"#4d9221\"], [1, \"#276419\"]], \"sequential\": [[0.0, \"#0d0887\"], [0.1111111111111111, \"#46039f\"], [0.2222222222222222, \"#7201a8\"], [0.3333333333333333, \"#9c179e\"], [0.4444444444444444, \"#bd3786\"], [0.5555555555555556, \"#d8576b\"], [0.6666666666666666, \"#ed7953\"], [0.7777777777777778, \"#fb9f3a\"], [0.8888888888888888, \"#fdca26\"], [1.0, \"#f0f921\"]], \"sequentialminus\": [[0.0, \"#0d0887\"], [0.1111111111111111, \"#46039f\"], [0.2222222222222222, \"#7201a8\"], [0.3333333333333333, \"#9c179e\"], [0.4444444444444444, \"#bd3786\"], [0.5555555555555556, \"#d8576b\"], [0.6666666666666666, \"#ed7953\"], [0.7777777777777778, \"#fb9f3a\"], [0.8888888888888888, \"#fdca26\"], [1.0, \"#f0f921\"]]}, \"colorway\": [\"#636efa\", \"#EF553B\", \"#00cc96\", \"#ab63fa\", \"#FFA15A\", \"#19d3f3\", \"#FF6692\", \"#B6E880\", \"#FF97FF\", \"#FECB52\"], \"font\": {\"color\": \"#2a3f5f\"}, \"geo\": {\"bgcolor\": \"white\", \"lakecolor\": \"white\", \"landcolor\": \"#E5ECF6\", \"showlakes\": true, \"showland\": true, \"subunitcolor\": \"white\"}, \"hoverlabel\": {\"align\": \"left\"}, \"hovermode\": \"closest\", \"mapbox\": {\"style\": \"light\"}, \"paper_bgcolor\": \"white\", \"plot_bgcolor\": \"#E5ECF6\", \"polar\": {\"angularaxis\": {\"gridcolor\": \"white\", \"linecolor\": \"white\", \"ticks\": \"\"}, \"bgcolor\": \"#E5ECF6\", \"radialaxis\": {\"gridcolor\": \"white\", \"linecolor\": \"white\", \"ticks\": \"\"}}, \"scene\": {\"xaxis\": {\"backgroundcolor\": \"#E5ECF6\", \"gridcolor\": \"white\", \"gridwidth\": 2, \"linecolor\": \"white\", \"showbackground\": true, \"ticks\": \"\", \"zerolinecolor\": \"white\"}, \"yaxis\": {\"backgroundcolor\": \"#E5ECF6\", \"gridcolor\": \"white\", \"gridwidth\": 2, \"linecolor\": \"white\", \"showbackground\": true, \"ticks\": \"\", \"zerolinecolor\": \"white\"}, \"zaxis\": {\"backgroundcolor\": \"#E5ECF6\", \"gridcolor\": \"white\", \"gridwidth\": 2, \"linecolor\": \"white\", \"showbackground\": true, \"ticks\": \"\", \"zerolinecolor\": \"white\"}}, \"shapedefaults\": {\"line\": {\"color\": \"#2a3f5f\"}}, \"ternary\": {\"aaxis\": {\"gridcolor\": \"white\", \"linecolor\": \"white\", \"ticks\": \"\"}, \"baxis\": {\"gridcolor\": \"white\", \"linecolor\": \"white\", \"ticks\": \"\"}, \"bgcolor\": \"#E5ECF6\", \"caxis\": {\"gridcolor\": \"white\", \"linecolor\": \"white\", \"ticks\": \"\"}}, \"title\": {\"x\": 0.05}, \"xaxis\": {\"automargin\": true, \"gridcolor\": \"white\", \"linecolor\": \"white\", \"ticks\": \"\", \"title\": {\"standoff\": 15}, \"zerolinecolor\": \"white\", \"zerolinewidth\": 2}, \"yaxis\": {\"automargin\": true, \"gridcolor\": \"white\", \"linecolor\": \"white\", \"ticks\": \"\", \"title\": {\"standoff\": 15}, \"zerolinecolor\": \"white\", \"zerolinewidth\": 2}}}, \"xaxis\": {\"anchor\": \"y\", \"domain\": [0.0, 1.0], \"title\": {\"text\": \"time\"}}, \"yaxis\": {\"anchor\": \"x\", \"domain\": [0.0, 1.0], \"title\": {\"text\": \"temp\"}}},\n                        {\"responsive\": true}\n                    ).then(function(){\n                            \nvar gd = document.getElementById('d5706965-20f3-4a1d-9337-f7444b7a7ece');\nvar x = new MutationObserver(function (mutations, observer) {{\n        var display = window.getComputedStyle(gd).display;\n        if (!display || display === 'none') {{\n            console.log([gd, 'removed!']);\n            Plotly.purge(gd);\n            observer.disconnect();\n        }}\n}});\n\n// Listen for the removal of the full notebook cells\nvar notebookContainer = gd.closest('#notebook-container');\nif (notebookContainer) {{\n    x.observe(notebookContainer, {childList: true});\n}}\n\n// Listen for the clearing of the current output cell\nvar outputEl = gd.closest('.output');\nif (outputEl) {{\n    x.observe(outputEl, {childList: true});\n}}\n\n                        })\n                };\n                });\n            </script>\n        </div>"
     },
     "metadata": {}
    }
   ],
   "source": [
    "fig = px.line(df, y='temp')\n",
    "fig.show()\n"
   ]
  },
  {
   "cell_type": "code",
   "execution_count": 57,
   "metadata": {},
   "outputs": [
    {
     "output_type": "display_data",
     "data": {
      "application/vnd.plotly.v1+json": {
       "config": {
        "plotlyServerURL": "https://plot.ly"
       },
       "data": [
        {
         "hovertemplate": "time=%{x}<br>avr_wind=%{y}<extra></extra>",
         "legendgroup": "",
         "line": {
          "color": "#636efa",
          "dash": "solid"
         },
         "mode": "lines",
         "name": "",
         "orientation": "v",
         "showlegend": false,
         "type": "scatter",
         "x": [
          "2021-05-20T21:33:23",
          "2021-05-20T21:33:39",
          "2021-05-20T21:33:55",
          "2021-05-20T21:34:11",
          "2021-05-20T21:34:27",
          "2021-05-20T21:34:43",
          "2021-05-20T21:34:43",
          "2021-05-20T21:34:59",
          "2021-05-20T21:35:15",
          "2021-05-20T21:35:31",
          "2021-05-20T21:35:47",
          "2021-05-20T21:36:03",
          "2021-05-20T21:36:19",
          "2021-05-20T21:36:35",
          "2021-05-20T21:36:51",
          "2021-05-20T21:37:07",
          "2021-05-20T21:37:23",
          "2021-05-20T21:37:39",
          "2021-05-20T21:37:55",
          "2021-05-20T21:38:11",
          "2021-05-20T21:38:27",
          "2021-05-20T21:38:43",
          "2021-05-20T21:38:59",
          "2021-05-20T21:39:15",
          "2021-05-20T21:39:31",
          "2021-05-20T21:39:47",
          "2021-05-20T21:40:03",
          "2021-05-20T21:40:19",
          "2021-05-20T21:40:35",
          "2021-05-20T21:40:51",
          "2021-05-20T21:41:07",
          "2021-05-20T21:41:23",
          "2021-05-20T21:41:39",
          "2021-05-20T21:41:39",
          "2021-05-20T21:41:55",
          "2021-05-20T21:42:11",
          "2021-05-20T21:42:27",
          "2021-05-20T21:42:43",
          "2021-05-20T21:42:59",
          "2021-05-20T21:43:15",
          "2021-05-20T21:43:31",
          "2021-05-20T21:43:47",
          "2021-05-20T21:44:03",
          "2021-05-20T21:44:35",
          "2021-05-20T21:44:51",
          "2021-05-20T21:45:07",
          "2021-05-20T21:45:23",
          "2021-05-20T21:45:39",
          "2021-05-20T21:45:55",
          "2021-05-20T21:46:11",
          "2021-05-20T21:46:27",
          "2021-05-20T21:46:43",
          "2021-05-20T21:46:59",
          "2021-05-20T21:47:15",
          "2021-05-20T21:47:31",
          "2021-05-20T21:47:47",
          "2021-05-20T21:48:03",
          "2021-05-20T21:48:19",
          "2021-05-20T21:48:35",
          "2021-05-20T21:48:35",
          "2021-05-20T21:49:07",
          "2021-05-20T21:49:39",
          "2021-05-20T21:50:11",
          "2021-05-20T21:50:43",
          "2021-05-20T21:51:15",
          "2021-05-20T21:51:47",
          "2021-05-20T21:52:19",
          "2021-05-20T21:52:35",
          "2021-05-20T21:52:51",
          "2021-05-20T21:53:07",
          "2021-05-20T21:53:23",
          "2021-05-20T21:53:39",
          "2021-05-20T21:53:55",
          "2021-05-20T21:54:11",
          "2021-05-20T21:54:27",
          "2021-05-20T21:54:43",
          "2021-05-20T21:54:59",
          "2021-05-20T21:55:15",
          "2021-05-20T21:55:31",
          "2021-05-20T21:55:47",
          "2021-05-20T21:56:03",
          "2021-05-20T21:56:19",
          "2021-05-20T21:56:35",
          "2021-05-20T21:56:51",
          "2021-05-20T21:57:07",
          "2021-05-20T21:57:23",
          "2021-05-20T21:57:39",
          "2021-05-20T21:57:55",
          "2021-05-20T21:58:11",
          "2021-05-20T21:58:27",
          "2021-05-20T21:58:43",
          "2021-05-20T21:58:59",
          "2021-05-20T21:59:15",
          "2021-05-20T21:59:15",
          "2021-05-20T21:59:31",
          "2021-05-20T21:59:47",
          "2021-05-20T22:00:03",
          "2021-05-20T22:00:19",
          "2021-05-20T22:00:19",
          "2021-05-20T22:00:35",
          "2021-05-20T22:00:51",
          "2021-05-20T22:01:07",
          "2021-05-20T22:01:23",
          "2021-05-20T22:01:23",
          "2021-05-20T22:01:39",
          "2021-05-20T22:01:55",
          "2021-05-20T22:02:11",
          "2021-05-20T22:02:27",
          "2021-05-20T22:02:43",
          "2021-05-20T22:02:59",
          "2021-05-20T22:03:15",
          "2021-05-20T22:03:31",
          "2021-05-20T22:03:47",
          "2021-05-20T22:04:03",
          "2021-05-20T22:04:19",
          "2021-05-20T22:04:35",
          "2021-05-20T22:04:51",
          "2021-05-20T22:05:07",
          "2021-05-20T22:05:07",
          "2021-05-20T22:05:39",
          "2021-05-20T22:06:11",
          "2021-05-20T22:06:43",
          "2021-05-20T22:07:15",
          "2021-05-20T22:07:47",
          "2021-05-20T22:08:19",
          "2021-05-20T22:08:51",
          "2021-05-20T22:09:23",
          "2021-05-20T22:09:55",
          "2021-05-20T22:10:27",
          "2021-05-20T22:10:59",
          "2021-05-20T22:11:15",
          "2021-05-20T22:11:31",
          "2021-05-20T22:11:47",
          "2021-05-20T22:12:03",
          "2021-05-20T22:12:19",
          "2021-05-20T22:12:35",
          "2021-05-20T22:12:51",
          "2021-05-20T22:13:07",
          "2021-05-20T22:13:23",
          "2021-05-20T22:13:39",
          "2021-05-20T22:13:55",
          "2021-05-20T22:14:11",
          "2021-05-20T22:14:27",
          "2021-05-20T22:14:43",
          "2021-05-20T22:14:59",
          "2021-05-20T22:15:15",
          "2021-05-20T22:15:31",
          "2021-05-20T22:15:47",
          "2021-05-20T22:16:03",
          "2021-05-20T22:16:19",
          "2021-05-20T22:16:35",
          "2021-05-20T22:16:51",
          "2021-05-20T22:17:07",
          "2021-05-20T22:17:23",
          "2021-05-20T22:17:39",
          "2021-05-20T22:17:55",
          "2021-05-20T22:18:11",
          "2021-05-20T22:18:27",
          "2021-05-20T22:18:43",
          "2021-05-20T22:18:59",
          "2021-05-20T22:18:59",
          "2021-05-20T22:19:15",
          "2021-05-20T22:19:31",
          "2021-05-20T22:19:47",
          "2021-05-20T22:20:03",
          "2021-05-20T22:20:19",
          "2021-05-20T22:20:35",
          "2021-05-20T22:20:51",
          "2021-05-20T22:21:07",
          "2021-05-20T22:21:23",
          "2021-05-20T22:21:39",
          "2021-05-20T22:21:55",
          "2021-05-20T22:22:11",
          "2021-05-20T22:22:27",
          "2021-05-20T22:22:43",
          "2021-05-20T22:22:59",
          "2021-05-20T22:23:15",
          "2021-05-20T22:23:31",
          "2021-05-20T22:23:47",
          "2021-05-20T22:24:03",
          "2021-05-20T22:24:19",
          "2021-05-20T22:24:35",
          "2021-05-20T22:24:51",
          "2021-05-20T22:25:07",
          "2021-05-20T22:25:23",
          "2021-05-20T22:25:39",
          "2021-05-20T22:25:55",
          "2021-05-20T22:26:11",
          "2021-05-20T22:26:27",
          "2021-05-20T22:26:43",
          "2021-05-20T22:26:59",
          "2021-05-20T22:27:15",
          "2021-05-20T22:27:31",
          "2021-05-20T22:27:47",
          "2021-05-20T22:28:03",
          "2021-05-20T22:28:19",
          "2021-05-20T22:28:35",
          "2021-05-20T22:28:51",
          "2021-05-20T22:29:07",
          "2021-05-20T22:29:23",
          "2021-05-20T22:29:39",
          "2021-05-20T22:30:11",
          "2021-05-20T22:30:27",
          "2021-05-20T22:30:43",
          "2021-05-20T22:30:43",
          "2021-05-20T22:30:59",
          "2021-05-20T22:31:15",
          "2021-05-20T22:31:31",
          "2021-05-20T22:31:47",
          "2021-05-20T22:32:03",
          "2021-05-20T22:32:19",
          "2021-05-20T22:32:35",
          "2021-05-20T22:32:51",
          "2021-05-20T22:33:07",
          "2021-05-20T22:33:23",
          "2021-05-20T22:33:39",
          "2021-05-20T22:33:55",
          "2021-05-20T22:34:11",
          "2021-05-20T22:34:27",
          "2021-05-20T22:34:43",
          "2021-05-20T22:34:59",
          "2021-05-20T22:35:15",
          "2021-05-20T22:35:31",
          "2021-05-20T22:35:47",
          "2021-05-20T22:36:03",
          "2021-05-20T22:36:19",
          "2021-05-20T22:36:35",
          "2021-05-20T22:36:51",
          "2021-05-20T22:37:07",
          "2021-05-20T22:37:23",
          "2021-05-20T22:37:39",
          "2021-05-20T22:37:55",
          "2021-05-20T22:38:11",
          "2021-05-20T22:38:27",
          "2021-05-20T22:38:43",
          "2021-05-20T22:38:59",
          "2021-05-20T22:39:15",
          "2021-05-20T22:39:31",
          "2021-05-20T22:39:47",
          "2021-05-20T22:40:03",
          "2021-05-20T22:40:19",
          "2021-05-20T22:40:35",
          "2021-05-20T22:40:51",
          "2021-05-20T22:41:07",
          "2021-05-20T22:41:23",
          "2021-05-20T22:41:39",
          "2021-05-20T22:41:55",
          "2021-05-20T22:42:11",
          "2021-05-20T22:42:27",
          "2021-05-20T22:42:43",
          "2021-05-20T22:42:59",
          "2021-05-20T22:43:15",
          "2021-05-20T22:43:31",
          "2021-05-20T22:43:47",
          "2021-05-20T22:44:03",
          "2021-05-20T22:44:19",
          "2021-05-20T22:44:35",
          "2021-05-20T22:44:51",
          "2021-05-20T22:45:07",
          "2021-05-20T22:45:23",
          "2021-05-20T22:45:39",
          "2021-05-20T22:45:55",
          "2021-05-20T22:46:11",
          "2021-05-20T22:46:27",
          "2021-05-20T22:46:43",
          "2021-05-20T22:46:59",
          "2021-05-20T22:47:15",
          "2021-05-20T22:47:31",
          "2021-05-20T22:47:47",
          "2021-05-20T22:48:03",
          "2021-05-20T22:48:19",
          "2021-05-20T22:48:35",
          "2021-05-20T22:48:51",
          "2021-05-20T22:49:07",
          "2021-05-20T22:49:23",
          "2021-05-20T22:49:39",
          "2021-05-20T22:49:55",
          "2021-05-20T22:50:11",
          "2021-05-20T22:50:27",
          "2021-05-20T22:50:43",
          "2021-05-20T22:50:59",
          "2021-05-20T22:51:15",
          "2021-05-20T22:51:31",
          "2021-05-20T22:51:47",
          "2021-05-20T22:52:03",
          "2021-05-20T22:52:19",
          "2021-05-20T22:52:35",
          "2021-05-20T22:52:51",
          "2021-05-20T22:53:07",
          "2021-05-20T22:53:23",
          "2021-05-20T22:53:39",
          "2021-05-20T22:53:55",
          "2021-05-20T22:54:11",
          "2021-05-20T22:54:27",
          "2021-05-20T22:54:43",
          "2021-05-20T22:54:59",
          "2021-05-20T22:55:15",
          "2021-05-20T22:55:31",
          "2021-05-20T22:55:47",
          "2021-05-20T22:56:03",
          "2021-05-20T22:56:19",
          "2021-05-20T22:56:35",
          "2021-05-20T22:56:51",
          "2021-05-20T22:57:07",
          "2021-05-20T22:57:23",
          "2021-05-20T22:57:39",
          "2021-05-20T22:57:55",
          "2021-05-20T22:58:11",
          "2021-05-20T22:58:27",
          "2021-05-20T22:58:43",
          "2021-05-20T22:58:59",
          "2021-05-20T22:59:15",
          "2021-05-20T22:59:31",
          "2021-05-20T22:59:47",
          "2021-05-20T23:00:03",
          "2021-05-20T23:00:19",
          "2021-05-20T23:00:35",
          "2021-05-20T23:00:51",
          "2021-05-20T23:01:07",
          "2021-05-20T23:01:23",
          "2021-05-20T23:01:39",
          "2021-05-20T23:01:55",
          "2021-05-20T23:02:11",
          "2021-05-20T23:02:27",
          "2021-05-20T23:02:43",
          "2021-05-20T23:02:59",
          "2021-05-20T23:03:15",
          "2021-05-20T23:03:31",
          "2021-05-20T23:03:47",
          "2021-05-20T23:04:03",
          "2021-05-20T23:04:20",
          "2021-05-20T23:04:35",
          "2021-05-20T23:04:51",
          "2021-05-20T23:05:07",
          "2021-05-20T23:05:23",
          "2021-05-20T23:05:39",
          "2021-05-20T23:05:55",
          "2021-05-20T23:06:11",
          "2021-05-20T23:06:27",
          "2021-05-20T23:06:43",
          "2021-05-20T23:06:59",
          "2021-05-20T23:07:15",
          "2021-05-20T23:07:31",
          "2021-05-20T23:07:47",
          "2021-05-20T23:08:03",
          "2021-05-20T23:08:19",
          "2021-05-20T23:08:35",
          "2021-05-20T23:08:51",
          "2021-05-20T23:09:07",
          "2021-05-20T23:09:23",
          "2021-05-20T23:09:39",
          "2021-05-20T23:09:55",
          "2021-05-20T23:10:11",
          "2021-05-20T23:10:43",
          "2021-05-20T23:10:59",
          "2021-05-20T23:11:15",
          "2021-05-20T23:11:31",
          "2021-05-20T23:11:47",
          "2021-05-20T23:12:03",
          "2021-05-20T23:12:19",
          "2021-05-20T23:12:19",
          "2021-05-20T23:12:35",
          "2021-05-20T23:12:51",
          "2021-05-20T23:13:07",
          "2021-05-20T23:13:23",
          "2021-05-20T23:13:39",
          "2021-05-20T23:13:57",
          "2021-05-20T23:14:11",
          "2021-05-20T23:14:27",
          "2021-05-20T23:14:43",
          "2021-05-20T23:14:59",
          "2021-05-20T23:15:15",
          "2021-05-20T23:15:31",
          "2021-05-20T23:15:46",
          "2021-05-20T23:16:02",
          "2021-05-20T23:16:19",
          "2021-05-20T23:16:34",
          "2021-05-20T23:16:51",
          "2021-05-20T23:17:06",
          "2021-05-20T23:17:07",
          "2021-05-20T23:17:22",
          "2021-05-20T23:17:38",
          "2021-05-20T23:17:54",
          "2021-05-20T23:18:10",
          "2021-05-20T23:18:26",
          "2021-05-20T23:18:43",
          "2021-05-20T23:18:58",
          "2021-05-20T23:19:14",
          "2021-05-20T23:19:15",
          "2021-05-20T23:19:47",
          "2021-05-20T23:20:19",
          "2021-05-20T23:20:51",
          "2021-05-20T23:21:23",
          "2021-05-20T23:21:55",
          "2021-05-20T23:22:27",
          "2021-05-20T23:22:59",
          "2021-05-20T23:23:31",
          "2021-05-20T23:24:03",
          "2021-05-20T23:24:35",
          "2021-05-20T23:25:07",
          "2021-05-20T23:25:39",
          "2021-05-20T23:25:54",
          "2021-05-20T23:26:10",
          "2021-05-20T23:26:26",
          "2021-05-20T23:26:42",
          "2021-05-20T23:26:58",
          "2021-05-20T23:27:14",
          "2021-05-20T23:27:30",
          "2021-05-20T23:27:46",
          "2021-05-20T23:28:02",
          "2021-05-20T23:28:18",
          "2021-05-20T23:28:34",
          "2021-05-20T23:28:50",
          "2021-05-20T23:29:06",
          "2021-05-20T23:29:22",
          "2021-05-20T23:29:54",
          "2021-05-20T23:30:10",
          "2021-05-20T23:30:26",
          "2021-05-20T23:30:42",
          "2021-05-20T23:30:58",
          "2021-05-20T23:31:14",
          "2021-05-20T23:31:30",
          "2021-05-20T23:31:46",
          "2021-05-20T23:32:02",
          "2021-05-20T23:32:18"
         ],
         "xaxis": "x",
         "y": [
          2.5,
          3.8,
          2.4,
          1.9,
          2.1,
          3.8,
          3.8,
          2,
          1.9,
          2.5,
          2.9,
          1.7,
          2.8,
          3.3,
          2.2,
          3.6,
          2.4,
          2.9,
          2.9,
          2.4,
          1.7,
          2.2,
          2.4,
          2.7,
          3.4,
          3.3,
          3.4,
          3.9,
          2.8,
          1.9,
          2,
          3.9,
          3.7,
          3.7,
          3.1,
          3.3,
          3.2,
          2.6,
          4.1,
          2.8,
          2.1,
          2.6,
          4,
          5.2,
          4,
          null,
          4.7,
          2.6,
          3.5,
          2.9,
          2.3,
          2.6,
          1.4,
          2.4,
          2,
          1.8,
          2.1,
          2,
          1.5,
          1.5,
          2.2,
          2.1,
          4.4,
          2.1,
          2.6,
          2.9,
          1.9,
          4,
          3.8,
          3,
          4.6,
          2,
          2.5,
          3.7,
          2.5,
          2.8,
          2.6,
          2.1,
          2.4,
          null,
          1.2,
          2.8,
          2.7,
          4.8,
          2.2,
          2,
          2.4,
          1.7,
          2.1,
          1.9,
          1.8,
          2.7,
          5,
          5,
          3.3,
          3.8,
          3.4,
          2.2,
          2.2,
          1.8,
          1.7,
          1.4,
          1.4,
          1.4,
          2.2,
          2.6,
          2.5,
          2.2,
          3.4,
          3,
          1.9,
          3.6,
          3.6,
          1.8,
          3.5,
          3.7,
          2.1,
          1.9,
          1.9,
          2.8,
          3,
          4,
          1.9,
          2.3,
          2.6,
          2.8,
          2.3,
          2.5,
          2.8,
          4.4,
          1.6,
          2.1,
          2.2,
          3.7,
          4.2,
          2.2,
          2.7,
          3.6,
          1.7,
          1.4,
          1.1,
          1.6,
          2,
          2.1,
          3.3,
          2.9,
          1.6,
          1.8,
          1.7,
          2.4,
          3.6,
          3.4,
          4.3,
          4.7,
          3.9,
          4.3,
          1.7,
          1.2,
          2.4,
          2.9,
          2.9,
          4.5,
          2.4,
          4.4,
          3.5,
          3.5,
          3.5,
          4.5,
          5.2,
          3.4,
          2.6,
          2.5,
          null,
          4.4,
          3.9,
          3.2,
          4,
          2.7,
          3,
          3.8,
          4.3,
          5,
          2.7,
          2.3,
          3,
          2.8,
          1.2,
          2.8,
          3.8,
          2,
          3.2,
          2.4,
          2.3,
          2.9,
          1.7,
          0.9,
          1.5,
          2.5,
          3.3,
          3.2,
          1.8,
          3.3,
          2.1,
          3.3,
          3.3,
          3.8,
          3.5,
          2.4,
          3.4,
          4.6,
          3.8,
          4.4,
          3,
          4.3,
          3.9,
          3.5,
          3.4,
          4.2,
          2.6,
          2.6,
          3,
          4.9,
          3.4,
          2.9,
          3.4,
          4.7,
          4.7,
          4.7,
          3.4,
          3.1,
          2.9,
          2.5,
          1.8,
          4.3,
          2.3,
          3.2,
          4.7,
          4.7,
          3.9,
          2.1,
          2.9,
          1.4,
          2.4,
          3.2,
          3.1,
          3.5,
          2.2,
          2.5,
          4.2,
          2.6,
          2.2,
          2.8,
          2.2,
          1.1,
          3.7,
          2.5,
          4,
          3.8,
          3.3,
          1.8,
          2.4,
          1.8,
          3.9,
          2.4,
          2.1,
          4.6,
          4.4,
          5,
          3.6,
          1.3,
          2.1,
          2,
          1.4,
          3.9,
          4.5,
          4.2,
          2.8,
          2.6,
          4.5,
          2.1,
          5.6,
          5.6,
          4.7,
          3,
          3.5,
          3.6,
          4.9,
          4.3,
          2.5,
          2,
          2.6,
          3.6,
          2.3,
          1,
          1,
          2.1,
          1.8,
          1.3,
          1.7,
          3.3,
          1.7,
          1.7,
          2,
          1.7,
          1.3,
          1,
          1.8,
          1.7,
          3.3,
          2.5,
          2,
          4.5,
          3.8,
          4.3,
          4.3,
          1.2,
          1.5,
          1.8,
          2.5,
          3.4,
          1.1,
          2.6,
          3.6,
          2.2,
          2.7,
          3.4,
          1.9,
          1.9,
          2.5,
          1.8,
          1.4,
          2.1,
          2.2,
          1.4,
          1.6,
          1.8,
          1.7,
          2.1,
          2.7,
          1.9,
          3.1,
          4.7,
          2.8,
          1.4,
          4.2,
          1.7,
          3.1,
          3.2,
          3,
          2.5,
          2,
          3,
          2.5,
          3.8,
          3.8,
          4.2,
          3.1,
          2,
          3.2,
          2.8,
          2.8,
          2.2,
          3.1,
          2.7,
          4.2,
          3.5,
          2.8,
          2.5,
          1.4,
          1.6,
          2,
          2.3,
          2.3,
          2.7,
          4.9,
          4,
          2.8,
          3.5,
          3.6,
          3.6,
          4.2,
          3.2,
          3.3,
          3.6,
          2.2,
          3.2,
          3.3,
          4.2,
          4.2,
          2.6,
          2.3,
          1.4,
          0.4,
          4.5,
          2.8,
          2.9,
          1.7,
          2.8,
          3.4,
          3.5,
          2.5,
          2,
          3.4,
          3.8,
          2.4,
          3,
          3,
          4.2,
          2.9,
          2.8,
          3.3,
          4.2,
          4.2,
          2.3,
          4.3,
          3.1,
          1.8,
          0.9,
          1.7,
          3.4,
          3.4,
          2.5,
          3.3,
          4.6,
          2.7
         ],
         "yaxis": "y"
        }
       ],
       "layout": {
        "legend": {
         "tracegroupgap": 0
        },
        "margin": {
         "t": 60
        },
        "template": {
         "data": {
          "bar": [
           {
            "error_x": {
             "color": "#2a3f5f"
            },
            "error_y": {
             "color": "#2a3f5f"
            },
            "marker": {
             "line": {
              "color": "#E5ECF6",
              "width": 0.5
             }
            },
            "type": "bar"
           }
          ],
          "barpolar": [
           {
            "marker": {
             "line": {
              "color": "#E5ECF6",
              "width": 0.5
             }
            },
            "type": "barpolar"
           }
          ],
          "carpet": [
           {
            "aaxis": {
             "endlinecolor": "#2a3f5f",
             "gridcolor": "white",
             "linecolor": "white",
             "minorgridcolor": "white",
             "startlinecolor": "#2a3f5f"
            },
            "baxis": {
             "endlinecolor": "#2a3f5f",
             "gridcolor": "white",
             "linecolor": "white",
             "minorgridcolor": "white",
             "startlinecolor": "#2a3f5f"
            },
            "type": "carpet"
           }
          ],
          "choropleth": [
           {
            "colorbar": {
             "outlinewidth": 0,
             "ticks": ""
            },
            "type": "choropleth"
           }
          ],
          "contour": [
           {
            "colorbar": {
             "outlinewidth": 0,
             "ticks": ""
            },
            "colorscale": [
             [
              0,
              "#0d0887"
             ],
             [
              0.1111111111111111,
              "#46039f"
             ],
             [
              0.2222222222222222,
              "#7201a8"
             ],
             [
              0.3333333333333333,
              "#9c179e"
             ],
             [
              0.4444444444444444,
              "#bd3786"
             ],
             [
              0.5555555555555556,
              "#d8576b"
             ],
             [
              0.6666666666666666,
              "#ed7953"
             ],
             [
              0.7777777777777778,
              "#fb9f3a"
             ],
             [
              0.8888888888888888,
              "#fdca26"
             ],
             [
              1,
              "#f0f921"
             ]
            ],
            "type": "contour"
           }
          ],
          "contourcarpet": [
           {
            "colorbar": {
             "outlinewidth": 0,
             "ticks": ""
            },
            "type": "contourcarpet"
           }
          ],
          "heatmap": [
           {
            "colorbar": {
             "outlinewidth": 0,
             "ticks": ""
            },
            "colorscale": [
             [
              0,
              "#0d0887"
             ],
             [
              0.1111111111111111,
              "#46039f"
             ],
             [
              0.2222222222222222,
              "#7201a8"
             ],
             [
              0.3333333333333333,
              "#9c179e"
             ],
             [
              0.4444444444444444,
              "#bd3786"
             ],
             [
              0.5555555555555556,
              "#d8576b"
             ],
             [
              0.6666666666666666,
              "#ed7953"
             ],
             [
              0.7777777777777778,
              "#fb9f3a"
             ],
             [
              0.8888888888888888,
              "#fdca26"
             ],
             [
              1,
              "#f0f921"
             ]
            ],
            "type": "heatmap"
           }
          ],
          "heatmapgl": [
           {
            "colorbar": {
             "outlinewidth": 0,
             "ticks": ""
            },
            "colorscale": [
             [
              0,
              "#0d0887"
             ],
             [
              0.1111111111111111,
              "#46039f"
             ],
             [
              0.2222222222222222,
              "#7201a8"
             ],
             [
              0.3333333333333333,
              "#9c179e"
             ],
             [
              0.4444444444444444,
              "#bd3786"
             ],
             [
              0.5555555555555556,
              "#d8576b"
             ],
             [
              0.6666666666666666,
              "#ed7953"
             ],
             [
              0.7777777777777778,
              "#fb9f3a"
             ],
             [
              0.8888888888888888,
              "#fdca26"
             ],
             [
              1,
              "#f0f921"
             ]
            ],
            "type": "heatmapgl"
           }
          ],
          "histogram": [
           {
            "marker": {
             "colorbar": {
              "outlinewidth": 0,
              "ticks": ""
             }
            },
            "type": "histogram"
           }
          ],
          "histogram2d": [
           {
            "colorbar": {
             "outlinewidth": 0,
             "ticks": ""
            },
            "colorscale": [
             [
              0,
              "#0d0887"
             ],
             [
              0.1111111111111111,
              "#46039f"
             ],
             [
              0.2222222222222222,
              "#7201a8"
             ],
             [
              0.3333333333333333,
              "#9c179e"
             ],
             [
              0.4444444444444444,
              "#bd3786"
             ],
             [
              0.5555555555555556,
              "#d8576b"
             ],
             [
              0.6666666666666666,
              "#ed7953"
             ],
             [
              0.7777777777777778,
              "#fb9f3a"
             ],
             [
              0.8888888888888888,
              "#fdca26"
             ],
             [
              1,
              "#f0f921"
             ]
            ],
            "type": "histogram2d"
           }
          ],
          "histogram2dcontour": [
           {
            "colorbar": {
             "outlinewidth": 0,
             "ticks": ""
            },
            "colorscale": [
             [
              0,
              "#0d0887"
             ],
             [
              0.1111111111111111,
              "#46039f"
             ],
             [
              0.2222222222222222,
              "#7201a8"
             ],
             [
              0.3333333333333333,
              "#9c179e"
             ],
             [
              0.4444444444444444,
              "#bd3786"
             ],
             [
              0.5555555555555556,
              "#d8576b"
             ],
             [
              0.6666666666666666,
              "#ed7953"
             ],
             [
              0.7777777777777778,
              "#fb9f3a"
             ],
             [
              0.8888888888888888,
              "#fdca26"
             ],
             [
              1,
              "#f0f921"
             ]
            ],
            "type": "histogram2dcontour"
           }
          ],
          "mesh3d": [
           {
            "colorbar": {
             "outlinewidth": 0,
             "ticks": ""
            },
            "type": "mesh3d"
           }
          ],
          "parcoords": [
           {
            "line": {
             "colorbar": {
              "outlinewidth": 0,
              "ticks": ""
             }
            },
            "type": "parcoords"
           }
          ],
          "pie": [
           {
            "automargin": true,
            "type": "pie"
           }
          ],
          "scatter": [
           {
            "marker": {
             "colorbar": {
              "outlinewidth": 0,
              "ticks": ""
             }
            },
            "type": "scatter"
           }
          ],
          "scatter3d": [
           {
            "line": {
             "colorbar": {
              "outlinewidth": 0,
              "ticks": ""
             }
            },
            "marker": {
             "colorbar": {
              "outlinewidth": 0,
              "ticks": ""
             }
            },
            "type": "scatter3d"
           }
          ],
          "scattercarpet": [
           {
            "marker": {
             "colorbar": {
              "outlinewidth": 0,
              "ticks": ""
             }
            },
            "type": "scattercarpet"
           }
          ],
          "scattergeo": [
           {
            "marker": {
             "colorbar": {
              "outlinewidth": 0,
              "ticks": ""
             }
            },
            "type": "scattergeo"
           }
          ],
          "scattergl": [
           {
            "marker": {
             "colorbar": {
              "outlinewidth": 0,
              "ticks": ""
             }
            },
            "type": "scattergl"
           }
          ],
          "scattermapbox": [
           {
            "marker": {
             "colorbar": {
              "outlinewidth": 0,
              "ticks": ""
             }
            },
            "type": "scattermapbox"
           }
          ],
          "scatterpolar": [
           {
            "marker": {
             "colorbar": {
              "outlinewidth": 0,
              "ticks": ""
             }
            },
            "type": "scatterpolar"
           }
          ],
          "scatterpolargl": [
           {
            "marker": {
             "colorbar": {
              "outlinewidth": 0,
              "ticks": ""
             }
            },
            "type": "scatterpolargl"
           }
          ],
          "scatterternary": [
           {
            "marker": {
             "colorbar": {
              "outlinewidth": 0,
              "ticks": ""
             }
            },
            "type": "scatterternary"
           }
          ],
          "surface": [
           {
            "colorbar": {
             "outlinewidth": 0,
             "ticks": ""
            },
            "colorscale": [
             [
              0,
              "#0d0887"
             ],
             [
              0.1111111111111111,
              "#46039f"
             ],
             [
              0.2222222222222222,
              "#7201a8"
             ],
             [
              0.3333333333333333,
              "#9c179e"
             ],
             [
              0.4444444444444444,
              "#bd3786"
             ],
             [
              0.5555555555555556,
              "#d8576b"
             ],
             [
              0.6666666666666666,
              "#ed7953"
             ],
             [
              0.7777777777777778,
              "#fb9f3a"
             ],
             [
              0.8888888888888888,
              "#fdca26"
             ],
             [
              1,
              "#f0f921"
             ]
            ],
            "type": "surface"
           }
          ],
          "table": [
           {
            "cells": {
             "fill": {
              "color": "#EBF0F8"
             },
             "line": {
              "color": "white"
             }
            },
            "header": {
             "fill": {
              "color": "#C8D4E3"
             },
             "line": {
              "color": "white"
             }
            },
            "type": "table"
           }
          ]
         },
         "layout": {
          "annotationdefaults": {
           "arrowcolor": "#2a3f5f",
           "arrowhead": 0,
           "arrowwidth": 1
          },
          "coloraxis": {
           "colorbar": {
            "outlinewidth": 0,
            "ticks": ""
           }
          },
          "colorscale": {
           "diverging": [
            [
             0,
             "#8e0152"
            ],
            [
             0.1,
             "#c51b7d"
            ],
            [
             0.2,
             "#de77ae"
            ],
            [
             0.3,
             "#f1b6da"
            ],
            [
             0.4,
             "#fde0ef"
            ],
            [
             0.5,
             "#f7f7f7"
            ],
            [
             0.6,
             "#e6f5d0"
            ],
            [
             0.7,
             "#b8e186"
            ],
            [
             0.8,
             "#7fbc41"
            ],
            [
             0.9,
             "#4d9221"
            ],
            [
             1,
             "#276419"
            ]
           ],
           "sequential": [
            [
             0,
             "#0d0887"
            ],
            [
             0.1111111111111111,
             "#46039f"
            ],
            [
             0.2222222222222222,
             "#7201a8"
            ],
            [
             0.3333333333333333,
             "#9c179e"
            ],
            [
             0.4444444444444444,
             "#bd3786"
            ],
            [
             0.5555555555555556,
             "#d8576b"
            ],
            [
             0.6666666666666666,
             "#ed7953"
            ],
            [
             0.7777777777777778,
             "#fb9f3a"
            ],
            [
             0.8888888888888888,
             "#fdca26"
            ],
            [
             1,
             "#f0f921"
            ]
           ],
           "sequentialminus": [
            [
             0,
             "#0d0887"
            ],
            [
             0.1111111111111111,
             "#46039f"
            ],
            [
             0.2222222222222222,
             "#7201a8"
            ],
            [
             0.3333333333333333,
             "#9c179e"
            ],
            [
             0.4444444444444444,
             "#bd3786"
            ],
            [
             0.5555555555555556,
             "#d8576b"
            ],
            [
             0.6666666666666666,
             "#ed7953"
            ],
            [
             0.7777777777777778,
             "#fb9f3a"
            ],
            [
             0.8888888888888888,
             "#fdca26"
            ],
            [
             1,
             "#f0f921"
            ]
           ]
          },
          "colorway": [
           "#636efa",
           "#EF553B",
           "#00cc96",
           "#ab63fa",
           "#FFA15A",
           "#19d3f3",
           "#FF6692",
           "#B6E880",
           "#FF97FF",
           "#FECB52"
          ],
          "font": {
           "color": "#2a3f5f"
          },
          "geo": {
           "bgcolor": "white",
           "lakecolor": "white",
           "landcolor": "#E5ECF6",
           "showlakes": true,
           "showland": true,
           "subunitcolor": "white"
          },
          "hoverlabel": {
           "align": "left"
          },
          "hovermode": "closest",
          "mapbox": {
           "style": "light"
          },
          "paper_bgcolor": "white",
          "plot_bgcolor": "#E5ECF6",
          "polar": {
           "angularaxis": {
            "gridcolor": "white",
            "linecolor": "white",
            "ticks": ""
           },
           "bgcolor": "#E5ECF6",
           "radialaxis": {
            "gridcolor": "white",
            "linecolor": "white",
            "ticks": ""
           }
          },
          "scene": {
           "xaxis": {
            "backgroundcolor": "#E5ECF6",
            "gridcolor": "white",
            "gridwidth": 2,
            "linecolor": "white",
            "showbackground": true,
            "ticks": "",
            "zerolinecolor": "white"
           },
           "yaxis": {
            "backgroundcolor": "#E5ECF6",
            "gridcolor": "white",
            "gridwidth": 2,
            "linecolor": "white",
            "showbackground": true,
            "ticks": "",
            "zerolinecolor": "white"
           },
           "zaxis": {
            "backgroundcolor": "#E5ECF6",
            "gridcolor": "white",
            "gridwidth": 2,
            "linecolor": "white",
            "showbackground": true,
            "ticks": "",
            "zerolinecolor": "white"
           }
          },
          "shapedefaults": {
           "line": {
            "color": "#2a3f5f"
           }
          },
          "ternary": {
           "aaxis": {
            "gridcolor": "white",
            "linecolor": "white",
            "ticks": ""
           },
           "baxis": {
            "gridcolor": "white",
            "linecolor": "white",
            "ticks": ""
           },
           "bgcolor": "#E5ECF6",
           "caxis": {
            "gridcolor": "white",
            "linecolor": "white",
            "ticks": ""
           }
          },
          "title": {
           "x": 0.05
          },
          "xaxis": {
           "automargin": true,
           "gridcolor": "white",
           "linecolor": "white",
           "ticks": "",
           "title": {
            "standoff": 15
           },
           "zerolinecolor": "white",
           "zerolinewidth": 2
          },
          "yaxis": {
           "automargin": true,
           "gridcolor": "white",
           "linecolor": "white",
           "ticks": "",
           "title": {
            "standoff": 15
           },
           "zerolinecolor": "white",
           "zerolinewidth": 2
          }
         }
        },
        "xaxis": {
         "anchor": "y",
         "domain": [
          0,
          1
         ],
         "title": {
          "text": "time"
         }
        },
        "yaxis": {
         "anchor": "x",
         "domain": [
          0,
          1
         ],
         "title": {
          "text": "avr_wind"
         }
        }
       }
      },
      "text/html": "<div>\n        \n        \n            <div id=\"176c5fae-0489-4449-8312-b07ccf46d9f8\" class=\"plotly-graph-div\" style=\"height:525px; width:100%;\"></div>\n            <script type=\"text/javascript\">\n                require([\"plotly\"], function(Plotly) {\n                    window.PLOTLYENV=window.PLOTLYENV || {};\n                    \n                if (document.getElementById(\"176c5fae-0489-4449-8312-b07ccf46d9f8\")) {\n                    Plotly.newPlot(\n                        '176c5fae-0489-4449-8312-b07ccf46d9f8',\n                        [{\"hovertemplate\": \"time=%{x}<br>avr_wind=%{y}<extra></extra>\", \"legendgroup\": \"\", \"line\": {\"color\": \"#636efa\", \"dash\": \"solid\"}, \"mode\": \"lines\", \"name\": \"\", \"orientation\": \"v\", \"showlegend\": false, \"type\": \"scatter\", \"x\": [\"2021-05-20T21:33:23\", \"2021-05-20T21:33:39\", \"2021-05-20T21:33:55\", \"2021-05-20T21:34:11\", \"2021-05-20T21:34:27\", \"2021-05-20T21:34:43\", \"2021-05-20T21:34:43\", \"2021-05-20T21:34:59\", \"2021-05-20T21:35:15\", \"2021-05-20T21:35:31\", \"2021-05-20T21:35:47\", \"2021-05-20T21:36:03\", \"2021-05-20T21:36:19\", \"2021-05-20T21:36:35\", \"2021-05-20T21:36:51\", \"2021-05-20T21:37:07\", \"2021-05-20T21:37:23\", \"2021-05-20T21:37:39\", \"2021-05-20T21:37:55\", \"2021-05-20T21:38:11\", \"2021-05-20T21:38:27\", \"2021-05-20T21:38:43\", \"2021-05-20T21:38:59\", \"2021-05-20T21:39:15\", \"2021-05-20T21:39:31\", \"2021-05-20T21:39:47\", \"2021-05-20T21:40:03\", \"2021-05-20T21:40:19\", \"2021-05-20T21:40:35\", \"2021-05-20T21:40:51\", \"2021-05-20T21:41:07\", \"2021-05-20T21:41:23\", \"2021-05-20T21:41:39\", \"2021-05-20T21:41:39\", \"2021-05-20T21:41:55\", \"2021-05-20T21:42:11\", \"2021-05-20T21:42:27\", \"2021-05-20T21:42:43\", \"2021-05-20T21:42:59\", \"2021-05-20T21:43:15\", \"2021-05-20T21:43:31\", \"2021-05-20T21:43:47\", \"2021-05-20T21:44:03\", \"2021-05-20T21:44:35\", \"2021-05-20T21:44:51\", \"2021-05-20T21:45:07\", \"2021-05-20T21:45:23\", \"2021-05-20T21:45:39\", \"2021-05-20T21:45:55\", \"2021-05-20T21:46:11\", \"2021-05-20T21:46:27\", \"2021-05-20T21:46:43\", \"2021-05-20T21:46:59\", \"2021-05-20T21:47:15\", \"2021-05-20T21:47:31\", \"2021-05-20T21:47:47\", \"2021-05-20T21:48:03\", \"2021-05-20T21:48:19\", \"2021-05-20T21:48:35\", \"2021-05-20T21:48:35\", \"2021-05-20T21:49:07\", \"2021-05-20T21:49:39\", \"2021-05-20T21:50:11\", \"2021-05-20T21:50:43\", \"2021-05-20T21:51:15\", \"2021-05-20T21:51:47\", \"2021-05-20T21:52:19\", \"2021-05-20T21:52:35\", \"2021-05-20T21:52:51\", \"2021-05-20T21:53:07\", \"2021-05-20T21:53:23\", \"2021-05-20T21:53:39\", \"2021-05-20T21:53:55\", \"2021-05-20T21:54:11\", \"2021-05-20T21:54:27\", \"2021-05-20T21:54:43\", \"2021-05-20T21:54:59\", \"2021-05-20T21:55:15\", \"2021-05-20T21:55:31\", \"2021-05-20T21:55:47\", \"2021-05-20T21:56:03\", \"2021-05-20T21:56:19\", \"2021-05-20T21:56:35\", \"2021-05-20T21:56:51\", \"2021-05-20T21:57:07\", \"2021-05-20T21:57:23\", \"2021-05-20T21:57:39\", \"2021-05-20T21:57:55\", \"2021-05-20T21:58:11\", \"2021-05-20T21:58:27\", \"2021-05-20T21:58:43\", \"2021-05-20T21:58:59\", \"2021-05-20T21:59:15\", \"2021-05-20T21:59:15\", \"2021-05-20T21:59:31\", \"2021-05-20T21:59:47\", \"2021-05-20T22:00:03\", \"2021-05-20T22:00:19\", \"2021-05-20T22:00:19\", \"2021-05-20T22:00:35\", \"2021-05-20T22:00:51\", \"2021-05-20T22:01:07\", \"2021-05-20T22:01:23\", \"2021-05-20T22:01:23\", \"2021-05-20T22:01:39\", \"2021-05-20T22:01:55\", \"2021-05-20T22:02:11\", \"2021-05-20T22:02:27\", \"2021-05-20T22:02:43\", \"2021-05-20T22:02:59\", \"2021-05-20T22:03:15\", \"2021-05-20T22:03:31\", \"2021-05-20T22:03:47\", \"2021-05-20T22:04:03\", \"2021-05-20T22:04:19\", \"2021-05-20T22:04:35\", \"2021-05-20T22:04:51\", \"2021-05-20T22:05:07\", \"2021-05-20T22:05:07\", \"2021-05-20T22:05:39\", \"2021-05-20T22:06:11\", \"2021-05-20T22:06:43\", \"2021-05-20T22:07:15\", \"2021-05-20T22:07:47\", \"2021-05-20T22:08:19\", \"2021-05-20T22:08:51\", \"2021-05-20T22:09:23\", \"2021-05-20T22:09:55\", \"2021-05-20T22:10:27\", \"2021-05-20T22:10:59\", \"2021-05-20T22:11:15\", \"2021-05-20T22:11:31\", \"2021-05-20T22:11:47\", \"2021-05-20T22:12:03\", \"2021-05-20T22:12:19\", \"2021-05-20T22:12:35\", \"2021-05-20T22:12:51\", \"2021-05-20T22:13:07\", \"2021-05-20T22:13:23\", \"2021-05-20T22:13:39\", \"2021-05-20T22:13:55\", \"2021-05-20T22:14:11\", \"2021-05-20T22:14:27\", \"2021-05-20T22:14:43\", \"2021-05-20T22:14:59\", \"2021-05-20T22:15:15\", \"2021-05-20T22:15:31\", \"2021-05-20T22:15:47\", \"2021-05-20T22:16:03\", \"2021-05-20T22:16:19\", \"2021-05-20T22:16:35\", \"2021-05-20T22:16:51\", \"2021-05-20T22:17:07\", \"2021-05-20T22:17:23\", \"2021-05-20T22:17:39\", \"2021-05-20T22:17:55\", \"2021-05-20T22:18:11\", \"2021-05-20T22:18:27\", \"2021-05-20T22:18:43\", \"2021-05-20T22:18:59\", \"2021-05-20T22:18:59\", \"2021-05-20T22:19:15\", \"2021-05-20T22:19:31\", \"2021-05-20T22:19:47\", \"2021-05-20T22:20:03\", \"2021-05-20T22:20:19\", \"2021-05-20T22:20:35\", \"2021-05-20T22:20:51\", \"2021-05-20T22:21:07\", \"2021-05-20T22:21:23\", \"2021-05-20T22:21:39\", \"2021-05-20T22:21:55\", \"2021-05-20T22:22:11\", \"2021-05-20T22:22:27\", \"2021-05-20T22:22:43\", \"2021-05-20T22:22:59\", \"2021-05-20T22:23:15\", \"2021-05-20T22:23:31\", \"2021-05-20T22:23:47\", \"2021-05-20T22:24:03\", \"2021-05-20T22:24:19\", \"2021-05-20T22:24:35\", \"2021-05-20T22:24:51\", \"2021-05-20T22:25:07\", \"2021-05-20T22:25:23\", \"2021-05-20T22:25:39\", \"2021-05-20T22:25:55\", \"2021-05-20T22:26:11\", \"2021-05-20T22:26:27\", \"2021-05-20T22:26:43\", \"2021-05-20T22:26:59\", \"2021-05-20T22:27:15\", \"2021-05-20T22:27:31\", \"2021-05-20T22:27:47\", \"2021-05-20T22:28:03\", \"2021-05-20T22:28:19\", \"2021-05-20T22:28:35\", \"2021-05-20T22:28:51\", \"2021-05-20T22:29:07\", \"2021-05-20T22:29:23\", \"2021-05-20T22:29:39\", \"2021-05-20T22:30:11\", \"2021-05-20T22:30:27\", \"2021-05-20T22:30:43\", \"2021-05-20T22:30:43\", \"2021-05-20T22:30:59\", \"2021-05-20T22:31:15\", \"2021-05-20T22:31:31\", \"2021-05-20T22:31:47\", \"2021-05-20T22:32:03\", \"2021-05-20T22:32:19\", \"2021-05-20T22:32:35\", \"2021-05-20T22:32:51\", \"2021-05-20T22:33:07\", \"2021-05-20T22:33:23\", \"2021-05-20T22:33:39\", \"2021-05-20T22:33:55\", \"2021-05-20T22:34:11\", \"2021-05-20T22:34:27\", \"2021-05-20T22:34:43\", \"2021-05-20T22:34:59\", \"2021-05-20T22:35:15\", \"2021-05-20T22:35:31\", \"2021-05-20T22:35:47\", \"2021-05-20T22:36:03\", \"2021-05-20T22:36:19\", \"2021-05-20T22:36:35\", \"2021-05-20T22:36:51\", \"2021-05-20T22:37:07\", \"2021-05-20T22:37:23\", \"2021-05-20T22:37:39\", \"2021-05-20T22:37:55\", \"2021-05-20T22:38:11\", \"2021-05-20T22:38:27\", \"2021-05-20T22:38:43\", \"2021-05-20T22:38:59\", \"2021-05-20T22:39:15\", \"2021-05-20T22:39:31\", \"2021-05-20T22:39:47\", \"2021-05-20T22:40:03\", \"2021-05-20T22:40:19\", \"2021-05-20T22:40:35\", \"2021-05-20T22:40:51\", \"2021-05-20T22:41:07\", \"2021-05-20T22:41:23\", \"2021-05-20T22:41:39\", \"2021-05-20T22:41:55\", \"2021-05-20T22:42:11\", \"2021-05-20T22:42:27\", \"2021-05-20T22:42:43\", \"2021-05-20T22:42:59\", \"2021-05-20T22:43:15\", \"2021-05-20T22:43:31\", \"2021-05-20T22:43:47\", \"2021-05-20T22:44:03\", \"2021-05-20T22:44:19\", \"2021-05-20T22:44:35\", \"2021-05-20T22:44:51\", \"2021-05-20T22:45:07\", \"2021-05-20T22:45:23\", \"2021-05-20T22:45:39\", \"2021-05-20T22:45:55\", \"2021-05-20T22:46:11\", \"2021-05-20T22:46:27\", \"2021-05-20T22:46:43\", \"2021-05-20T22:46:59\", \"2021-05-20T22:47:15\", \"2021-05-20T22:47:31\", \"2021-05-20T22:47:47\", \"2021-05-20T22:48:03\", \"2021-05-20T22:48:19\", \"2021-05-20T22:48:35\", \"2021-05-20T22:48:51\", \"2021-05-20T22:49:07\", \"2021-05-20T22:49:23\", \"2021-05-20T22:49:39\", \"2021-05-20T22:49:55\", \"2021-05-20T22:50:11\", \"2021-05-20T22:50:27\", \"2021-05-20T22:50:43\", \"2021-05-20T22:50:59\", \"2021-05-20T22:51:15\", \"2021-05-20T22:51:31\", \"2021-05-20T22:51:47\", \"2021-05-20T22:52:03\", \"2021-05-20T22:52:19\", \"2021-05-20T22:52:35\", \"2021-05-20T22:52:51\", \"2021-05-20T22:53:07\", \"2021-05-20T22:53:23\", \"2021-05-20T22:53:39\", \"2021-05-20T22:53:55\", \"2021-05-20T22:54:11\", \"2021-05-20T22:54:27\", \"2021-05-20T22:54:43\", \"2021-05-20T22:54:59\", \"2021-05-20T22:55:15\", \"2021-05-20T22:55:31\", \"2021-05-20T22:55:47\", \"2021-05-20T22:56:03\", \"2021-05-20T22:56:19\", \"2021-05-20T22:56:35\", \"2021-05-20T22:56:51\", \"2021-05-20T22:57:07\", \"2021-05-20T22:57:23\", \"2021-05-20T22:57:39\", \"2021-05-20T22:57:55\", \"2021-05-20T22:58:11\", \"2021-05-20T22:58:27\", \"2021-05-20T22:58:43\", \"2021-05-20T22:58:59\", \"2021-05-20T22:59:15\", \"2021-05-20T22:59:31\", \"2021-05-20T22:59:47\", \"2021-05-20T23:00:03\", \"2021-05-20T23:00:19\", \"2021-05-20T23:00:35\", \"2021-05-20T23:00:51\", \"2021-05-20T23:01:07\", \"2021-05-20T23:01:23\", \"2021-05-20T23:01:39\", \"2021-05-20T23:01:55\", \"2021-05-20T23:02:11\", \"2021-05-20T23:02:27\", \"2021-05-20T23:02:43\", \"2021-05-20T23:02:59\", \"2021-05-20T23:03:15\", \"2021-05-20T23:03:31\", \"2021-05-20T23:03:47\", \"2021-05-20T23:04:03\", \"2021-05-20T23:04:20\", \"2021-05-20T23:04:35\", \"2021-05-20T23:04:51\", \"2021-05-20T23:05:07\", \"2021-05-20T23:05:23\", \"2021-05-20T23:05:39\", \"2021-05-20T23:05:55\", \"2021-05-20T23:06:11\", \"2021-05-20T23:06:27\", \"2021-05-20T23:06:43\", \"2021-05-20T23:06:59\", \"2021-05-20T23:07:15\", \"2021-05-20T23:07:31\", \"2021-05-20T23:07:47\", \"2021-05-20T23:08:03\", \"2021-05-20T23:08:19\", \"2021-05-20T23:08:35\", \"2021-05-20T23:08:51\", \"2021-05-20T23:09:07\", \"2021-05-20T23:09:23\", \"2021-05-20T23:09:39\", \"2021-05-20T23:09:55\", \"2021-05-20T23:10:11\", \"2021-05-20T23:10:43\", \"2021-05-20T23:10:59\", \"2021-05-20T23:11:15\", \"2021-05-20T23:11:31\", \"2021-05-20T23:11:47\", \"2021-05-20T23:12:03\", \"2021-05-20T23:12:19\", \"2021-05-20T23:12:19\", \"2021-05-20T23:12:35\", \"2021-05-20T23:12:51\", \"2021-05-20T23:13:07\", \"2021-05-20T23:13:23\", \"2021-05-20T23:13:39\", \"2021-05-20T23:13:57\", \"2021-05-20T23:14:11\", \"2021-05-20T23:14:27\", \"2021-05-20T23:14:43\", \"2021-05-20T23:14:59\", \"2021-05-20T23:15:15\", \"2021-05-20T23:15:31\", \"2021-05-20T23:15:46\", \"2021-05-20T23:16:02\", \"2021-05-20T23:16:19\", \"2021-05-20T23:16:34\", \"2021-05-20T23:16:51\", \"2021-05-20T23:17:06\", \"2021-05-20T23:17:07\", \"2021-05-20T23:17:22\", \"2021-05-20T23:17:38\", \"2021-05-20T23:17:54\", \"2021-05-20T23:18:10\", \"2021-05-20T23:18:26\", \"2021-05-20T23:18:43\", \"2021-05-20T23:18:58\", \"2021-05-20T23:19:14\", \"2021-05-20T23:19:15\", \"2021-05-20T23:19:47\", \"2021-05-20T23:20:19\", \"2021-05-20T23:20:51\", \"2021-05-20T23:21:23\", \"2021-05-20T23:21:55\", \"2021-05-20T23:22:27\", \"2021-05-20T23:22:59\", \"2021-05-20T23:23:31\", \"2021-05-20T23:24:03\", \"2021-05-20T23:24:35\", \"2021-05-20T23:25:07\", \"2021-05-20T23:25:39\", \"2021-05-20T23:25:54\", \"2021-05-20T23:26:10\", \"2021-05-20T23:26:26\", \"2021-05-20T23:26:42\", \"2021-05-20T23:26:58\", \"2021-05-20T23:27:14\", \"2021-05-20T23:27:30\", \"2021-05-20T23:27:46\", \"2021-05-20T23:28:02\", \"2021-05-20T23:28:18\", \"2021-05-20T23:28:34\", \"2021-05-20T23:28:50\", \"2021-05-20T23:29:06\", \"2021-05-20T23:29:22\", \"2021-05-20T23:29:54\", \"2021-05-20T23:30:10\", \"2021-05-20T23:30:26\", \"2021-05-20T23:30:42\", \"2021-05-20T23:30:58\", \"2021-05-20T23:31:14\", \"2021-05-20T23:31:30\", \"2021-05-20T23:31:46\", \"2021-05-20T23:32:02\", \"2021-05-20T23:32:18\"], \"xaxis\": \"x\", \"y\": [2.5, 3.8, 2.4, 1.9, 2.1, 3.8, 3.8, 2.0, 1.9, 2.5, 2.9, 1.7, 2.8, 3.3, 2.2, 3.6, 2.4, 2.9, 2.9, 2.4, 1.7, 2.2, 2.4, 2.7, 3.4, 3.3, 3.4, 3.9, 2.8, 1.9, 2.0, 3.9, 3.7, 3.7, 3.1, 3.3, 3.2, 2.6, 4.1, 2.8, 2.1, 2.6, 4.0, 5.2, 4.0, null, 4.7, 2.6, 3.5, 2.9, 2.3, 2.6, 1.4, 2.4, 2.0, 1.8, 2.1, 2.0, 1.5, 1.5, 2.2, 2.1, 4.4, 2.1, 2.6, 2.9, 1.9, 4.0, 3.8, 3.0, 4.6, 2.0, 2.5, 3.7, 2.5, 2.8, 2.6, 2.1, 2.4, null, 1.2, 2.8, 2.7, 4.8, 2.2, 2.0, 2.4, 1.7, 2.1, 1.9, 1.8, 2.7, 5.0, 5.0, 3.3, 3.8, 3.4, 2.2, 2.2, 1.8, 1.7, 1.4, 1.4, 1.4, 2.2, 2.6, 2.5, 2.2, 3.4, 3.0, 1.9, 3.6, 3.6, 1.8, 3.5, 3.7, 2.1, 1.9, 1.9, 2.8, 3.0, 4.0, 1.9, 2.3, 2.6, 2.8, 2.3, 2.5, 2.8, 4.4, 1.6, 2.1, 2.2, 3.7, 4.2, 2.2, 2.7, 3.6, 1.7, 1.4, 1.1, 1.6, 2.0, 2.1, 3.3, 2.9, 1.6, 1.8, 1.7, 2.4, 3.6, 3.4, 4.3, 4.7, 3.9, 4.3, 1.7, 1.2, 2.4, 2.9, 2.9, 4.5, 2.4, 4.4, 3.5, 3.5, 3.5, 4.5, 5.2, 3.4, 2.6, 2.5, null, 4.4, 3.9, 3.2, 4.0, 2.7, 3.0, 3.8, 4.3, 5.0, 2.7, 2.3, 3.0, 2.8, 1.2, 2.8, 3.8, 2.0, 3.2, 2.4, 2.3, 2.9, 1.7, 0.9, 1.5, 2.5, 3.3, 3.2, 1.8, 3.3, 2.1, 3.3, 3.3, 3.8, 3.5, 2.4, 3.4, 4.6, 3.8, 4.4, 3.0, 4.3, 3.9, 3.5, 3.4, 4.2, 2.6, 2.6, 3.0, 4.9, 3.4, 2.9, 3.4, 4.7, 4.7, 4.7, 3.4, 3.1, 2.9, 2.5, 1.8, 4.3, 2.3, 3.2, 4.7, 4.7, 3.9, 2.1, 2.9, 1.4, 2.4, 3.2, 3.1, 3.5, 2.2, 2.5, 4.2, 2.6, 2.2, 2.8, 2.2, 1.1, 3.7, 2.5, 4.0, 3.8, 3.3, 1.8, 2.4, 1.8, 3.9, 2.4, 2.1, 4.6, 4.4, 5.0, 3.6, 1.3, 2.1, 2.0, 1.4, 3.9, 4.5, 4.2, 2.8, 2.6, 4.5, 2.1, 5.6, 5.6, 4.7, 3.0, 3.5, 3.6, 4.9, 4.3, 2.5, 2.0, 2.6, 3.6, 2.3, 1.0, 1.0, 2.1, 1.8, 1.3, 1.7, 3.3, 1.7, 1.7, 2.0, 1.7, 1.3, 1.0, 1.8, 1.7, 3.3, 2.5, 2.0, 4.5, 3.8, 4.3, 4.3, 1.2, 1.5, 1.8, 2.5, 3.4, 1.1, 2.6, 3.6, 2.2, 2.7, 3.4, 1.9, 1.9, 2.5, 1.8, 1.4, 2.1, 2.2, 1.4, 1.6, 1.8, 1.7, 2.1, 2.7, 1.9, 3.1, 4.7, 2.8, 1.4, 4.2, 1.7, 3.1, 3.2, 3.0, 2.5, 2.0, 3.0, 2.5, 3.8, 3.8, 4.2, 3.1, 2.0, 3.2, 2.8, 2.8, 2.2, 3.1, 2.7, 4.2, 3.5, 2.8, 2.5, 1.4, 1.6, 2.0, 2.3, 2.3, 2.7, 4.9, 4.0, 2.8, 3.5, 3.6, 3.6, 4.2, 3.2, 3.3, 3.6, 2.2, 3.2, 3.3, 4.2, 4.2, 2.6, 2.3, 1.4, 0.4, 4.5, 2.8, 2.9, 1.7, 2.8, 3.4, 3.5, 2.5, 2.0, 3.4, 3.8, 2.4, 3.0, 3.0, 4.2, 2.9, 2.8, 3.3, 4.2, 4.2, 2.3, 4.3, 3.1, 1.8, 0.9, 1.7, 3.4, 3.4, 2.5, 3.3, 4.6, 2.7], \"yaxis\": \"y\"}],\n                        {\"legend\": {\"tracegroupgap\": 0}, \"margin\": {\"t\": 60}, \"template\": {\"data\": {\"bar\": [{\"error_x\": {\"color\": \"#2a3f5f\"}, \"error_y\": {\"color\": \"#2a3f5f\"}, \"marker\": {\"line\": {\"color\": \"#E5ECF6\", \"width\": 0.5}}, \"type\": \"bar\"}], \"barpolar\": [{\"marker\": {\"line\": {\"color\": \"#E5ECF6\", \"width\": 0.5}}, \"type\": \"barpolar\"}], \"carpet\": [{\"aaxis\": {\"endlinecolor\": \"#2a3f5f\", \"gridcolor\": \"white\", \"linecolor\": \"white\", \"minorgridcolor\": \"white\", \"startlinecolor\": \"#2a3f5f\"}, \"baxis\": {\"endlinecolor\": \"#2a3f5f\", \"gridcolor\": \"white\", \"linecolor\": \"white\", \"minorgridcolor\": \"white\", \"startlinecolor\": \"#2a3f5f\"}, \"type\": \"carpet\"}], \"choropleth\": [{\"colorbar\": {\"outlinewidth\": 0, \"ticks\": \"\"}, \"type\": \"choropleth\"}], \"contour\": [{\"colorbar\": {\"outlinewidth\": 0, \"ticks\": \"\"}, \"colorscale\": [[0.0, \"#0d0887\"], [0.1111111111111111, \"#46039f\"], [0.2222222222222222, \"#7201a8\"], [0.3333333333333333, \"#9c179e\"], [0.4444444444444444, \"#bd3786\"], [0.5555555555555556, \"#d8576b\"], [0.6666666666666666, \"#ed7953\"], [0.7777777777777778, \"#fb9f3a\"], [0.8888888888888888, \"#fdca26\"], [1.0, \"#f0f921\"]], \"type\": \"contour\"}], \"contourcarpet\": [{\"colorbar\": {\"outlinewidth\": 0, \"ticks\": \"\"}, \"type\": \"contourcarpet\"}], \"heatmap\": [{\"colorbar\": {\"outlinewidth\": 0, \"ticks\": \"\"}, \"colorscale\": [[0.0, \"#0d0887\"], [0.1111111111111111, \"#46039f\"], [0.2222222222222222, \"#7201a8\"], [0.3333333333333333, \"#9c179e\"], [0.4444444444444444, \"#bd3786\"], [0.5555555555555556, \"#d8576b\"], [0.6666666666666666, \"#ed7953\"], [0.7777777777777778, \"#fb9f3a\"], [0.8888888888888888, \"#fdca26\"], [1.0, \"#f0f921\"]], \"type\": \"heatmap\"}], \"heatmapgl\": [{\"colorbar\": {\"outlinewidth\": 0, \"ticks\": \"\"}, \"colorscale\": [[0.0, \"#0d0887\"], [0.1111111111111111, \"#46039f\"], [0.2222222222222222, \"#7201a8\"], [0.3333333333333333, \"#9c179e\"], [0.4444444444444444, \"#bd3786\"], [0.5555555555555556, \"#d8576b\"], [0.6666666666666666, \"#ed7953\"], [0.7777777777777778, \"#fb9f3a\"], [0.8888888888888888, \"#fdca26\"], [1.0, \"#f0f921\"]], \"type\": \"heatmapgl\"}], \"histogram\": [{\"marker\": {\"colorbar\": {\"outlinewidth\": 0, \"ticks\": \"\"}}, \"type\": \"histogram\"}], \"histogram2d\": [{\"colorbar\": {\"outlinewidth\": 0, \"ticks\": \"\"}, \"colorscale\": [[0.0, \"#0d0887\"], [0.1111111111111111, \"#46039f\"], [0.2222222222222222, \"#7201a8\"], [0.3333333333333333, \"#9c179e\"], [0.4444444444444444, \"#bd3786\"], [0.5555555555555556, \"#d8576b\"], [0.6666666666666666, \"#ed7953\"], [0.7777777777777778, \"#fb9f3a\"], [0.8888888888888888, \"#fdca26\"], [1.0, \"#f0f921\"]], \"type\": \"histogram2d\"}], \"histogram2dcontour\": [{\"colorbar\": {\"outlinewidth\": 0, \"ticks\": \"\"}, \"colorscale\": [[0.0, \"#0d0887\"], [0.1111111111111111, \"#46039f\"], [0.2222222222222222, \"#7201a8\"], [0.3333333333333333, \"#9c179e\"], [0.4444444444444444, \"#bd3786\"], [0.5555555555555556, \"#d8576b\"], [0.6666666666666666, \"#ed7953\"], [0.7777777777777778, \"#fb9f3a\"], [0.8888888888888888, \"#fdca26\"], [1.0, \"#f0f921\"]], \"type\": \"histogram2dcontour\"}], \"mesh3d\": [{\"colorbar\": {\"outlinewidth\": 0, \"ticks\": \"\"}, \"type\": \"mesh3d\"}], \"parcoords\": [{\"line\": {\"colorbar\": {\"outlinewidth\": 0, \"ticks\": \"\"}}, \"type\": \"parcoords\"}], \"pie\": [{\"automargin\": true, \"type\": \"pie\"}], \"scatter\": [{\"marker\": {\"colorbar\": {\"outlinewidth\": 0, \"ticks\": \"\"}}, \"type\": \"scatter\"}], \"scatter3d\": [{\"line\": {\"colorbar\": {\"outlinewidth\": 0, \"ticks\": \"\"}}, \"marker\": {\"colorbar\": {\"outlinewidth\": 0, \"ticks\": \"\"}}, \"type\": \"scatter3d\"}], \"scattercarpet\": [{\"marker\": {\"colorbar\": {\"outlinewidth\": 0, \"ticks\": \"\"}}, \"type\": \"scattercarpet\"}], \"scattergeo\": [{\"marker\": {\"colorbar\": {\"outlinewidth\": 0, \"ticks\": \"\"}}, \"type\": \"scattergeo\"}], \"scattergl\": [{\"marker\": {\"colorbar\": {\"outlinewidth\": 0, \"ticks\": \"\"}}, \"type\": \"scattergl\"}], \"scattermapbox\": [{\"marker\": {\"colorbar\": {\"outlinewidth\": 0, \"ticks\": \"\"}}, \"type\": \"scattermapbox\"}], \"scatterpolar\": [{\"marker\": {\"colorbar\": {\"outlinewidth\": 0, \"ticks\": \"\"}}, \"type\": \"scatterpolar\"}], \"scatterpolargl\": [{\"marker\": {\"colorbar\": {\"outlinewidth\": 0, \"ticks\": \"\"}}, \"type\": \"scatterpolargl\"}], \"scatterternary\": [{\"marker\": {\"colorbar\": {\"outlinewidth\": 0, \"ticks\": \"\"}}, \"type\": \"scatterternary\"}], \"surface\": [{\"colorbar\": {\"outlinewidth\": 0, \"ticks\": \"\"}, \"colorscale\": [[0.0, \"#0d0887\"], [0.1111111111111111, \"#46039f\"], [0.2222222222222222, \"#7201a8\"], [0.3333333333333333, \"#9c179e\"], [0.4444444444444444, \"#bd3786\"], [0.5555555555555556, \"#d8576b\"], [0.6666666666666666, \"#ed7953\"], [0.7777777777777778, \"#fb9f3a\"], [0.8888888888888888, \"#fdca26\"], [1.0, \"#f0f921\"]], \"type\": \"surface\"}], \"table\": [{\"cells\": {\"fill\": {\"color\": \"#EBF0F8\"}, \"line\": {\"color\": \"white\"}}, \"header\": {\"fill\": {\"color\": \"#C8D4E3\"}, \"line\": {\"color\": \"white\"}}, \"type\": \"table\"}]}, \"layout\": {\"annotationdefaults\": {\"arrowcolor\": \"#2a3f5f\", \"arrowhead\": 0, \"arrowwidth\": 1}, \"coloraxis\": {\"colorbar\": {\"outlinewidth\": 0, \"ticks\": \"\"}}, \"colorscale\": {\"diverging\": [[0, \"#8e0152\"], [0.1, \"#c51b7d\"], [0.2, \"#de77ae\"], [0.3, \"#f1b6da\"], [0.4, \"#fde0ef\"], [0.5, \"#f7f7f7\"], [0.6, \"#e6f5d0\"], [0.7, \"#b8e186\"], [0.8, \"#7fbc41\"], [0.9, \"#4d9221\"], [1, \"#276419\"]], \"sequential\": [[0.0, \"#0d0887\"], [0.1111111111111111, \"#46039f\"], [0.2222222222222222, \"#7201a8\"], [0.3333333333333333, \"#9c179e\"], [0.4444444444444444, \"#bd3786\"], [0.5555555555555556, \"#d8576b\"], [0.6666666666666666, \"#ed7953\"], [0.7777777777777778, \"#fb9f3a\"], [0.8888888888888888, \"#fdca26\"], [1.0, \"#f0f921\"]], \"sequentialminus\": [[0.0, \"#0d0887\"], [0.1111111111111111, \"#46039f\"], [0.2222222222222222, \"#7201a8\"], [0.3333333333333333, \"#9c179e\"], [0.4444444444444444, \"#bd3786\"], [0.5555555555555556, \"#d8576b\"], [0.6666666666666666, \"#ed7953\"], [0.7777777777777778, \"#fb9f3a\"], [0.8888888888888888, \"#fdca26\"], [1.0, \"#f0f921\"]]}, \"colorway\": [\"#636efa\", \"#EF553B\", \"#00cc96\", \"#ab63fa\", \"#FFA15A\", \"#19d3f3\", \"#FF6692\", \"#B6E880\", \"#FF97FF\", \"#FECB52\"], \"font\": {\"color\": \"#2a3f5f\"}, \"geo\": {\"bgcolor\": \"white\", \"lakecolor\": \"white\", \"landcolor\": \"#E5ECF6\", \"showlakes\": true, \"showland\": true, \"subunitcolor\": \"white\"}, \"hoverlabel\": {\"align\": \"left\"}, \"hovermode\": \"closest\", \"mapbox\": {\"style\": \"light\"}, \"paper_bgcolor\": \"white\", \"plot_bgcolor\": \"#E5ECF6\", \"polar\": {\"angularaxis\": {\"gridcolor\": \"white\", \"linecolor\": \"white\", \"ticks\": \"\"}, \"bgcolor\": \"#E5ECF6\", \"radialaxis\": {\"gridcolor\": \"white\", \"linecolor\": \"white\", \"ticks\": \"\"}}, \"scene\": {\"xaxis\": {\"backgroundcolor\": \"#E5ECF6\", \"gridcolor\": \"white\", \"gridwidth\": 2, \"linecolor\": \"white\", \"showbackground\": true, \"ticks\": \"\", \"zerolinecolor\": \"white\"}, \"yaxis\": {\"backgroundcolor\": \"#E5ECF6\", \"gridcolor\": \"white\", \"gridwidth\": 2, \"linecolor\": \"white\", \"showbackground\": true, \"ticks\": \"\", \"zerolinecolor\": \"white\"}, \"zaxis\": {\"backgroundcolor\": \"#E5ECF6\", \"gridcolor\": \"white\", \"gridwidth\": 2, \"linecolor\": \"white\", \"showbackground\": true, \"ticks\": \"\", \"zerolinecolor\": \"white\"}}, \"shapedefaults\": {\"line\": {\"color\": \"#2a3f5f\"}}, \"ternary\": {\"aaxis\": {\"gridcolor\": \"white\", \"linecolor\": \"white\", \"ticks\": \"\"}, \"baxis\": {\"gridcolor\": \"white\", \"linecolor\": \"white\", \"ticks\": \"\"}, \"bgcolor\": \"#E5ECF6\", \"caxis\": {\"gridcolor\": \"white\", \"linecolor\": \"white\", \"ticks\": \"\"}}, \"title\": {\"x\": 0.05}, \"xaxis\": {\"automargin\": true, \"gridcolor\": \"white\", \"linecolor\": \"white\", \"ticks\": \"\", \"title\": {\"standoff\": 15}, \"zerolinecolor\": \"white\", \"zerolinewidth\": 2}, \"yaxis\": {\"automargin\": true, \"gridcolor\": \"white\", \"linecolor\": \"white\", \"ticks\": \"\", \"title\": {\"standoff\": 15}, \"zerolinecolor\": \"white\", \"zerolinewidth\": 2}}}, \"xaxis\": {\"anchor\": \"y\", \"domain\": [0.0, 1.0], \"title\": {\"text\": \"time\"}}, \"yaxis\": {\"anchor\": \"x\", \"domain\": [0.0, 1.0], \"title\": {\"text\": \"avr_wind\"}}},\n                        {\"responsive\": true}\n                    ).then(function(){\n                            \nvar gd = document.getElementById('176c5fae-0489-4449-8312-b07ccf46d9f8');\nvar x = new MutationObserver(function (mutations, observer) {{\n        var display = window.getComputedStyle(gd).display;\n        if (!display || display === 'none') {{\n            console.log([gd, 'removed!']);\n            Plotly.purge(gd);\n            observer.disconnect();\n        }}\n}});\n\n// Listen for the removal of the full notebook cells\nvar notebookContainer = gd.closest('#notebook-container');\nif (notebookContainer) {{\n    x.observe(notebookContainer, {childList: true});\n}}\n\n// Listen for the clearing of the current output cell\nvar outputEl = gd.closest('.output');\nif (outputEl) {{\n    x.observe(outputEl, {childList: true});\n}}\n\n                        })\n                };\n                });\n            </script>\n        </div>"
     },
     "metadata": {}
    }
   ],
   "source": [
    "fig = px.line(df, y='avr_wind')\n",
    "fig.show()"
   ]
  },
  {
   "cell_type": "code",
   "execution_count": 58,
   "metadata": {},
   "outputs": [
    {
     "output_type": "display_data",
     "data": {
      "application/vnd.plotly.v1+json": {
       "config": {
        "plotlyServerURL": "https://plot.ly"
       },
       "data": [
        {
         "hovertemplate": "time=%{x}<br>humidity=%{y}<extra></extra>",
         "legendgroup": "",
         "line": {
          "color": "#636efa",
          "dash": "solid"
         },
         "mode": "lines",
         "name": "",
         "orientation": "v",
         "showlegend": false,
         "type": "scatter",
         "x": [
          "2021-05-20T21:33:23",
          "2021-05-20T21:33:39",
          "2021-05-20T21:33:55",
          "2021-05-20T21:34:11",
          "2021-05-20T21:34:27",
          "2021-05-20T21:34:43",
          "2021-05-20T21:34:43",
          "2021-05-20T21:34:59",
          "2021-05-20T21:35:15",
          "2021-05-20T21:35:31",
          "2021-05-20T21:35:47",
          "2021-05-20T21:36:03",
          "2021-05-20T21:36:19",
          "2021-05-20T21:36:35",
          "2021-05-20T21:36:51",
          "2021-05-20T21:37:07",
          "2021-05-20T21:37:23",
          "2021-05-20T21:37:39",
          "2021-05-20T21:37:55",
          "2021-05-20T21:38:11",
          "2021-05-20T21:38:27",
          "2021-05-20T21:38:43",
          "2021-05-20T21:38:59",
          "2021-05-20T21:39:15",
          "2021-05-20T21:39:31",
          "2021-05-20T21:39:47",
          "2021-05-20T21:40:03",
          "2021-05-20T21:40:19",
          "2021-05-20T21:40:35",
          "2021-05-20T21:40:51",
          "2021-05-20T21:41:07",
          "2021-05-20T21:41:23",
          "2021-05-20T21:41:39",
          "2021-05-20T21:41:39",
          "2021-05-20T21:41:55",
          "2021-05-20T21:42:11",
          "2021-05-20T21:42:27",
          "2021-05-20T21:42:43",
          "2021-05-20T21:42:59",
          "2021-05-20T21:43:15",
          "2021-05-20T21:43:31",
          "2021-05-20T21:43:47",
          "2021-05-20T21:44:03",
          "2021-05-20T21:44:35",
          "2021-05-20T21:44:51",
          "2021-05-20T21:45:07",
          "2021-05-20T21:45:23",
          "2021-05-20T21:45:39",
          "2021-05-20T21:45:55",
          "2021-05-20T21:46:11",
          "2021-05-20T21:46:27",
          "2021-05-20T21:46:43",
          "2021-05-20T21:46:59",
          "2021-05-20T21:47:15",
          "2021-05-20T21:47:31",
          "2021-05-20T21:47:47",
          "2021-05-20T21:48:03",
          "2021-05-20T21:48:19",
          "2021-05-20T21:48:35",
          "2021-05-20T21:48:35",
          "2021-05-20T21:49:07",
          "2021-05-20T21:49:39",
          "2021-05-20T21:50:11",
          "2021-05-20T21:50:43",
          "2021-05-20T21:51:15",
          "2021-05-20T21:51:47",
          "2021-05-20T21:52:19",
          "2021-05-20T21:52:35",
          "2021-05-20T21:52:51",
          "2021-05-20T21:53:07",
          "2021-05-20T21:53:23",
          "2021-05-20T21:53:39",
          "2021-05-20T21:53:55",
          "2021-05-20T21:54:11",
          "2021-05-20T21:54:27",
          "2021-05-20T21:54:43",
          "2021-05-20T21:54:59",
          "2021-05-20T21:55:15",
          "2021-05-20T21:55:31",
          "2021-05-20T21:55:47",
          "2021-05-20T21:56:03",
          "2021-05-20T21:56:19",
          "2021-05-20T21:56:35",
          "2021-05-20T21:56:51",
          "2021-05-20T21:57:07",
          "2021-05-20T21:57:23",
          "2021-05-20T21:57:39",
          "2021-05-20T21:57:55",
          "2021-05-20T21:58:11",
          "2021-05-20T21:58:27",
          "2021-05-20T21:58:43",
          "2021-05-20T21:58:59",
          "2021-05-20T21:59:15",
          "2021-05-20T21:59:15",
          "2021-05-20T21:59:31",
          "2021-05-20T21:59:47",
          "2021-05-20T22:00:03",
          "2021-05-20T22:00:19",
          "2021-05-20T22:00:19",
          "2021-05-20T22:00:35",
          "2021-05-20T22:00:51",
          "2021-05-20T22:01:07",
          "2021-05-20T22:01:23",
          "2021-05-20T22:01:23",
          "2021-05-20T22:01:39",
          "2021-05-20T22:01:55",
          "2021-05-20T22:02:11",
          "2021-05-20T22:02:27",
          "2021-05-20T22:02:43",
          "2021-05-20T22:02:59",
          "2021-05-20T22:03:15",
          "2021-05-20T22:03:31",
          "2021-05-20T22:03:47",
          "2021-05-20T22:04:03",
          "2021-05-20T22:04:19",
          "2021-05-20T22:04:35",
          "2021-05-20T22:04:51",
          "2021-05-20T22:05:07",
          "2021-05-20T22:05:07",
          "2021-05-20T22:05:39",
          "2021-05-20T22:06:11",
          "2021-05-20T22:06:43",
          "2021-05-20T22:07:15",
          "2021-05-20T22:07:47",
          "2021-05-20T22:08:19",
          "2021-05-20T22:08:51",
          "2021-05-20T22:09:23",
          "2021-05-20T22:09:55",
          "2021-05-20T22:10:27",
          "2021-05-20T22:10:59",
          "2021-05-20T22:11:15",
          "2021-05-20T22:11:31",
          "2021-05-20T22:11:47",
          "2021-05-20T22:12:03",
          "2021-05-20T22:12:19",
          "2021-05-20T22:12:35",
          "2021-05-20T22:12:51",
          "2021-05-20T22:13:07",
          "2021-05-20T22:13:23",
          "2021-05-20T22:13:39",
          "2021-05-20T22:13:55",
          "2021-05-20T22:14:11",
          "2021-05-20T22:14:27",
          "2021-05-20T22:14:43",
          "2021-05-20T22:14:59",
          "2021-05-20T22:15:15",
          "2021-05-20T22:15:31",
          "2021-05-20T22:15:47",
          "2021-05-20T22:16:03",
          "2021-05-20T22:16:19",
          "2021-05-20T22:16:35",
          "2021-05-20T22:16:51",
          "2021-05-20T22:17:07",
          "2021-05-20T22:17:23",
          "2021-05-20T22:17:39",
          "2021-05-20T22:17:55",
          "2021-05-20T22:18:11",
          "2021-05-20T22:18:27",
          "2021-05-20T22:18:43",
          "2021-05-20T22:18:59",
          "2021-05-20T22:18:59",
          "2021-05-20T22:19:15",
          "2021-05-20T22:19:31",
          "2021-05-20T22:19:47",
          "2021-05-20T22:20:03",
          "2021-05-20T22:20:19",
          "2021-05-20T22:20:35",
          "2021-05-20T22:20:51",
          "2021-05-20T22:21:07",
          "2021-05-20T22:21:23",
          "2021-05-20T22:21:39",
          "2021-05-20T22:21:55",
          "2021-05-20T22:22:11",
          "2021-05-20T22:22:27",
          "2021-05-20T22:22:43",
          "2021-05-20T22:22:59",
          "2021-05-20T22:23:15",
          "2021-05-20T22:23:31",
          "2021-05-20T22:23:47",
          "2021-05-20T22:24:03",
          "2021-05-20T22:24:19",
          "2021-05-20T22:24:35",
          "2021-05-20T22:24:51",
          "2021-05-20T22:25:07",
          "2021-05-20T22:25:23",
          "2021-05-20T22:25:39",
          "2021-05-20T22:25:55",
          "2021-05-20T22:26:11",
          "2021-05-20T22:26:27",
          "2021-05-20T22:26:43",
          "2021-05-20T22:26:59",
          "2021-05-20T22:27:15",
          "2021-05-20T22:27:31",
          "2021-05-20T22:27:47",
          "2021-05-20T22:28:03",
          "2021-05-20T22:28:19",
          "2021-05-20T22:28:35",
          "2021-05-20T22:28:51",
          "2021-05-20T22:29:07",
          "2021-05-20T22:29:23",
          "2021-05-20T22:29:39",
          "2021-05-20T22:30:11",
          "2021-05-20T22:30:27",
          "2021-05-20T22:30:43",
          "2021-05-20T22:30:43",
          "2021-05-20T22:30:59",
          "2021-05-20T22:31:15",
          "2021-05-20T22:31:31",
          "2021-05-20T22:31:47",
          "2021-05-20T22:32:03",
          "2021-05-20T22:32:19",
          "2021-05-20T22:32:35",
          "2021-05-20T22:32:51",
          "2021-05-20T22:33:07",
          "2021-05-20T22:33:23",
          "2021-05-20T22:33:39",
          "2021-05-20T22:33:55",
          "2021-05-20T22:34:11",
          "2021-05-20T22:34:27",
          "2021-05-20T22:34:43",
          "2021-05-20T22:34:59",
          "2021-05-20T22:35:15",
          "2021-05-20T22:35:31",
          "2021-05-20T22:35:47",
          "2021-05-20T22:36:03",
          "2021-05-20T22:36:19",
          "2021-05-20T22:36:35",
          "2021-05-20T22:36:51",
          "2021-05-20T22:37:07",
          "2021-05-20T22:37:23",
          "2021-05-20T22:37:39",
          "2021-05-20T22:37:55",
          "2021-05-20T22:38:11",
          "2021-05-20T22:38:27",
          "2021-05-20T22:38:43",
          "2021-05-20T22:38:59",
          "2021-05-20T22:39:15",
          "2021-05-20T22:39:31",
          "2021-05-20T22:39:47",
          "2021-05-20T22:40:03",
          "2021-05-20T22:40:19",
          "2021-05-20T22:40:35",
          "2021-05-20T22:40:51",
          "2021-05-20T22:41:07",
          "2021-05-20T22:41:23",
          "2021-05-20T22:41:39",
          "2021-05-20T22:41:55",
          "2021-05-20T22:42:11",
          "2021-05-20T22:42:27",
          "2021-05-20T22:42:43",
          "2021-05-20T22:42:59",
          "2021-05-20T22:43:15",
          "2021-05-20T22:43:31",
          "2021-05-20T22:43:47",
          "2021-05-20T22:44:03",
          "2021-05-20T22:44:19",
          "2021-05-20T22:44:35",
          "2021-05-20T22:44:51",
          "2021-05-20T22:45:07",
          "2021-05-20T22:45:23",
          "2021-05-20T22:45:39",
          "2021-05-20T22:45:55",
          "2021-05-20T22:46:11",
          "2021-05-20T22:46:27",
          "2021-05-20T22:46:43",
          "2021-05-20T22:46:59",
          "2021-05-20T22:47:15",
          "2021-05-20T22:47:31",
          "2021-05-20T22:47:47",
          "2021-05-20T22:48:03",
          "2021-05-20T22:48:19",
          "2021-05-20T22:48:35",
          "2021-05-20T22:48:51",
          "2021-05-20T22:49:07",
          "2021-05-20T22:49:23",
          "2021-05-20T22:49:39",
          "2021-05-20T22:49:55",
          "2021-05-20T22:50:11",
          "2021-05-20T22:50:27",
          "2021-05-20T22:50:43",
          "2021-05-20T22:50:59",
          "2021-05-20T22:51:15",
          "2021-05-20T22:51:31",
          "2021-05-20T22:51:47",
          "2021-05-20T22:52:03",
          "2021-05-20T22:52:19",
          "2021-05-20T22:52:35",
          "2021-05-20T22:52:51",
          "2021-05-20T22:53:07",
          "2021-05-20T22:53:23",
          "2021-05-20T22:53:39",
          "2021-05-20T22:53:55",
          "2021-05-20T22:54:11",
          "2021-05-20T22:54:27",
          "2021-05-20T22:54:43",
          "2021-05-20T22:54:59",
          "2021-05-20T22:55:15",
          "2021-05-20T22:55:31",
          "2021-05-20T22:55:47",
          "2021-05-20T22:56:03",
          "2021-05-20T22:56:19",
          "2021-05-20T22:56:35",
          "2021-05-20T22:56:51",
          "2021-05-20T22:57:07",
          "2021-05-20T22:57:23",
          "2021-05-20T22:57:39",
          "2021-05-20T22:57:55",
          "2021-05-20T22:58:11",
          "2021-05-20T22:58:27",
          "2021-05-20T22:58:43",
          "2021-05-20T22:58:59",
          "2021-05-20T22:59:15",
          "2021-05-20T22:59:31",
          "2021-05-20T22:59:47",
          "2021-05-20T23:00:03",
          "2021-05-20T23:00:19",
          "2021-05-20T23:00:35",
          "2021-05-20T23:00:51",
          "2021-05-20T23:01:07",
          "2021-05-20T23:01:23",
          "2021-05-20T23:01:39",
          "2021-05-20T23:01:55",
          "2021-05-20T23:02:11",
          "2021-05-20T23:02:27",
          "2021-05-20T23:02:43",
          "2021-05-20T23:02:59",
          "2021-05-20T23:03:15",
          "2021-05-20T23:03:31",
          "2021-05-20T23:03:47",
          "2021-05-20T23:04:03",
          "2021-05-20T23:04:20",
          "2021-05-20T23:04:35",
          "2021-05-20T23:04:51",
          "2021-05-20T23:05:07",
          "2021-05-20T23:05:23",
          "2021-05-20T23:05:39",
          "2021-05-20T23:05:55",
          "2021-05-20T23:06:11",
          "2021-05-20T23:06:27",
          "2021-05-20T23:06:43",
          "2021-05-20T23:06:59",
          "2021-05-20T23:07:15",
          "2021-05-20T23:07:31",
          "2021-05-20T23:07:47",
          "2021-05-20T23:08:03",
          "2021-05-20T23:08:19",
          "2021-05-20T23:08:35",
          "2021-05-20T23:08:51",
          "2021-05-20T23:09:07",
          "2021-05-20T23:09:23",
          "2021-05-20T23:09:39",
          "2021-05-20T23:09:55",
          "2021-05-20T23:10:11",
          "2021-05-20T23:10:43",
          "2021-05-20T23:10:59",
          "2021-05-20T23:11:15",
          "2021-05-20T23:11:31",
          "2021-05-20T23:11:47",
          "2021-05-20T23:12:03",
          "2021-05-20T23:12:19",
          "2021-05-20T23:12:19",
          "2021-05-20T23:12:35",
          "2021-05-20T23:12:51",
          "2021-05-20T23:13:07",
          "2021-05-20T23:13:23",
          "2021-05-20T23:13:39",
          "2021-05-20T23:13:57",
          "2021-05-20T23:14:11",
          "2021-05-20T23:14:27",
          "2021-05-20T23:14:43",
          "2021-05-20T23:14:59",
          "2021-05-20T23:15:15",
          "2021-05-20T23:15:31",
          "2021-05-20T23:15:46",
          "2021-05-20T23:16:02",
          "2021-05-20T23:16:19",
          "2021-05-20T23:16:34",
          "2021-05-20T23:16:51",
          "2021-05-20T23:17:06",
          "2021-05-20T23:17:07",
          "2021-05-20T23:17:22",
          "2021-05-20T23:17:38",
          "2021-05-20T23:17:54",
          "2021-05-20T23:18:10",
          "2021-05-20T23:18:26",
          "2021-05-20T23:18:43",
          "2021-05-20T23:18:58",
          "2021-05-20T23:19:14",
          "2021-05-20T23:19:15",
          "2021-05-20T23:19:47",
          "2021-05-20T23:20:19",
          "2021-05-20T23:20:51",
          "2021-05-20T23:21:23",
          "2021-05-20T23:21:55",
          "2021-05-20T23:22:27",
          "2021-05-20T23:22:59",
          "2021-05-20T23:23:31",
          "2021-05-20T23:24:03",
          "2021-05-20T23:24:35",
          "2021-05-20T23:25:07",
          "2021-05-20T23:25:39",
          "2021-05-20T23:25:54",
          "2021-05-20T23:26:10",
          "2021-05-20T23:26:26",
          "2021-05-20T23:26:42",
          "2021-05-20T23:26:58",
          "2021-05-20T23:27:14",
          "2021-05-20T23:27:30",
          "2021-05-20T23:27:46",
          "2021-05-20T23:28:02",
          "2021-05-20T23:28:18",
          "2021-05-20T23:28:34",
          "2021-05-20T23:28:50",
          "2021-05-20T23:29:06",
          "2021-05-20T23:29:22",
          "2021-05-20T23:29:54",
          "2021-05-20T23:30:10",
          "2021-05-20T23:30:26",
          "2021-05-20T23:30:42",
          "2021-05-20T23:30:58",
          "2021-05-20T23:31:14",
          "2021-05-20T23:31:30",
          "2021-05-20T23:31:46",
          "2021-05-20T23:32:02",
          "2021-05-20T23:32:18"
         ],
         "xaxis": "x",
         "y": [
          35,
          35,
          36,
          37,
          36,
          37,
          37,
          36,
          35,
          35,
          35,
          35,
          34,
          35,
          35,
          36,
          37,
          37,
          37,
          38,
          37,
          36,
          36,
          36,
          34,
          35,
          36,
          35,
          35,
          36,
          35,
          36,
          35,
          35,
          36,
          36,
          37,
          36,
          37,
          37,
          37,
          38,
          39,
          39,
          39,
          null,
          38,
          39,
          39,
          39,
          39,
          38,
          38,
          38,
          38,
          38,
          36,
          36,
          36,
          36,
          36,
          37,
          38,
          39,
          38,
          37,
          38,
          38,
          39,
          39,
          39,
          39,
          38,
          38,
          38,
          38,
          38,
          38,
          37,
          null,
          37,
          37,
          37,
          38,
          38,
          38,
          38,
          37,
          38,
          38,
          37,
          37,
          38,
          38,
          39,
          38,
          39,
          40,
          40,
          40,
          39,
          39,
          38,
          38,
          39,
          39,
          38,
          38,
          39,
          38,
          38,
          39,
          40,
          40,
          39,
          40,
          40,
          39,
          39,
          40,
          40,
          41,
          40,
          40,
          42,
          42,
          41,
          41,
          43,
          44,
          43,
          42,
          43,
          43,
          43,
          42,
          41,
          43,
          42,
          42,
          41,
          41,
          41,
          40,
          40,
          40,
          40,
          39,
          40,
          40,
          41,
          42,
          41,
          42,
          41,
          42,
          41,
          40,
          41,
          41,
          41,
          40,
          40,
          40,
          41,
          41,
          41,
          41,
          41,
          41,
          41,
          41,
          null,
          42,
          42,
          42,
          42,
          42,
          41,
          42,
          43,
          45,
          45,
          43,
          43,
          43,
          42,
          41,
          41,
          40,
          40,
          40,
          38,
          38,
          39,
          39,
          38,
          39,
          38,
          38,
          36,
          37,
          37,
          37,
          37,
          38,
          38,
          38,
          40,
          43,
          44,
          44,
          44,
          46,
          46,
          45,
          45,
          45,
          45,
          45,
          45,
          45,
          45,
          46,
          46,
          46,
          47,
          47,
          47,
          46,
          45,
          45,
          44,
          45,
          45,
          44,
          44,
          44,
          44,
          44,
          43,
          43,
          43,
          42,
          43,
          43,
          44,
          43,
          44,
          43,
          44,
          44,
          44,
          44,
          42,
          43,
          43,
          43,
          43,
          42,
          42,
          42,
          43,
          43,
          43,
          42,
          43,
          44,
          44,
          43,
          43,
          43,
          43,
          43,
          44,
          44,
          44,
          44,
          45,
          44,
          44,
          44,
          45,
          45,
          44,
          44,
          43,
          42,
          42,
          42,
          42,
          42,
          42,
          42,
          41,
          41,
          41,
          41,
          41,
          42,
          42,
          42,
          41,
          42,
          42,
          42,
          42,
          42,
          42,
          43,
          43,
          44,
          45,
          45,
          44,
          43,
          43,
          43,
          43,
          43,
          42,
          43,
          43,
          43,
          43,
          43,
          43,
          43,
          42,
          41,
          40,
          41,
          41,
          41,
          41,
          41,
          40,
          40,
          41,
          41,
          42,
          43,
          43,
          43,
          43,
          42,
          43,
          44,
          43,
          43,
          43,
          43,
          43,
          43,
          44,
          44,
          45,
          44,
          44,
          44,
          44,
          44,
          44,
          44,
          41,
          40,
          38,
          38,
          38,
          37,
          38,
          37,
          36,
          38,
          39,
          41,
          43,
          45,
          45,
          45,
          45,
          46,
          46,
          46,
          46,
          45,
          44,
          46,
          46,
          45,
          44,
          44,
          43,
          41,
          39,
          39,
          39,
          40,
          41,
          43,
          42,
          42,
          42,
          42,
          43,
          43,
          43,
          43,
          42,
          41,
          41,
          41,
          43,
          42,
          43,
          44,
          44,
          43,
          43,
          43,
          43,
          43,
          43,
          44,
          44
         ],
         "yaxis": "y"
        }
       ],
       "layout": {
        "legend": {
         "tracegroupgap": 0
        },
        "margin": {
         "t": 60
        },
        "template": {
         "data": {
          "bar": [
           {
            "error_x": {
             "color": "#2a3f5f"
            },
            "error_y": {
             "color": "#2a3f5f"
            },
            "marker": {
             "line": {
              "color": "#E5ECF6",
              "width": 0.5
             }
            },
            "type": "bar"
           }
          ],
          "barpolar": [
           {
            "marker": {
             "line": {
              "color": "#E5ECF6",
              "width": 0.5
             }
            },
            "type": "barpolar"
           }
          ],
          "carpet": [
           {
            "aaxis": {
             "endlinecolor": "#2a3f5f",
             "gridcolor": "white",
             "linecolor": "white",
             "minorgridcolor": "white",
             "startlinecolor": "#2a3f5f"
            },
            "baxis": {
             "endlinecolor": "#2a3f5f",
             "gridcolor": "white",
             "linecolor": "white",
             "minorgridcolor": "white",
             "startlinecolor": "#2a3f5f"
            },
            "type": "carpet"
           }
          ],
          "choropleth": [
           {
            "colorbar": {
             "outlinewidth": 0,
             "ticks": ""
            },
            "type": "choropleth"
           }
          ],
          "contour": [
           {
            "colorbar": {
             "outlinewidth": 0,
             "ticks": ""
            },
            "colorscale": [
             [
              0,
              "#0d0887"
             ],
             [
              0.1111111111111111,
              "#46039f"
             ],
             [
              0.2222222222222222,
              "#7201a8"
             ],
             [
              0.3333333333333333,
              "#9c179e"
             ],
             [
              0.4444444444444444,
              "#bd3786"
             ],
             [
              0.5555555555555556,
              "#d8576b"
             ],
             [
              0.6666666666666666,
              "#ed7953"
             ],
             [
              0.7777777777777778,
              "#fb9f3a"
             ],
             [
              0.8888888888888888,
              "#fdca26"
             ],
             [
              1,
              "#f0f921"
             ]
            ],
            "type": "contour"
           }
          ],
          "contourcarpet": [
           {
            "colorbar": {
             "outlinewidth": 0,
             "ticks": ""
            },
            "type": "contourcarpet"
           }
          ],
          "heatmap": [
           {
            "colorbar": {
             "outlinewidth": 0,
             "ticks": ""
            },
            "colorscale": [
             [
              0,
              "#0d0887"
             ],
             [
              0.1111111111111111,
              "#46039f"
             ],
             [
              0.2222222222222222,
              "#7201a8"
             ],
             [
              0.3333333333333333,
              "#9c179e"
             ],
             [
              0.4444444444444444,
              "#bd3786"
             ],
             [
              0.5555555555555556,
              "#d8576b"
             ],
             [
              0.6666666666666666,
              "#ed7953"
             ],
             [
              0.7777777777777778,
              "#fb9f3a"
             ],
             [
              0.8888888888888888,
              "#fdca26"
             ],
             [
              1,
              "#f0f921"
             ]
            ],
            "type": "heatmap"
           }
          ],
          "heatmapgl": [
           {
            "colorbar": {
             "outlinewidth": 0,
             "ticks": ""
            },
            "colorscale": [
             [
              0,
              "#0d0887"
             ],
             [
              0.1111111111111111,
              "#46039f"
             ],
             [
              0.2222222222222222,
              "#7201a8"
             ],
             [
              0.3333333333333333,
              "#9c179e"
             ],
             [
              0.4444444444444444,
              "#bd3786"
             ],
             [
              0.5555555555555556,
              "#d8576b"
             ],
             [
              0.6666666666666666,
              "#ed7953"
             ],
             [
              0.7777777777777778,
              "#fb9f3a"
             ],
             [
              0.8888888888888888,
              "#fdca26"
             ],
             [
              1,
              "#f0f921"
             ]
            ],
            "type": "heatmapgl"
           }
          ],
          "histogram": [
           {
            "marker": {
             "colorbar": {
              "outlinewidth": 0,
              "ticks": ""
             }
            },
            "type": "histogram"
           }
          ],
          "histogram2d": [
           {
            "colorbar": {
             "outlinewidth": 0,
             "ticks": ""
            },
            "colorscale": [
             [
              0,
              "#0d0887"
             ],
             [
              0.1111111111111111,
              "#46039f"
             ],
             [
              0.2222222222222222,
              "#7201a8"
             ],
             [
              0.3333333333333333,
              "#9c179e"
             ],
             [
              0.4444444444444444,
              "#bd3786"
             ],
             [
              0.5555555555555556,
              "#d8576b"
             ],
             [
              0.6666666666666666,
              "#ed7953"
             ],
             [
              0.7777777777777778,
              "#fb9f3a"
             ],
             [
              0.8888888888888888,
              "#fdca26"
             ],
             [
              1,
              "#f0f921"
             ]
            ],
            "type": "histogram2d"
           }
          ],
          "histogram2dcontour": [
           {
            "colorbar": {
             "outlinewidth": 0,
             "ticks": ""
            },
            "colorscale": [
             [
              0,
              "#0d0887"
             ],
             [
              0.1111111111111111,
              "#46039f"
             ],
             [
              0.2222222222222222,
              "#7201a8"
             ],
             [
              0.3333333333333333,
              "#9c179e"
             ],
             [
              0.4444444444444444,
              "#bd3786"
             ],
             [
              0.5555555555555556,
              "#d8576b"
             ],
             [
              0.6666666666666666,
              "#ed7953"
             ],
             [
              0.7777777777777778,
              "#fb9f3a"
             ],
             [
              0.8888888888888888,
              "#fdca26"
             ],
             [
              1,
              "#f0f921"
             ]
            ],
            "type": "histogram2dcontour"
           }
          ],
          "mesh3d": [
           {
            "colorbar": {
             "outlinewidth": 0,
             "ticks": ""
            },
            "type": "mesh3d"
           }
          ],
          "parcoords": [
           {
            "line": {
             "colorbar": {
              "outlinewidth": 0,
              "ticks": ""
             }
            },
            "type": "parcoords"
           }
          ],
          "pie": [
           {
            "automargin": true,
            "type": "pie"
           }
          ],
          "scatter": [
           {
            "marker": {
             "colorbar": {
              "outlinewidth": 0,
              "ticks": ""
             }
            },
            "type": "scatter"
           }
          ],
          "scatter3d": [
           {
            "line": {
             "colorbar": {
              "outlinewidth": 0,
              "ticks": ""
             }
            },
            "marker": {
             "colorbar": {
              "outlinewidth": 0,
              "ticks": ""
             }
            },
            "type": "scatter3d"
           }
          ],
          "scattercarpet": [
           {
            "marker": {
             "colorbar": {
              "outlinewidth": 0,
              "ticks": ""
             }
            },
            "type": "scattercarpet"
           }
          ],
          "scattergeo": [
           {
            "marker": {
             "colorbar": {
              "outlinewidth": 0,
              "ticks": ""
             }
            },
            "type": "scattergeo"
           }
          ],
          "scattergl": [
           {
            "marker": {
             "colorbar": {
              "outlinewidth": 0,
              "ticks": ""
             }
            },
            "type": "scattergl"
           }
          ],
          "scattermapbox": [
           {
            "marker": {
             "colorbar": {
              "outlinewidth": 0,
              "ticks": ""
             }
            },
            "type": "scattermapbox"
           }
          ],
          "scatterpolar": [
           {
            "marker": {
             "colorbar": {
              "outlinewidth": 0,
              "ticks": ""
             }
            },
            "type": "scatterpolar"
           }
          ],
          "scatterpolargl": [
           {
            "marker": {
             "colorbar": {
              "outlinewidth": 0,
              "ticks": ""
             }
            },
            "type": "scatterpolargl"
           }
          ],
          "scatterternary": [
           {
            "marker": {
             "colorbar": {
              "outlinewidth": 0,
              "ticks": ""
             }
            },
            "type": "scatterternary"
           }
          ],
          "surface": [
           {
            "colorbar": {
             "outlinewidth": 0,
             "ticks": ""
            },
            "colorscale": [
             [
              0,
              "#0d0887"
             ],
             [
              0.1111111111111111,
              "#46039f"
             ],
             [
              0.2222222222222222,
              "#7201a8"
             ],
             [
              0.3333333333333333,
              "#9c179e"
             ],
             [
              0.4444444444444444,
              "#bd3786"
             ],
             [
              0.5555555555555556,
              "#d8576b"
             ],
             [
              0.6666666666666666,
              "#ed7953"
             ],
             [
              0.7777777777777778,
              "#fb9f3a"
             ],
             [
              0.8888888888888888,
              "#fdca26"
             ],
             [
              1,
              "#f0f921"
             ]
            ],
            "type": "surface"
           }
          ],
          "table": [
           {
            "cells": {
             "fill": {
              "color": "#EBF0F8"
             },
             "line": {
              "color": "white"
             }
            },
            "header": {
             "fill": {
              "color": "#C8D4E3"
             },
             "line": {
              "color": "white"
             }
            },
            "type": "table"
           }
          ]
         },
         "layout": {
          "annotationdefaults": {
           "arrowcolor": "#2a3f5f",
           "arrowhead": 0,
           "arrowwidth": 1
          },
          "coloraxis": {
           "colorbar": {
            "outlinewidth": 0,
            "ticks": ""
           }
          },
          "colorscale": {
           "diverging": [
            [
             0,
             "#8e0152"
            ],
            [
             0.1,
             "#c51b7d"
            ],
            [
             0.2,
             "#de77ae"
            ],
            [
             0.3,
             "#f1b6da"
            ],
            [
             0.4,
             "#fde0ef"
            ],
            [
             0.5,
             "#f7f7f7"
            ],
            [
             0.6,
             "#e6f5d0"
            ],
            [
             0.7,
             "#b8e186"
            ],
            [
             0.8,
             "#7fbc41"
            ],
            [
             0.9,
             "#4d9221"
            ],
            [
             1,
             "#276419"
            ]
           ],
           "sequential": [
            [
             0,
             "#0d0887"
            ],
            [
             0.1111111111111111,
             "#46039f"
            ],
            [
             0.2222222222222222,
             "#7201a8"
            ],
            [
             0.3333333333333333,
             "#9c179e"
            ],
            [
             0.4444444444444444,
             "#bd3786"
            ],
            [
             0.5555555555555556,
             "#d8576b"
            ],
            [
             0.6666666666666666,
             "#ed7953"
            ],
            [
             0.7777777777777778,
             "#fb9f3a"
            ],
            [
             0.8888888888888888,
             "#fdca26"
            ],
            [
             1,
             "#f0f921"
            ]
           ],
           "sequentialminus": [
            [
             0,
             "#0d0887"
            ],
            [
             0.1111111111111111,
             "#46039f"
            ],
            [
             0.2222222222222222,
             "#7201a8"
            ],
            [
             0.3333333333333333,
             "#9c179e"
            ],
            [
             0.4444444444444444,
             "#bd3786"
            ],
            [
             0.5555555555555556,
             "#d8576b"
            ],
            [
             0.6666666666666666,
             "#ed7953"
            ],
            [
             0.7777777777777778,
             "#fb9f3a"
            ],
            [
             0.8888888888888888,
             "#fdca26"
            ],
            [
             1,
             "#f0f921"
            ]
           ]
          },
          "colorway": [
           "#636efa",
           "#EF553B",
           "#00cc96",
           "#ab63fa",
           "#FFA15A",
           "#19d3f3",
           "#FF6692",
           "#B6E880",
           "#FF97FF",
           "#FECB52"
          ],
          "font": {
           "color": "#2a3f5f"
          },
          "geo": {
           "bgcolor": "white",
           "lakecolor": "white",
           "landcolor": "#E5ECF6",
           "showlakes": true,
           "showland": true,
           "subunitcolor": "white"
          },
          "hoverlabel": {
           "align": "left"
          },
          "hovermode": "closest",
          "mapbox": {
           "style": "light"
          },
          "paper_bgcolor": "white",
          "plot_bgcolor": "#E5ECF6",
          "polar": {
           "angularaxis": {
            "gridcolor": "white",
            "linecolor": "white",
            "ticks": ""
           },
           "bgcolor": "#E5ECF6",
           "radialaxis": {
            "gridcolor": "white",
            "linecolor": "white",
            "ticks": ""
           }
          },
          "scene": {
           "xaxis": {
            "backgroundcolor": "#E5ECF6",
            "gridcolor": "white",
            "gridwidth": 2,
            "linecolor": "white",
            "showbackground": true,
            "ticks": "",
            "zerolinecolor": "white"
           },
           "yaxis": {
            "backgroundcolor": "#E5ECF6",
            "gridcolor": "white",
            "gridwidth": 2,
            "linecolor": "white",
            "showbackground": true,
            "ticks": "",
            "zerolinecolor": "white"
           },
           "zaxis": {
            "backgroundcolor": "#E5ECF6",
            "gridcolor": "white",
            "gridwidth": 2,
            "linecolor": "white",
            "showbackground": true,
            "ticks": "",
            "zerolinecolor": "white"
           }
          },
          "shapedefaults": {
           "line": {
            "color": "#2a3f5f"
           }
          },
          "ternary": {
           "aaxis": {
            "gridcolor": "white",
            "linecolor": "white",
            "ticks": ""
           },
           "baxis": {
            "gridcolor": "white",
            "linecolor": "white",
            "ticks": ""
           },
           "bgcolor": "#E5ECF6",
           "caxis": {
            "gridcolor": "white",
            "linecolor": "white",
            "ticks": ""
           }
          },
          "title": {
           "x": 0.05
          },
          "xaxis": {
           "automargin": true,
           "gridcolor": "white",
           "linecolor": "white",
           "ticks": "",
           "title": {
            "standoff": 15
           },
           "zerolinecolor": "white",
           "zerolinewidth": 2
          },
          "yaxis": {
           "automargin": true,
           "gridcolor": "white",
           "linecolor": "white",
           "ticks": "",
           "title": {
            "standoff": 15
           },
           "zerolinecolor": "white",
           "zerolinewidth": 2
          }
         }
        },
        "xaxis": {
         "anchor": "y",
         "domain": [
          0,
          1
         ],
         "title": {
          "text": "time"
         }
        },
        "yaxis": {
         "anchor": "x",
         "domain": [
          0,
          1
         ],
         "title": {
          "text": "humidity"
         }
        }
       }
      },
      "text/html": "<div>\n        \n        \n            <div id=\"ce55bdc2-3ce7-41e5-a895-100cdbccc46b\" class=\"plotly-graph-div\" style=\"height:525px; width:100%;\"></div>\n            <script type=\"text/javascript\">\n                require([\"plotly\"], function(Plotly) {\n                    window.PLOTLYENV=window.PLOTLYENV || {};\n                    \n                if (document.getElementById(\"ce55bdc2-3ce7-41e5-a895-100cdbccc46b\")) {\n                    Plotly.newPlot(\n                        'ce55bdc2-3ce7-41e5-a895-100cdbccc46b',\n                        [{\"hovertemplate\": \"time=%{x}<br>humidity=%{y}<extra></extra>\", \"legendgroup\": \"\", \"line\": {\"color\": \"#636efa\", \"dash\": \"solid\"}, \"mode\": \"lines\", \"name\": \"\", \"orientation\": \"v\", \"showlegend\": false, \"type\": \"scatter\", \"x\": [\"2021-05-20T21:33:23\", \"2021-05-20T21:33:39\", \"2021-05-20T21:33:55\", \"2021-05-20T21:34:11\", \"2021-05-20T21:34:27\", \"2021-05-20T21:34:43\", \"2021-05-20T21:34:43\", \"2021-05-20T21:34:59\", \"2021-05-20T21:35:15\", \"2021-05-20T21:35:31\", \"2021-05-20T21:35:47\", \"2021-05-20T21:36:03\", \"2021-05-20T21:36:19\", \"2021-05-20T21:36:35\", \"2021-05-20T21:36:51\", \"2021-05-20T21:37:07\", \"2021-05-20T21:37:23\", \"2021-05-20T21:37:39\", \"2021-05-20T21:37:55\", \"2021-05-20T21:38:11\", \"2021-05-20T21:38:27\", \"2021-05-20T21:38:43\", \"2021-05-20T21:38:59\", \"2021-05-20T21:39:15\", \"2021-05-20T21:39:31\", \"2021-05-20T21:39:47\", \"2021-05-20T21:40:03\", \"2021-05-20T21:40:19\", \"2021-05-20T21:40:35\", \"2021-05-20T21:40:51\", \"2021-05-20T21:41:07\", \"2021-05-20T21:41:23\", \"2021-05-20T21:41:39\", \"2021-05-20T21:41:39\", \"2021-05-20T21:41:55\", \"2021-05-20T21:42:11\", \"2021-05-20T21:42:27\", \"2021-05-20T21:42:43\", \"2021-05-20T21:42:59\", \"2021-05-20T21:43:15\", \"2021-05-20T21:43:31\", \"2021-05-20T21:43:47\", \"2021-05-20T21:44:03\", \"2021-05-20T21:44:35\", \"2021-05-20T21:44:51\", \"2021-05-20T21:45:07\", \"2021-05-20T21:45:23\", \"2021-05-20T21:45:39\", \"2021-05-20T21:45:55\", \"2021-05-20T21:46:11\", \"2021-05-20T21:46:27\", \"2021-05-20T21:46:43\", \"2021-05-20T21:46:59\", \"2021-05-20T21:47:15\", \"2021-05-20T21:47:31\", \"2021-05-20T21:47:47\", \"2021-05-20T21:48:03\", \"2021-05-20T21:48:19\", \"2021-05-20T21:48:35\", \"2021-05-20T21:48:35\", \"2021-05-20T21:49:07\", \"2021-05-20T21:49:39\", \"2021-05-20T21:50:11\", \"2021-05-20T21:50:43\", \"2021-05-20T21:51:15\", \"2021-05-20T21:51:47\", \"2021-05-20T21:52:19\", \"2021-05-20T21:52:35\", \"2021-05-20T21:52:51\", \"2021-05-20T21:53:07\", \"2021-05-20T21:53:23\", \"2021-05-20T21:53:39\", \"2021-05-20T21:53:55\", \"2021-05-20T21:54:11\", \"2021-05-20T21:54:27\", \"2021-05-20T21:54:43\", \"2021-05-20T21:54:59\", \"2021-05-20T21:55:15\", \"2021-05-20T21:55:31\", \"2021-05-20T21:55:47\", \"2021-05-20T21:56:03\", \"2021-05-20T21:56:19\", \"2021-05-20T21:56:35\", \"2021-05-20T21:56:51\", \"2021-05-20T21:57:07\", \"2021-05-20T21:57:23\", \"2021-05-20T21:57:39\", \"2021-05-20T21:57:55\", \"2021-05-20T21:58:11\", \"2021-05-20T21:58:27\", \"2021-05-20T21:58:43\", \"2021-05-20T21:58:59\", \"2021-05-20T21:59:15\", \"2021-05-20T21:59:15\", \"2021-05-20T21:59:31\", \"2021-05-20T21:59:47\", \"2021-05-20T22:00:03\", \"2021-05-20T22:00:19\", \"2021-05-20T22:00:19\", \"2021-05-20T22:00:35\", \"2021-05-20T22:00:51\", \"2021-05-20T22:01:07\", \"2021-05-20T22:01:23\", \"2021-05-20T22:01:23\", \"2021-05-20T22:01:39\", \"2021-05-20T22:01:55\", \"2021-05-20T22:02:11\", \"2021-05-20T22:02:27\", \"2021-05-20T22:02:43\", \"2021-05-20T22:02:59\", \"2021-05-20T22:03:15\", \"2021-05-20T22:03:31\", \"2021-05-20T22:03:47\", \"2021-05-20T22:04:03\", \"2021-05-20T22:04:19\", \"2021-05-20T22:04:35\", \"2021-05-20T22:04:51\", \"2021-05-20T22:05:07\", \"2021-05-20T22:05:07\", \"2021-05-20T22:05:39\", \"2021-05-20T22:06:11\", \"2021-05-20T22:06:43\", \"2021-05-20T22:07:15\", \"2021-05-20T22:07:47\", \"2021-05-20T22:08:19\", \"2021-05-20T22:08:51\", \"2021-05-20T22:09:23\", \"2021-05-20T22:09:55\", \"2021-05-20T22:10:27\", \"2021-05-20T22:10:59\", \"2021-05-20T22:11:15\", \"2021-05-20T22:11:31\", \"2021-05-20T22:11:47\", \"2021-05-20T22:12:03\", \"2021-05-20T22:12:19\", \"2021-05-20T22:12:35\", \"2021-05-20T22:12:51\", \"2021-05-20T22:13:07\", \"2021-05-20T22:13:23\", \"2021-05-20T22:13:39\", \"2021-05-20T22:13:55\", \"2021-05-20T22:14:11\", \"2021-05-20T22:14:27\", \"2021-05-20T22:14:43\", \"2021-05-20T22:14:59\", \"2021-05-20T22:15:15\", \"2021-05-20T22:15:31\", \"2021-05-20T22:15:47\", \"2021-05-20T22:16:03\", \"2021-05-20T22:16:19\", \"2021-05-20T22:16:35\", \"2021-05-20T22:16:51\", \"2021-05-20T22:17:07\", \"2021-05-20T22:17:23\", \"2021-05-20T22:17:39\", \"2021-05-20T22:17:55\", \"2021-05-20T22:18:11\", \"2021-05-20T22:18:27\", \"2021-05-20T22:18:43\", \"2021-05-20T22:18:59\", \"2021-05-20T22:18:59\", \"2021-05-20T22:19:15\", \"2021-05-20T22:19:31\", \"2021-05-20T22:19:47\", \"2021-05-20T22:20:03\", \"2021-05-20T22:20:19\", \"2021-05-20T22:20:35\", \"2021-05-20T22:20:51\", \"2021-05-20T22:21:07\", \"2021-05-20T22:21:23\", \"2021-05-20T22:21:39\", \"2021-05-20T22:21:55\", \"2021-05-20T22:22:11\", \"2021-05-20T22:22:27\", \"2021-05-20T22:22:43\", \"2021-05-20T22:22:59\", \"2021-05-20T22:23:15\", \"2021-05-20T22:23:31\", \"2021-05-20T22:23:47\", \"2021-05-20T22:24:03\", \"2021-05-20T22:24:19\", \"2021-05-20T22:24:35\", \"2021-05-20T22:24:51\", \"2021-05-20T22:25:07\", \"2021-05-20T22:25:23\", \"2021-05-20T22:25:39\", \"2021-05-20T22:25:55\", \"2021-05-20T22:26:11\", \"2021-05-20T22:26:27\", \"2021-05-20T22:26:43\", \"2021-05-20T22:26:59\", \"2021-05-20T22:27:15\", \"2021-05-20T22:27:31\", \"2021-05-20T22:27:47\", \"2021-05-20T22:28:03\", \"2021-05-20T22:28:19\", \"2021-05-20T22:28:35\", \"2021-05-20T22:28:51\", \"2021-05-20T22:29:07\", \"2021-05-20T22:29:23\", \"2021-05-20T22:29:39\", \"2021-05-20T22:30:11\", \"2021-05-20T22:30:27\", \"2021-05-20T22:30:43\", \"2021-05-20T22:30:43\", \"2021-05-20T22:30:59\", \"2021-05-20T22:31:15\", \"2021-05-20T22:31:31\", \"2021-05-20T22:31:47\", \"2021-05-20T22:32:03\", \"2021-05-20T22:32:19\", \"2021-05-20T22:32:35\", \"2021-05-20T22:32:51\", \"2021-05-20T22:33:07\", \"2021-05-20T22:33:23\", \"2021-05-20T22:33:39\", \"2021-05-20T22:33:55\", \"2021-05-20T22:34:11\", \"2021-05-20T22:34:27\", \"2021-05-20T22:34:43\", \"2021-05-20T22:34:59\", \"2021-05-20T22:35:15\", \"2021-05-20T22:35:31\", \"2021-05-20T22:35:47\", \"2021-05-20T22:36:03\", \"2021-05-20T22:36:19\", \"2021-05-20T22:36:35\", \"2021-05-20T22:36:51\", \"2021-05-20T22:37:07\", \"2021-05-20T22:37:23\", \"2021-05-20T22:37:39\", \"2021-05-20T22:37:55\", \"2021-05-20T22:38:11\", \"2021-05-20T22:38:27\", \"2021-05-20T22:38:43\", \"2021-05-20T22:38:59\", \"2021-05-20T22:39:15\", \"2021-05-20T22:39:31\", \"2021-05-20T22:39:47\", \"2021-05-20T22:40:03\", \"2021-05-20T22:40:19\", \"2021-05-20T22:40:35\", \"2021-05-20T22:40:51\", \"2021-05-20T22:41:07\", \"2021-05-20T22:41:23\", \"2021-05-20T22:41:39\", \"2021-05-20T22:41:55\", \"2021-05-20T22:42:11\", \"2021-05-20T22:42:27\", \"2021-05-20T22:42:43\", \"2021-05-20T22:42:59\", \"2021-05-20T22:43:15\", \"2021-05-20T22:43:31\", \"2021-05-20T22:43:47\", \"2021-05-20T22:44:03\", \"2021-05-20T22:44:19\", \"2021-05-20T22:44:35\", \"2021-05-20T22:44:51\", \"2021-05-20T22:45:07\", \"2021-05-20T22:45:23\", \"2021-05-20T22:45:39\", \"2021-05-20T22:45:55\", \"2021-05-20T22:46:11\", \"2021-05-20T22:46:27\", \"2021-05-20T22:46:43\", \"2021-05-20T22:46:59\", \"2021-05-20T22:47:15\", \"2021-05-20T22:47:31\", \"2021-05-20T22:47:47\", \"2021-05-20T22:48:03\", \"2021-05-20T22:48:19\", \"2021-05-20T22:48:35\", \"2021-05-20T22:48:51\", \"2021-05-20T22:49:07\", \"2021-05-20T22:49:23\", \"2021-05-20T22:49:39\", \"2021-05-20T22:49:55\", \"2021-05-20T22:50:11\", \"2021-05-20T22:50:27\", \"2021-05-20T22:50:43\", \"2021-05-20T22:50:59\", \"2021-05-20T22:51:15\", \"2021-05-20T22:51:31\", \"2021-05-20T22:51:47\", \"2021-05-20T22:52:03\", \"2021-05-20T22:52:19\", \"2021-05-20T22:52:35\", \"2021-05-20T22:52:51\", \"2021-05-20T22:53:07\", \"2021-05-20T22:53:23\", \"2021-05-20T22:53:39\", \"2021-05-20T22:53:55\", \"2021-05-20T22:54:11\", \"2021-05-20T22:54:27\", \"2021-05-20T22:54:43\", \"2021-05-20T22:54:59\", \"2021-05-20T22:55:15\", \"2021-05-20T22:55:31\", \"2021-05-20T22:55:47\", \"2021-05-20T22:56:03\", \"2021-05-20T22:56:19\", \"2021-05-20T22:56:35\", \"2021-05-20T22:56:51\", \"2021-05-20T22:57:07\", \"2021-05-20T22:57:23\", \"2021-05-20T22:57:39\", \"2021-05-20T22:57:55\", \"2021-05-20T22:58:11\", \"2021-05-20T22:58:27\", \"2021-05-20T22:58:43\", \"2021-05-20T22:58:59\", \"2021-05-20T22:59:15\", \"2021-05-20T22:59:31\", \"2021-05-20T22:59:47\", \"2021-05-20T23:00:03\", \"2021-05-20T23:00:19\", \"2021-05-20T23:00:35\", \"2021-05-20T23:00:51\", \"2021-05-20T23:01:07\", \"2021-05-20T23:01:23\", \"2021-05-20T23:01:39\", \"2021-05-20T23:01:55\", \"2021-05-20T23:02:11\", \"2021-05-20T23:02:27\", \"2021-05-20T23:02:43\", \"2021-05-20T23:02:59\", \"2021-05-20T23:03:15\", \"2021-05-20T23:03:31\", \"2021-05-20T23:03:47\", \"2021-05-20T23:04:03\", \"2021-05-20T23:04:20\", \"2021-05-20T23:04:35\", \"2021-05-20T23:04:51\", \"2021-05-20T23:05:07\", \"2021-05-20T23:05:23\", \"2021-05-20T23:05:39\", \"2021-05-20T23:05:55\", \"2021-05-20T23:06:11\", \"2021-05-20T23:06:27\", \"2021-05-20T23:06:43\", \"2021-05-20T23:06:59\", \"2021-05-20T23:07:15\", \"2021-05-20T23:07:31\", \"2021-05-20T23:07:47\", \"2021-05-20T23:08:03\", \"2021-05-20T23:08:19\", \"2021-05-20T23:08:35\", \"2021-05-20T23:08:51\", \"2021-05-20T23:09:07\", \"2021-05-20T23:09:23\", \"2021-05-20T23:09:39\", \"2021-05-20T23:09:55\", \"2021-05-20T23:10:11\", \"2021-05-20T23:10:43\", \"2021-05-20T23:10:59\", \"2021-05-20T23:11:15\", \"2021-05-20T23:11:31\", \"2021-05-20T23:11:47\", \"2021-05-20T23:12:03\", \"2021-05-20T23:12:19\", \"2021-05-20T23:12:19\", \"2021-05-20T23:12:35\", \"2021-05-20T23:12:51\", \"2021-05-20T23:13:07\", \"2021-05-20T23:13:23\", \"2021-05-20T23:13:39\", \"2021-05-20T23:13:57\", \"2021-05-20T23:14:11\", \"2021-05-20T23:14:27\", \"2021-05-20T23:14:43\", \"2021-05-20T23:14:59\", \"2021-05-20T23:15:15\", \"2021-05-20T23:15:31\", \"2021-05-20T23:15:46\", \"2021-05-20T23:16:02\", \"2021-05-20T23:16:19\", \"2021-05-20T23:16:34\", \"2021-05-20T23:16:51\", \"2021-05-20T23:17:06\", \"2021-05-20T23:17:07\", \"2021-05-20T23:17:22\", \"2021-05-20T23:17:38\", \"2021-05-20T23:17:54\", \"2021-05-20T23:18:10\", \"2021-05-20T23:18:26\", \"2021-05-20T23:18:43\", \"2021-05-20T23:18:58\", \"2021-05-20T23:19:14\", \"2021-05-20T23:19:15\", \"2021-05-20T23:19:47\", \"2021-05-20T23:20:19\", \"2021-05-20T23:20:51\", \"2021-05-20T23:21:23\", \"2021-05-20T23:21:55\", \"2021-05-20T23:22:27\", \"2021-05-20T23:22:59\", \"2021-05-20T23:23:31\", \"2021-05-20T23:24:03\", \"2021-05-20T23:24:35\", \"2021-05-20T23:25:07\", \"2021-05-20T23:25:39\", \"2021-05-20T23:25:54\", \"2021-05-20T23:26:10\", \"2021-05-20T23:26:26\", \"2021-05-20T23:26:42\", \"2021-05-20T23:26:58\", \"2021-05-20T23:27:14\", \"2021-05-20T23:27:30\", \"2021-05-20T23:27:46\", \"2021-05-20T23:28:02\", \"2021-05-20T23:28:18\", \"2021-05-20T23:28:34\", \"2021-05-20T23:28:50\", \"2021-05-20T23:29:06\", \"2021-05-20T23:29:22\", \"2021-05-20T23:29:54\", \"2021-05-20T23:30:10\", \"2021-05-20T23:30:26\", \"2021-05-20T23:30:42\", \"2021-05-20T23:30:58\", \"2021-05-20T23:31:14\", \"2021-05-20T23:31:30\", \"2021-05-20T23:31:46\", \"2021-05-20T23:32:02\", \"2021-05-20T23:32:18\"], \"xaxis\": \"x\", \"y\": [35.0, 35.0, 36.0, 37.0, 36.0, 37.0, 37.0, 36.0, 35.0, 35.0, 35.0, 35.0, 34.0, 35.0, 35.0, 36.0, 37.0, 37.0, 37.0, 38.0, 37.0, 36.0, 36.0, 36.0, 34.0, 35.0, 36.0, 35.0, 35.0, 36.0, 35.0, 36.0, 35.0, 35.0, 36.0, 36.0, 37.0, 36.0, 37.0, 37.0, 37.0, 38.0, 39.0, 39.0, 39.0, null, 38.0, 39.0, 39.0, 39.0, 39.0, 38.0, 38.0, 38.0, 38.0, 38.0, 36.0, 36.0, 36.0, 36.0, 36.0, 37.0, 38.0, 39.0, 38.0, 37.0, 38.0, 38.0, 39.0, 39.0, 39.0, 39.0, 38.0, 38.0, 38.0, 38.0, 38.0, 38.0, 37.0, null, 37.0, 37.0, 37.0, 38.0, 38.0, 38.0, 38.0, 37.0, 38.0, 38.0, 37.0, 37.0, 38.0, 38.0, 39.0, 38.0, 39.0, 40.0, 40.0, 40.0, 39.0, 39.0, 38.0, 38.0, 39.0, 39.0, 38.0, 38.0, 39.0, 38.0, 38.0, 39.0, 40.0, 40.0, 39.0, 40.0, 40.0, 39.0, 39.0, 40.0, 40.0, 41.0, 40.0, 40.0, 42.0, 42.0, 41.0, 41.0, 43.0, 44.0, 43.0, 42.0, 43.0, 43.0, 43.0, 42.0, 41.0, 43.0, 42.0, 42.0, 41.0, 41.0, 41.0, 40.0, 40.0, 40.0, 40.0, 39.0, 40.0, 40.0, 41.0, 42.0, 41.0, 42.0, 41.0, 42.0, 41.0, 40.0, 41.0, 41.0, 41.0, 40.0, 40.0, 40.0, 41.0, 41.0, 41.0, 41.0, 41.0, 41.0, 41.0, 41.0, null, 42.0, 42.0, 42.0, 42.0, 42.0, 41.0, 42.0, 43.0, 45.0, 45.0, 43.0, 43.0, 43.0, 42.0, 41.0, 41.0, 40.0, 40.0, 40.0, 38.0, 38.0, 39.0, 39.0, 38.0, 39.0, 38.0, 38.0, 36.0, 37.0, 37.0, 37.0, 37.0, 38.0, 38.0, 38.0, 40.0, 43.0, 44.0, 44.0, 44.0, 46.0, 46.0, 45.0, 45.0, 45.0, 45.0, 45.0, 45.0, 45.0, 45.0, 46.0, 46.0, 46.0, 47.0, 47.0, 47.0, 46.0, 45.0, 45.0, 44.0, 45.0, 45.0, 44.0, 44.0, 44.0, 44.0, 44.0, 43.0, 43.0, 43.0, 42.0, 43.0, 43.0, 44.0, 43.0, 44.0, 43.0, 44.0, 44.0, 44.0, 44.0, 42.0, 43.0, 43.0, 43.0, 43.0, 42.0, 42.0, 42.0, 43.0, 43.0, 43.0, 42.0, 43.0, 44.0, 44.0, 43.0, 43.0, 43.0, 43.0, 43.0, 44.0, 44.0, 44.0, 44.0, 45.0, 44.0, 44.0, 44.0, 45.0, 45.0, 44.0, 44.0, 43.0, 42.0, 42.0, 42.0, 42.0, 42.0, 42.0, 42.0, 41.0, 41.0, 41.0, 41.0, 41.0, 42.0, 42.0, 42.0, 41.0, 42.0, 42.0, 42.0, 42.0, 42.0, 42.0, 43.0, 43.0, 44.0, 45.0, 45.0, 44.0, 43.0, 43.0, 43.0, 43.0, 43.0, 42.0, 43.0, 43.0, 43.0, 43.0, 43.0, 43.0, 43.0, 42.0, 41.0, 40.0, 41.0, 41.0, 41.0, 41.0, 41.0, 40.0, 40.0, 41.0, 41.0, 42.0, 43.0, 43.0, 43.0, 43.0, 42.0, 43.0, 44.0, 43.0, 43.0, 43.0, 43.0, 43.0, 43.0, 44.0, 44.0, 45.0, 44.0, 44.0, 44.0, 44.0, 44.0, 44.0, 44.0, 41.0, 40.0, 38.0, 38.0, 38.0, 37.0, 38.0, 37.0, 36.0, 38.0, 39.0, 41.0, 43.0, 45.0, 45.0, 45.0, 45.0, 46.0, 46.0, 46.0, 46.0, 45.0, 44.0, 46.0, 46.0, 45.0, 44.0, 44.0, 43.0, 41.0, 39.0, 39.0, 39.0, 40.0, 41.0, 43.0, 42.0, 42.0, 42.0, 42.0, 43.0, 43.0, 43.0, 43.0, 42.0, 41.0, 41.0, 41.0, 43.0, 42.0, 43.0, 44.0, 44.0, 43.0, 43.0, 43.0, 43.0, 43.0, 43.0, 44.0, 44.0], \"yaxis\": \"y\"}],\n                        {\"legend\": {\"tracegroupgap\": 0}, \"margin\": {\"t\": 60}, \"template\": {\"data\": {\"bar\": [{\"error_x\": {\"color\": \"#2a3f5f\"}, \"error_y\": {\"color\": \"#2a3f5f\"}, \"marker\": {\"line\": {\"color\": \"#E5ECF6\", \"width\": 0.5}}, \"type\": \"bar\"}], \"barpolar\": [{\"marker\": {\"line\": {\"color\": \"#E5ECF6\", \"width\": 0.5}}, \"type\": \"barpolar\"}], \"carpet\": [{\"aaxis\": {\"endlinecolor\": \"#2a3f5f\", \"gridcolor\": \"white\", \"linecolor\": \"white\", \"minorgridcolor\": \"white\", \"startlinecolor\": \"#2a3f5f\"}, \"baxis\": {\"endlinecolor\": \"#2a3f5f\", \"gridcolor\": \"white\", \"linecolor\": \"white\", \"minorgridcolor\": \"white\", \"startlinecolor\": \"#2a3f5f\"}, \"type\": \"carpet\"}], \"choropleth\": [{\"colorbar\": {\"outlinewidth\": 0, \"ticks\": \"\"}, \"type\": \"choropleth\"}], \"contour\": [{\"colorbar\": {\"outlinewidth\": 0, \"ticks\": \"\"}, \"colorscale\": [[0.0, \"#0d0887\"], [0.1111111111111111, \"#46039f\"], [0.2222222222222222, \"#7201a8\"], [0.3333333333333333, \"#9c179e\"], [0.4444444444444444, \"#bd3786\"], [0.5555555555555556, \"#d8576b\"], [0.6666666666666666, \"#ed7953\"], [0.7777777777777778, \"#fb9f3a\"], [0.8888888888888888, \"#fdca26\"], [1.0, \"#f0f921\"]], \"type\": \"contour\"}], \"contourcarpet\": [{\"colorbar\": {\"outlinewidth\": 0, \"ticks\": \"\"}, \"type\": \"contourcarpet\"}], \"heatmap\": [{\"colorbar\": {\"outlinewidth\": 0, \"ticks\": \"\"}, \"colorscale\": [[0.0, \"#0d0887\"], [0.1111111111111111, \"#46039f\"], [0.2222222222222222, \"#7201a8\"], [0.3333333333333333, \"#9c179e\"], [0.4444444444444444, \"#bd3786\"], [0.5555555555555556, \"#d8576b\"], [0.6666666666666666, \"#ed7953\"], [0.7777777777777778, \"#fb9f3a\"], [0.8888888888888888, \"#fdca26\"], [1.0, \"#f0f921\"]], \"type\": \"heatmap\"}], \"heatmapgl\": [{\"colorbar\": {\"outlinewidth\": 0, \"ticks\": \"\"}, \"colorscale\": [[0.0, \"#0d0887\"], [0.1111111111111111, \"#46039f\"], [0.2222222222222222, \"#7201a8\"], [0.3333333333333333, \"#9c179e\"], [0.4444444444444444, \"#bd3786\"], [0.5555555555555556, \"#d8576b\"], [0.6666666666666666, \"#ed7953\"], [0.7777777777777778, \"#fb9f3a\"], [0.8888888888888888, \"#fdca26\"], [1.0, \"#f0f921\"]], \"type\": \"heatmapgl\"}], \"histogram\": [{\"marker\": {\"colorbar\": {\"outlinewidth\": 0, \"ticks\": \"\"}}, \"type\": \"histogram\"}], \"histogram2d\": [{\"colorbar\": {\"outlinewidth\": 0, \"ticks\": \"\"}, \"colorscale\": [[0.0, \"#0d0887\"], [0.1111111111111111, \"#46039f\"], [0.2222222222222222, \"#7201a8\"], [0.3333333333333333, \"#9c179e\"], [0.4444444444444444, \"#bd3786\"], [0.5555555555555556, \"#d8576b\"], [0.6666666666666666, \"#ed7953\"], [0.7777777777777778, \"#fb9f3a\"], [0.8888888888888888, \"#fdca26\"], [1.0, \"#f0f921\"]], \"type\": \"histogram2d\"}], \"histogram2dcontour\": [{\"colorbar\": {\"outlinewidth\": 0, \"ticks\": \"\"}, \"colorscale\": [[0.0, \"#0d0887\"], [0.1111111111111111, \"#46039f\"], [0.2222222222222222, \"#7201a8\"], [0.3333333333333333, \"#9c179e\"], [0.4444444444444444, \"#bd3786\"], [0.5555555555555556, \"#d8576b\"], [0.6666666666666666, \"#ed7953\"], [0.7777777777777778, \"#fb9f3a\"], [0.8888888888888888, \"#fdca26\"], [1.0, \"#f0f921\"]], \"type\": \"histogram2dcontour\"}], \"mesh3d\": [{\"colorbar\": {\"outlinewidth\": 0, \"ticks\": \"\"}, \"type\": \"mesh3d\"}], \"parcoords\": [{\"line\": {\"colorbar\": {\"outlinewidth\": 0, \"ticks\": \"\"}}, \"type\": \"parcoords\"}], \"pie\": [{\"automargin\": true, \"type\": \"pie\"}], \"scatter\": [{\"marker\": {\"colorbar\": {\"outlinewidth\": 0, \"ticks\": \"\"}}, \"type\": \"scatter\"}], \"scatter3d\": [{\"line\": {\"colorbar\": {\"outlinewidth\": 0, \"ticks\": \"\"}}, \"marker\": {\"colorbar\": {\"outlinewidth\": 0, \"ticks\": \"\"}}, \"type\": \"scatter3d\"}], \"scattercarpet\": [{\"marker\": {\"colorbar\": {\"outlinewidth\": 0, \"ticks\": \"\"}}, \"type\": \"scattercarpet\"}], \"scattergeo\": [{\"marker\": {\"colorbar\": {\"outlinewidth\": 0, \"ticks\": \"\"}}, \"type\": \"scattergeo\"}], \"scattergl\": [{\"marker\": {\"colorbar\": {\"outlinewidth\": 0, \"ticks\": \"\"}}, \"type\": \"scattergl\"}], \"scattermapbox\": [{\"marker\": {\"colorbar\": {\"outlinewidth\": 0, \"ticks\": \"\"}}, \"type\": \"scattermapbox\"}], \"scatterpolar\": [{\"marker\": {\"colorbar\": {\"outlinewidth\": 0, \"ticks\": \"\"}}, \"type\": \"scatterpolar\"}], \"scatterpolargl\": [{\"marker\": {\"colorbar\": {\"outlinewidth\": 0, \"ticks\": \"\"}}, \"type\": \"scatterpolargl\"}], \"scatterternary\": [{\"marker\": {\"colorbar\": {\"outlinewidth\": 0, \"ticks\": \"\"}}, \"type\": \"scatterternary\"}], \"surface\": [{\"colorbar\": {\"outlinewidth\": 0, \"ticks\": \"\"}, \"colorscale\": [[0.0, \"#0d0887\"], [0.1111111111111111, \"#46039f\"], [0.2222222222222222, \"#7201a8\"], [0.3333333333333333, \"#9c179e\"], [0.4444444444444444, \"#bd3786\"], [0.5555555555555556, \"#d8576b\"], [0.6666666666666666, \"#ed7953\"], [0.7777777777777778, \"#fb9f3a\"], [0.8888888888888888, \"#fdca26\"], [1.0, \"#f0f921\"]], \"type\": \"surface\"}], \"table\": [{\"cells\": {\"fill\": {\"color\": \"#EBF0F8\"}, \"line\": {\"color\": \"white\"}}, \"header\": {\"fill\": {\"color\": \"#C8D4E3\"}, \"line\": {\"color\": \"white\"}}, \"type\": \"table\"}]}, \"layout\": {\"annotationdefaults\": {\"arrowcolor\": \"#2a3f5f\", \"arrowhead\": 0, \"arrowwidth\": 1}, \"coloraxis\": {\"colorbar\": {\"outlinewidth\": 0, \"ticks\": \"\"}}, \"colorscale\": {\"diverging\": [[0, \"#8e0152\"], [0.1, \"#c51b7d\"], [0.2, \"#de77ae\"], [0.3, \"#f1b6da\"], [0.4, \"#fde0ef\"], [0.5, \"#f7f7f7\"], [0.6, \"#e6f5d0\"], [0.7, \"#b8e186\"], [0.8, \"#7fbc41\"], [0.9, \"#4d9221\"], [1, \"#276419\"]], \"sequential\": [[0.0, \"#0d0887\"], [0.1111111111111111, \"#46039f\"], [0.2222222222222222, \"#7201a8\"], [0.3333333333333333, \"#9c179e\"], [0.4444444444444444, \"#bd3786\"], [0.5555555555555556, \"#d8576b\"], [0.6666666666666666, \"#ed7953\"], [0.7777777777777778, \"#fb9f3a\"], [0.8888888888888888, \"#fdca26\"], [1.0, \"#f0f921\"]], \"sequentialminus\": [[0.0, \"#0d0887\"], [0.1111111111111111, \"#46039f\"], [0.2222222222222222, \"#7201a8\"], [0.3333333333333333, \"#9c179e\"], [0.4444444444444444, \"#bd3786\"], [0.5555555555555556, \"#d8576b\"], [0.6666666666666666, \"#ed7953\"], [0.7777777777777778, \"#fb9f3a\"], [0.8888888888888888, \"#fdca26\"], [1.0, \"#f0f921\"]]}, \"colorway\": [\"#636efa\", \"#EF553B\", \"#00cc96\", \"#ab63fa\", \"#FFA15A\", \"#19d3f3\", \"#FF6692\", \"#B6E880\", \"#FF97FF\", \"#FECB52\"], \"font\": {\"color\": \"#2a3f5f\"}, \"geo\": {\"bgcolor\": \"white\", \"lakecolor\": \"white\", \"landcolor\": \"#E5ECF6\", \"showlakes\": true, \"showland\": true, \"subunitcolor\": \"white\"}, \"hoverlabel\": {\"align\": \"left\"}, \"hovermode\": \"closest\", \"mapbox\": {\"style\": \"light\"}, \"paper_bgcolor\": \"white\", \"plot_bgcolor\": \"#E5ECF6\", \"polar\": {\"angularaxis\": {\"gridcolor\": \"white\", \"linecolor\": \"white\", \"ticks\": \"\"}, \"bgcolor\": \"#E5ECF6\", \"radialaxis\": {\"gridcolor\": \"white\", \"linecolor\": \"white\", \"ticks\": \"\"}}, \"scene\": {\"xaxis\": {\"backgroundcolor\": \"#E5ECF6\", \"gridcolor\": \"white\", \"gridwidth\": 2, \"linecolor\": \"white\", \"showbackground\": true, \"ticks\": \"\", \"zerolinecolor\": \"white\"}, \"yaxis\": {\"backgroundcolor\": \"#E5ECF6\", \"gridcolor\": \"white\", \"gridwidth\": 2, \"linecolor\": \"white\", \"showbackground\": true, \"ticks\": \"\", \"zerolinecolor\": \"white\"}, \"zaxis\": {\"backgroundcolor\": \"#E5ECF6\", \"gridcolor\": \"white\", \"gridwidth\": 2, \"linecolor\": \"white\", \"showbackground\": true, \"ticks\": \"\", \"zerolinecolor\": \"white\"}}, \"shapedefaults\": {\"line\": {\"color\": \"#2a3f5f\"}}, \"ternary\": {\"aaxis\": {\"gridcolor\": \"white\", \"linecolor\": \"white\", \"ticks\": \"\"}, \"baxis\": {\"gridcolor\": \"white\", \"linecolor\": \"white\", \"ticks\": \"\"}, \"bgcolor\": \"#E5ECF6\", \"caxis\": {\"gridcolor\": \"white\", \"linecolor\": \"white\", \"ticks\": \"\"}}, \"title\": {\"x\": 0.05}, \"xaxis\": {\"automargin\": true, \"gridcolor\": \"white\", \"linecolor\": \"white\", \"ticks\": \"\", \"title\": {\"standoff\": 15}, \"zerolinecolor\": \"white\", \"zerolinewidth\": 2}, \"yaxis\": {\"automargin\": true, \"gridcolor\": \"white\", \"linecolor\": \"white\", \"ticks\": \"\", \"title\": {\"standoff\": 15}, \"zerolinecolor\": \"white\", \"zerolinewidth\": 2}}}, \"xaxis\": {\"anchor\": \"y\", \"domain\": [0.0, 1.0], \"title\": {\"text\": \"time\"}}, \"yaxis\": {\"anchor\": \"x\", \"domain\": [0.0, 1.0], \"title\": {\"text\": \"humidity\"}}},\n                        {\"responsive\": true}\n                    ).then(function(){\n                            \nvar gd = document.getElementById('ce55bdc2-3ce7-41e5-a895-100cdbccc46b');\nvar x = new MutationObserver(function (mutations, observer) {{\n        var display = window.getComputedStyle(gd).display;\n        if (!display || display === 'none') {{\n            console.log([gd, 'removed!']);\n            Plotly.purge(gd);\n            observer.disconnect();\n        }}\n}});\n\n// Listen for the removal of the full notebook cells\nvar notebookContainer = gd.closest('#notebook-container');\nif (notebookContainer) {{\n    x.observe(notebookContainer, {childList: true});\n}}\n\n// Listen for the clearing of the current output cell\nvar outputEl = gd.closest('.output');\nif (outputEl) {{\n    x.observe(outputEl, {childList: true});\n}}\n\n                        })\n                };\n                });\n            </script>\n        </div>"
     },
     "metadata": {}
    }
   ],
   "source": [
    "fig = px.line(df, y='humidity')\n",
    "fig.show()"
   ]
  },
  {
   "cell_type": "code",
   "execution_count": null,
   "metadata": {},
   "outputs": [],
   "source": []
  }
 ]
}