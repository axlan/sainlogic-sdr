{
 "cells": [
  {
   "cell_type": "code",
   "execution_count": null,
   "metadata": {},
   "outputs": [],
   "source": [
    "import struct\n",
    "\n",
    "filename = 'gqrx_20210508_054747_433900000_3200000_fc.raw'\n",
    "# filename = 'gqrx_20210508_054923_433900000_3200000_fc.raw'\n",
    "# filename = 'gqrx_20210508_230809_433900000_3200000_fc.raw'\n",
    "# filename = 'gqrx_20210508_230857_433900000_3200000_fc.raw'\n",
    "# filename = 'gqrx_20210508_230930_433900000_3200000_fc.raw'\n",
    "# filename = 'gqrx_20210508_231001_433900000_3200000_fc.raw'\n",
    "\n",
    "\n",
    "with open(f'out/{filename}.bin' ,'rb') as fd:\n",
    "    buffer = fd.read()\n",
    "\n",
    "for i in range(0,7):\n",
    "    print(i)\n",
    "    print(struct.unpack_from('>f',buffer[i:] ))\n",
    "    print(struct.unpack_from('<f',buffer[i:] ))"
   ]
  },
  {
   "cell_type": "code",
   "execution_count": null,
   "metadata": {},
   "outputs": [],
   "source": [
    "import struct\n",
    "\n",
    "filenames = ['n1.raw'\n",
    ",'ne.raw'\n",
    ",'e.raw'\n",
    ",'se.raw'\n",
    ",'s.raw'\n",
    ",'sw.raw'\n",
    ",'w.raw'\n",
    ",'nw.raw'\n",
    ",'n2.raw']\n",
    "\n",
    "for name in filenames:\n",
    "\n",
    "    with open(f'out/{name}.bin' ,'rb') as fd:\n",
    "        buffer = fd.read()\n",
    "\n",
    "    print(f'{buffer[6]:08b}')\n",
    "    print(struct.unpack('b', buffer[6:7]))\n",
    "    print(struct.unpack('B', buffer[6:7]))"
   ]
  },
  {
   "cell_type": "code",
   "execution_count": null,
   "metadata": {},
   "outputs": [],
   "source": [
    "import struct\n",
    "\n",
    "filenames = ['n1.raw'\n",
    ",'ne.raw'\n",
    ",'e.raw'\n",
    ",'se.raw'\n",
    ",'s.raw'\n",
    ",'sw.raw'\n",
    ",'w.raw'\n",
    ",'nw.raw'\n",
    ",'n2.raw',\n",
    "'gqrx_20210508_054747_433900000_3200000_fc.raw',\n",
    "'gqrx_20210508_054923_433900000_3200000_fc.raw',\n",
    "'gqrx_20210508_230809_433900000_3200000_fc.raw',\n",
    "'gqrx_20210508_230857_433900000_3200000_fc.raw',\n",
    "'gqrx_20210508_230930_433900000_3200000_fc.raw',\n",
    "'gqrx_20210508_231001_433900000_3200000_fc.raw']\n",
    "\n",
    "for name in filenames:\n",
    "\n",
    "    with open(f'out/{name}.bin' ,'rb') as fd:\n",
    "        buffer = fd.read()\n",
    "    print(','.join([f'{val:03}' for val in buffer]), name)"
   ]
  },
  {
   "cell_type": "code",
   "execution_count": null,
   "metadata": {},
   "outputs": [],
   "source": [
    "import numpy as np\n",
    "\n",
    "a = np.array([1,2,4])\n",
    "\n",
    "print(np.append(a,10))"
   ]
  },
  {
   "cell_type": "code",
   "execution_count": null,
   "metadata": {},
   "outputs": [],
   "source": []
  }
 ],
 "metadata": {
  "kernelspec": {
   "display_name": "Python 3.8.5 64-bit",
   "name": "python385jvsc74a57bd031f2aee4e71d21fbe5cf8b01ff0e069b9275f58929596ceb00d14d90e3e16cd6"
  },
  "language_info": {
   "codemirror_mode": {
    "name": "ipython",
    "version": 3
   },
   "file_extension": ".py",
   "mimetype": "text/x-python",
   "name": "python",
   "nbconvert_exporter": "python",
   "pygments_lexer": "ipython3",
   "version": "3.8.5"
  },
  "metadata": {
   "interpreter": {
    "hash": "31f2aee4e71d21fbe5cf8b01ff0e069b9275f58929596ceb00d14d90e3e16cd6"
   }
  }
 },
 "nbformat": 4,
 "nbformat_minor": 2
}
