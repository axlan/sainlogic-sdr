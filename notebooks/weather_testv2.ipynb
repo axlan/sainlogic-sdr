{
 "cells": [
  {
   "cell_type": "code",
   "execution_count": null,
   "metadata": {},
   "outputs": [],
   "source": [
    "import numpy as np\n",
    "\n",
    "fs = 3.2e6\n",
    "threshold = .015\n",
    "\n",
    "dir = '/home/axlan/data/'\n",
    "filename = 'gqrx_20210508_054747_433900000_3200000_fc.raw'\n",
    "# filename = 'gqrx_20210508_054923_433900000_3200000_fc.raw'\n",
    "# filename = 'gqrx_20210508_230809_433900000_3200000_fc.raw'\n",
    "# filename = 'gqrx_20210508_230857_433900000_3200000_fc.raw'\n",
    "# filename = 'gqrx_20210508_230930_433900000_3200000_fc.raw'\n",
    "# filename = 'gqrx_20210508_231001_433900000_3200000_fc.raw'\n",
    "\n",
    "#fs = 1.05e6\n",
    "#threshold = .1\n",
    "# filename = 'n1.raw'\n",
    "# filename = 'ne.raw'\n",
    "# filename = 'e.raw'\n",
    "# filename = 'se.raw'\n",
    "# filename = 's.raw'\n",
    "# filename = 'sw.raw'\n",
    "# filename = 'w.raw'\n",
    "# filename = 'nw.raw'\n",
    "# filename = 'n2.raw'\n",
    "\n",
    "\n",
    "aprox_symbol_duration = 0.0004625\n",
    "aprox_symbol_samples = int(aprox_symbol_duration * fs)\n",
    "single_burst = True\n",
    "\n",
    "data = np.fromfile(dir + filename, dtype=np.csingle)\n",
    "count = len(data)\n",
    "mag_data = np.abs(data)\n",
    "\n"
   ]
  },
  {
   "cell_type": "code",
   "execution_count": null,
   "metadata": {},
   "outputs": [],
   "source": [
    "import matplotlib\n",
    "import matplotlib.pyplot as plt\n",
    "\n",
    "plt.hist(mag_data)\n",
    "plt.show()"
   ]
  },
  {
   "cell_type": "code",
   "execution_count": null,
   "metadata": {},
   "outputs": [],
   "source": [
    "msg_gap = 12\n",
    "gap_samples = msg_gap * aprox_symbol_samples\n",
    "detect_treshold = threshold * gap_samples\n",
    "gap_drop = 0.75\n",
    "\n",
    "test_len = int(count / gap_samples) * gap_samples\n",
    "\n",
    "\n",
    "if single_burst:\n",
    "    msg2_start = np.argmax(mag_data > threshold)\n",
    "else:\n",
    "    rs = mag_data[:test_len].reshape((-1, gap_samples ))\n",
    "    sums = np.sum(rs ,axis=1)\n",
    "\n",
    "\n",
    "    plt.plot(sums,'x')\n",
    "    plt.show()\n",
    "\n",
    "    first_start_idx = np.argmax(sums>detect_treshold) + 1\n",
    "    drop_threshold = sums[first_start_idx] * gap_drop\n",
    "    drop_idx = np.argmax(sums[first_start_idx:] < drop_threshold)\n",
    "\n",
    "    print(first_start_idx)\n",
    "    print(first_start_idx + drop_idx)\n",
    "\n",
    "    gap_idx = int((first_start_idx + drop_idx + 0.5) * gap_samples)\n",
    "\n",
    "    msg2_start = gap_idx + np.argmax(mag_data[gap_idx:] > threshold)\n",
    "\n",
    "plt.plot(mag_data[msg2_start-aprox_symbol_samples*2:msg2_start+aprox_symbol_samples*10],'x')\n",
    "plt.show()\n",
    "\n"
   ]
  },
  {
   "cell_type": "code",
   "execution_count": null,
   "metadata": {
    "tags": []
   },
   "outputs": [],
   "source": [
    "# reshape_factor = 4\n",
    "# number_symbols = 256\n",
    "\n",
    "# reshape_len = int(aprox_symbol_samples/reshape_factor)\n",
    "\n",
    "# rs = mag_data[msg2_start:msg2_start+reshape_len*reshape_factor*256].reshape((-1,reshape_len))\n",
    "\n",
    "# sums = np.sum(rs ,axis=1)\n",
    "\n",
    "# plt.plot(sums,'x')\n",
    "# plt.show()\n",
    "\n",
    "# reshape_threshold = reshape_len * threshold\n",
    "\n",
    "# leveled = sums > reshape_threshold\n",
    "\n",
    "# plt.plot(leveled[:reshape_factor*60],'x-')\n",
    "# plt.show()\n",
    "\n"
   ]
  },
  {
   "cell_type": "code",
   "execution_count": null,
   "metadata": {},
   "outputs": [],
   "source": [
    "\n",
    "num_bits = 128\n",
    "\n",
    "bits = [True]\n",
    "\n",
    "max_len = int(aprox_symbol_samples * 1.5)\n",
    "\n",
    "threshold_data = mag_data[msg2_start:] > threshold\n",
    "\n",
    "while len(bits) < num_bits:\n",
    "    neg_index = np.argmax(threshold_data != bits[-1])\n",
    "    assert(neg_index != 0)\n",
    "    assert(neg_index < max_len)\n",
    "    next_idx = neg_index + max_len\n",
    "    if len(bits) == 9 and not threshold_data[next_idx]:\n",
    "        bits = [True] + bits\n",
    "    bits.append(threshold_data[next_idx])\n",
    "    threshold_data = threshold_data[next_idx:]\n",
    "\n",
    "bits = [ int(i) for i in bits ]\n",
    "\n",
    "\n",
    "print(bits)\n",
    "\n",
    "\n",
    "#[1, 1, 1, 1, 1, 1, 1, 1, 1, 0, 1, 0, 1, 0, 0, 1, 1, 0, 0, 1, 1, 1, 1, 0, 0, 1, 0, 0, 1, 0, 0, 0, 0, 0, 0, 0, 0, 0, 0, 0, 0, 0, 0, 0, 0, 0, 0, 0, 1, 0, 0, 0, 0, 1, 0, 0, 0, 0, 0, 0, 0, 0, 0, 0, 0, 0, 0, 0, 0, 0, 0, 1, 0, 0, 0, 0, 1, 0, 0, 0, 1, 1, 0, 0, 0, 1, 0, 0, 0, 1, 1, 0, 0, 1, 1, 1, 1, 1, 1, 1, 1, 1, 1, 1, 1, 1, 1, 1, 0, 1, 1, 1, 1, 1, 1, 1, 0, 1, 1, 1, 0, 1, 0, 1, 1, 1, 0, 0]\n"
   ]
  },
  {
   "cell_type": "code",
   "execution_count": null,
   "metadata": {},
   "outputs": [],
   "source": [
    "from crc_calc import crc8\n",
    "\n",
    "a = np.array(bits)\n",
    "rs = a.reshape((-1, 8))\n",
    "print(rs)\n",
    "\n",
    "bytes = []\n",
    "for val in rs:\n",
    "    binval = ''.join([str(i) for i in val])\n",
    "    bytes.append(int(binval,2))\n",
    "\n",
    "\n",
    "print(bytes)\n",
    "print(''.join([ f'{i:02x}' for i in bytes  ]))\n",
    "\n",
    "print(crc8(bytes[:-1]))\n",
    "\n",
    "\n",
    "# ./reveng -w 8 -s ffd4c5e000009b0012846e32fffbfb3c ffd4c5e000009a0012846e32fffbfb89\n",
    "# reveng: warning: you have only given 2 samples\n",
    "# reveng: warning: to reduce false positives, give 4 or more samples\n",
    "# width=8  poly=0x31  init=0xff  refin=false  refout=false  xorout=0x00  check=0xf7  residue=0x00  name=\"CRC-8/NRSC-5\"\n",
    "\n",
    "# ./reveng -w 8 -p 31 -i ff -m CRC-8/NRSC-5 -c ffd4cf240000420000846233fffbfb\n",
    "# ./reveng -m CRC-8/NRSC-5 -c ffd4cf240000420000846233fffbfb\n"
   ]
  },
  {
   "cell_type": "code",
   "execution_count": null,
   "metadata": {},
   "outputs": [],
   "source": [
    "with open(f'out/{filename}.bin' ,'wb') as fd:\n",
    "    fd.write(bytearray(bytes))"
   ]
  },
  {
   "cell_type": "code",
   "execution_count": null,
   "metadata": {},
   "outputs": [],
   "source": []
  }
 ],
 "metadata": {
  "kernelspec": {
   "display_name": "Python 3.8.5 64-bit",
   "name": "python385jvsc74a57bd031f2aee4e71d21fbe5cf8b01ff0e069b9275f58929596ceb00d14d90e3e16cd6"
  },
  "language_info": {
   "codemirror_mode": {
    "name": "ipython",
    "version": 3
   },
   "file_extension": ".py",
   "mimetype": "text/x-python",
   "name": "python",
   "nbconvert_exporter": "python",
   "pygments_lexer": "ipython3",
   "version": "3.8.5"
  },
  "metadata": {
   "interpreter": {
    "hash": "31f2aee4e71d21fbe5cf8b01ff0e069b9275f58929596ceb00d14d90e3e16cd6"
   }
  }
 },
 "nbformat": 4,
 "nbformat_minor": 2
}
